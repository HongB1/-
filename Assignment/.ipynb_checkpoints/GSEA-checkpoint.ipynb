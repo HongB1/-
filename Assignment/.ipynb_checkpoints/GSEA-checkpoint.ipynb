{
 "cells": [
  {
   "cell_type": "markdown",
   "metadata": {},
   "source": [
    "### 경로설정 및 디렉토리 생성"
   ]
  },
  {
   "cell_type": "code",
   "execution_count": 3,
   "metadata": {
    "vscode": {
     "languageId": "r"
    }
   },
   "outputs": [
    {
     "data": {
      "text/html": [
       "'/Users/hongb/Dropbox/github/생물정보학특론'"
      ],
      "text/latex": [
       "'/Users/hongb/Dropbox/github/생물정보학특론'"
      ],
      "text/markdown": [
       "'/Users/hongb/Dropbox/github/생물정보학특론'"
      ],
      "text/plain": [
       "[1] \"/Users/hongb/Dropbox/github/생물정보학특론\""
      ]
     },
     "metadata": {},
     "output_type": "display_data"
    },
    {
     "data": {
      "text/html": [
       "'/Users/hongb/Dropbox/github/생물정보학특론'"
      ],
      "text/latex": [
       "'/Users/hongb/Dropbox/github/생물정보학특론'"
      ],
      "text/markdown": [
       "'/Users/hongb/Dropbox/github/생물정보학특론'"
      ],
      "text/plain": [
       "[1] \"/Users/hongb/Dropbox/github/생물정보학특론\""
      ]
     },
     "metadata": {},
     "output_type": "display_data"
    }
   ],
   "source": [
    "getwd()\n",
    "setwd(\"/Users/hongb/Dropbox/github/생물정보학특론\")\n",
    "getwd()"
   ]
  },
  {
   "cell_type": "code",
   "execution_count": 4,
   "metadata": {
    "vscode": {
     "languageId": "r"
    }
   },
   "outputs": [],
   "source": [
    "# Create the data folder if it doesn't exist\n",
    "if (!dir.exists(\"data\")) {\n",
    "  dir.create(\"data\")\n",
    "}\n",
    "\n",
    "# Define the file path to the plots directory\n",
    "plots_dir <- \"plots\" # Can replace with path to desired output plots directory\n",
    "\n",
    "# Create the plots folder if it doesn't exist\n",
    "if (!dir.exists(plots_dir)) {\n",
    "  dir.create(plots_dir)\n",
    "}\n",
    "\n",
    "# Define the file path to the results directory\n",
    "results_dir <- \"results\" # Can replace with path to desired output results directory\n",
    "\n",
    "# Create the results folder if it doesn't exist\n",
    "if (!dir.exists(results_dir)) {\n",
    "  dir.create(results_dir)\n",
    "}"
   ]
  },
  {
   "cell_type": "markdown",
   "metadata": {},
   "source": [
    "### 필요한 패키지 설치"
   ]
  },
  {
   "cell_type": "code",
   "execution_count": 6,
   "metadata": {},
   "outputs": [
    {
     "name": "stderr",
     "output_type": "stream",
     "text": [
      "'getOption(\"repos\")' replaces Bioconductor standard repositories, see\n",
      "'?repositories' for details\n",
      "\n",
      "replacement repositories:\n",
      "    CRAN: https://cran.r-project.org\n",
      "\n",
      "\n",
      "Bioconductor version 3.15 (BiocManager 1.30.18), R 4.2.1 (2022-06-23)\n",
      "\n",
      "Warning message:\n",
      "“package(s) not installed when version(s) same as current; use `force = TRUE` to\n",
      "  re-install: 'clusterProfiler'”\n"
     ]
    },
    {
     "data": {
      "text/html": [
       "TRUE"
      ],
      "text/latex": [
       "TRUE"
      ],
      "text/markdown": [
       "TRUE"
      ],
      "text/plain": [
       "[1] TRUE"
      ]
     },
     "metadata": {},
     "output_type": "display_data"
    },
    {
     "data": {
      "text/html": [
       "TRUE"
      ],
      "text/latex": [
       "TRUE"
      ],
      "text/markdown": [
       "TRUE"
      ],
      "text/plain": [
       "[1] TRUE"
      ]
     },
     "metadata": {},
     "output_type": "display_data"
    }
   ],
   "source": [
    "# Define the file path to the results directory\n",
    "results_dir <- \"results\" # Can replace with path to desired output results directory\n",
    "\n",
    "# Create the results folder if it doesn't exist\n",
    "if (!dir.exists(results_dir)) {\n",
    "  dir.create(results_dir)\n",
    "}\n",
    "\n",
    "# clusterProfiler installation\n",
    "if (!require(\"BiocManager\", quietly = TRUE))\n",
    "  install.packages(\"BiocManager\")\n",
    "\n",
    "BiocManager::install(\"clusterProfiler\")\n",
    "\"clusterProfiler\" %in% installed.packages()\n",
    "\n",
    "# msigdbr installation\n",
    "if (!(\"msigdbr\" %in% installed.packages())) {\n",
    "  # Install this package if it isn't installed yet\n",
    "  BiocManager::install(\"msigdbr\", update = FALSE)\n",
    "}\n",
    "\"msigdbr\" %in% installed.packages()\n",
    "\n",
    "# \"org.Mm.eg.db\" installation\n",
    "if (!(\"org.Mm.eg.db\" %in% installed.packages())) {\n",
    "  # Install this package if it isn't installed yet\n",
    "  BiocManager::install(\"org.Mm.eg.db\", update = FALSE)\n",
    "}"
   ]
  },
  {
   "cell_type": "code",
   "execution_count": 13,
   "metadata": {},
   "outputs": [
    {
     "name": "stderr",
     "output_type": "stream",
     "text": [
      "\n",
      "\n",
      "clusterProfiler v4.4.4  For help: https://yulab-smu.top/biomedical-knowledge-mining-book/\n",
      "\n",
      "If you use clusterProfiler in published research, please cite:\n",
      "T Wu, E Hu, S Xu, M Chen, P Guo, Z Dai, T Feng, L Zhou, W Tang, L Zhan, X Fu, S Liu, X Bo, and G Yu. clusterProfiler 4.0: A universal enrichment tool for interpreting omics data. The Innovation. 2021, 2(3):100141\n",
      "\n",
      "\n",
      "다음의 패키지를 부착합니다: ‘clusterProfiler’\n",
      "\n",
      "\n",
      "The following object is masked from ‘package:stats’:\n",
      "\n",
      "    filter\n",
      "\n",
      "\n",
      "필요한 패키지를 로딩중입니다: AnnotationDbi\n",
      "\n",
      "필요한 패키지를 로딩중입니다: stats4\n",
      "\n",
      "필요한 패키지를 로딩중입니다: BiocGenerics\n",
      "\n",
      "\n",
      "다음의 패키지를 부착합니다: ‘BiocGenerics’\n",
      "\n",
      "\n",
      "The following objects are masked from ‘package:stats’:\n",
      "\n",
      "    IQR, mad, sd, var, xtabs\n",
      "\n",
      "\n",
      "The following objects are masked from ‘package:base’:\n",
      "\n",
      "    anyDuplicated, append, as.data.frame, basename, cbind, colnames,\n",
      "    dirname, do.call, duplicated, eval, evalq, Filter, Find, get, grep,\n",
      "    grepl, intersect, is.unsorted, lapply, Map, mapply, match, mget,\n",
      "    order, paste, pmax, pmax.int, pmin, pmin.int, Position, rank,\n",
      "    rbind, Reduce, rownames, sapply, setdiff, sort, table, tapply,\n",
      "    union, unique, unsplit, which.max, which.min\n",
      "\n",
      "\n",
      "필요한 패키지를 로딩중입니다: Biobase\n",
      "\n",
      "Welcome to Bioconductor\n",
      "\n",
      "    Vignettes contain introductory material; view with\n",
      "    'browseVignettes()'. To cite Bioconductor, see\n",
      "    'citation(\"Biobase\")', and for packages 'citation(\"pkgname\")'.\n",
      "\n",
      "\n",
      "필요한 패키지를 로딩중입니다: IRanges\n",
      "\n",
      "필요한 패키지를 로딩중입니다: S4Vectors\n",
      "\n",
      "\n",
      "다음의 패키지를 부착합니다: ‘S4Vectors’\n",
      "\n",
      "\n",
      "The following object is masked from ‘package:clusterProfiler’:\n",
      "\n",
      "    rename\n",
      "\n",
      "\n",
      "The following objects are masked from ‘package:base’:\n",
      "\n",
      "    expand.grid, I, unname\n",
      "\n",
      "\n",
      "\n",
      "다음의 패키지를 부착합니다: ‘IRanges’\n",
      "\n",
      "\n",
      "The following object is masked from ‘package:clusterProfiler’:\n",
      "\n",
      "    slice\n",
      "\n",
      "\n",
      "\n",
      "다음의 패키지를 부착합니다: ‘AnnotationDbi’\n",
      "\n",
      "\n",
      "The following object is masked from ‘package:clusterProfiler’:\n",
      "\n",
      "    select\n",
      "\n",
      "\n",
      "\n",
      "\n"
     ]
    }
   ],
   "source": [
    "# Attach the library\n",
    "library(clusterProfiler)\n",
    "\n",
    "# Package that contains MSigDB gene sets in tidy format\n",
    "library(msigdbr)\n",
    "\n",
    "# Human annotation package we'll use for gene identifier conversion\n",
    "library(org.Mm.eg.db)\n",
    "\n",
    "# We will need this so we can use the pipe: %>%\n",
    "library(magrittr)\n"
   ]
  },
  {
   "cell_type": "markdown",
   "metadata": {},
   "source": [
    "## 4.2 Download data file\n",
    "We will read in the differential expression results we will download from online. These results are from an acute lymphoblastic leukemia (ALL) mouse lymphoid cell model we used for differential expression analysis using DESeq2 (Love et al. 2014). The table contains summary statistics including Ensembl gene IDs, log2 fold change values, and adjusted p-values (FDR in this case). We can identify differentially regulated genes by filtering these results and use this list as input to GSEA.\n",
    "\n",
    "Instead of using the URL below, you can use a file path to a TSV file with your desired gene list results. First we will assign the URL to its own variable called, dge_url."
   ]
  },
  {
   "cell_type": "code",
   "execution_count": 8,
   "metadata": {},
   "outputs": [
    {
     "data": {
      "text/html": [
       "TRUE"
      ],
      "text/latex": [
       "TRUE"
      ],
      "text/markdown": [
       "TRUE"
      ],
      "text/plain": [
       "[1] TRUE"
      ]
     },
     "metadata": {},
     "output_type": "display_data"
    }
   ],
   "source": [
    "# Define the url to your differential expression results file\n",
    "dge_url <- \"https://refinebio-examples.s3.us-east-2.amazonaws.com/03-rnaseq/results/SRP123625/SRP123625_differential_expression_results.tsv\"\n",
    "\n",
    "# We will also declare a file path to where we want this file to be downloaded to and we can use the same file path later for reading the file into R.\n",
    "dge_results_file <- file.path(\n",
    "  results_dir,\n",
    "  \"SRP123625_differential_expression_results.tsv\"\n",
    ")\n",
    "\n",
    "# Using the URL (dge_url) and file path (dge_results_file) we can download the file and use the destfile argument to specify where it should be saved.\n",
    "download.file(\n",
    "  dge_url,\n",
    "  # The file will be saved to this location and with this name\n",
    "  destfile = dge_results_file\n",
    ")\n",
    "\n",
    "# Check if the results file exists\n",
    "file.exists(dge_results_file)"
   ]
  },
  {
   "cell_type": "markdown",
   "metadata": {},
   "source": [
    "## 4.3 Import data\n",
    "Read in the file that has differential expression results."
   ]
  },
  {
   "cell_type": "code",
   "execution_count": 9,
   "metadata": {},
   "outputs": [
    {
     "name": "stderr",
     "output_type": "stream",
     "text": [
      "\u001b[1mRows: \u001b[22m\u001b[34m19887\u001b[39m \u001b[1mColumns: \u001b[22m\u001b[34m7\u001b[39m\n",
      "\u001b[36m──\u001b[39m \u001b[1mColumn specification\u001b[22m \u001b[36m────────────────────────────────────────────────────────────────────────────────────────────────────────────────────\u001b[39m\n",
      "\u001b[1mDelimiter:\u001b[22m \"\\t\"\n",
      "\u001b[31mchr\u001b[39m (1): Gene\n",
      "\u001b[32mdbl\u001b[39m (5): baseMean, log2FoldChange, lfcSE, pvalue, padj\n",
      "\u001b[33mlgl\u001b[39m (1): threshold\n",
      "\n",
      "\u001b[36mℹ\u001b[39m Use `spec()` to retrieve the full column specification for this data.\n",
      "\u001b[36mℹ\u001b[39m Specify the column types or set `show_col_types = FALSE` to quiet this message.\n"
     ]
    }
   ],
   "source": [
    "# Read in the contents of the differential expression results file\n",
    "dge_df <- readr::read_tsv(dge_results_file)"
   ]
  },
  {
   "cell_type": "code",
   "execution_count": 11,
   "metadata": {},
   "outputs": [
    {
     "data": {
      "text/html": [
       "<table class=\"dataframe\">\n",
       "<caption>A spec_tbl_df: 19887 × 7</caption>\n",
       "<thead>\n",
       "\t<tr><th scope=col>Gene</th><th scope=col>baseMean</th><th scope=col>log2FoldChange</th><th scope=col>lfcSE</th><th scope=col>pvalue</th><th scope=col>padj</th><th scope=col>threshold</th></tr>\n",
       "\t<tr><th scope=col>&lt;chr&gt;</th><th scope=col>&lt;dbl&gt;</th><th scope=col>&lt;dbl&gt;</th><th scope=col>&lt;dbl&gt;</th><th scope=col>&lt;dbl&gt;</th><th scope=col>&lt;dbl&gt;</th><th scope=col>&lt;lgl&gt;</th></tr>\n",
       "</thead>\n",
       "<tbody>\n",
       "\t<tr><td>ENSMUSG00000026623</td><td> 410.22455</td><td>13.349409</td><td>3.1785683</td><td>3.136545e-23</td><td>9.846024e-21</td><td>TRUE</td></tr>\n",
       "\t<tr><td>ENSMUSG00000053522</td><td> 264.28133</td><td>12.641963</td><td>3.1094261</td><td>3.637922e-21</td><td>8.755266e-19</td><td>TRUE</td></tr>\n",
       "\t<tr><td>ENSMUSG00000047361</td><td> 244.28143</td><td>12.518239</td><td>3.0932613</td><td>4.912369e-21</td><td>1.144107e-18</td><td>TRUE</td></tr>\n",
       "\t<tr><td>ENSMUSG00000037325</td><td>3450.35769</td><td>12.192777</td><td>0.7264098</td><td>1.238587e-60</td><td>1.788520e-57</td><td>TRUE</td></tr>\n",
       "\t<tr><td>ENSMUSG00000106334</td><td> 189.21930</td><td>12.100253</td><td>3.0595032</td><td>1.840175e-19</td><td>3.742553e-17</td><td>TRUE</td></tr>\n",
       "\t<tr><td>ENSMUSG00000039315</td><td> 133.42104</td><td>11.524815</td><td>3.0062669</td><td>1.335432e-17</td><td>2.380696e-15</td><td>TRUE</td></tr>\n",
       "\t<tr><td>ENSMUSG00000066721</td><td> 670.55321</td><td>10.208999</td><td>0.8314783</td><td>3.437166e-33</td><td>1.711471e-30</td><td>TRUE</td></tr>\n",
       "\t<tr><td>ENSMUSG00000029166</td><td>  57.22544</td><td>10.095615</td><td>2.8716206</td><td>2.067256e-13</td><td>2.529761e-11</td><td>TRUE</td></tr>\n",
       "\t<tr><td>ENSMUSG00000020169</td><td>  53.04150</td><td> 9.981246</td><td>2.8613464</td><td>2.890766e-13</td><td>3.393712e-11</td><td>TRUE</td></tr>\n",
       "\t<tr><td>ENSMUSG00000022215</td><td>  51.90979</td><td> 9.951855</td><td>2.8500409</td><td>1.909952e-13</td><td>2.357240e-11</td><td>TRUE</td></tr>\n",
       "\t<tr><td>ENSMUSG00000000881</td><td> 131.58498</td><td> 9.171668</td><td>1.3056700</td><td>3.664344e-15</td><td>5.399299e-13</td><td>TRUE</td></tr>\n",
       "\t<tr><td>ENSMUSG00000038702</td><td>  32.66822</td><td> 9.140427</td><td>2.7691056</td><td>2.483824e-11</td><td>2.109789e-09</td><td>TRUE</td></tr>\n",
       "\t<tr><td>ENSMUSG00000079407</td><td>  32.91506</td><td> 9.125226</td><td>2.8177699</td><td>1.811913e-10</td><td>1.399145e-08</td><td>TRUE</td></tr>\n",
       "\t<tr><td>ENSMUSG00000073000</td><td> 210.42350</td><td> 8.507566</td><td>0.8281258</td><td>8.647316e-24</td><td>2.837892e-21</td><td>TRUE</td></tr>\n",
       "\t<tr><td>ENSMUSG00000032387</td><td>  24.88226</td><td> 8.477897</td><td>2.9008853</td><td>1.348488e-07</td><td>5.192434e-06</td><td>TRUE</td></tr>\n",
       "\t<tr><td>ENSMUSG00000070424</td><td>  20.01061</td><td> 8.209473</td><td>2.7694876</td><td>2.732933e-08</td><td>1.319851e-06</td><td>TRUE</td></tr>\n",
       "\t<tr><td>ENSMUSG00000053617</td><td>  21.94087</td><td> 8.194521</td><td>2.9275809</td><td>7.372479e-07</td><td>2.299322e-05</td><td>TRUE</td></tr>\n",
       "\t<tr><td>ENSMUSG00000038526</td><td>  63.01304</td><td> 7.997237</td><td>1.3967729</td><td>1.177645e-10</td><td>9.447327e-09</td><td>TRUE</td></tr>\n",
       "\t<tr><td>ENSMUSG00000086910</td><td>  17.83028</td><td> 7.983706</td><td>2.7665606</td><td>9.373232e-08</td><td>3.787128e-06</td><td>TRUE</td></tr>\n",
       "\t<tr><td>ENSMUSG00000048905</td><td>  57.12056</td><td> 7.888709</td><td>1.3261961</td><td>2.527393e-11</td><td>2.134243e-09</td><td>TRUE</td></tr>\n",
       "\t<tr><td>ENSMUSG00000069581</td><td>  14.90450</td><td> 7.685038</td><td>2.7140648</td><td>1.453044e-07</td><td>5.507076e-06</td><td>TRUE</td></tr>\n",
       "\t<tr><td>ENSMUSG00000079598</td><td>  14.39456</td><td> 7.596858</td><td>2.7290317</td><td>3.156423e-07</td><td>1.093016e-05</td><td>TRUE</td></tr>\n",
       "\t<tr><td>ENSMUSG00000075524</td><td>  14.54173</td><td> 7.594169</td><td>2.7439040</td><td>4.280477e-07</td><td>1.430789e-05</td><td>TRUE</td></tr>\n",
       "\t<tr><td>ENSMUSG00000027082</td><td> 258.91185</td><td> 7.580670</td><td>1.2089901</td><td>1.841657e-11</td><td>1.631504e-09</td><td>TRUE</td></tr>\n",
       "\t<tr><td>ENSMUSG00000074111</td><td>  17.70827</td><td> 7.501291</td><td>3.1369326</td><td>          NA</td><td>          NA</td><td>  NA</td></tr>\n",
       "\t<tr><td>ENSMUSG00000090996</td><td>  13.21887</td><td> 7.466754</td><td>2.6951037</td><td>3.080835e-07</td><td>1.076352e-05</td><td>TRUE</td></tr>\n",
       "\t<tr><td>ENSMUSG00000054117</td><td>  13.02134</td><td> 7.445788</td><td>2.6857347</td><td>2.834273e-07</td><td>9.982171e-06</td><td>TRUE</td></tr>\n",
       "\t<tr><td>ENSMUSG00000075015</td><td>  13.21627</td><td> 7.444993</td><td>2.7086725</td><td>4.514340e-07</td><td>1.495116e-05</td><td>TRUE</td></tr>\n",
       "\t<tr><td>ENSMUSG00000086544</td><td>  13.93931</td><td> 7.358853</td><td>2.8593383</td><td>5.798758e-06</td><td>1.361529e-04</td><td>TRUE</td></tr>\n",
       "\t<tr><td>ENSMUSG00000104667</td><td> 772.59002</td><td> 7.275750</td><td>0.4441811</td><td>3.564468e-61</td><td>5.718990e-58</td><td>TRUE</td></tr>\n",
       "\t<tr><td>⋮</td><td>⋮</td><td>⋮</td><td>⋮</td><td>⋮</td><td>⋮</td><td>⋮</td></tr>\n",
       "\t<tr><td>ENSMUSG00000032246</td><td>   42.82579</td><td> -5.934663</td><td>1.2645746</td><td> 2.208047e-07</td><td> 8.092435e-06</td><td>TRUE</td></tr>\n",
       "\t<tr><td>ENSMUSG00000015947</td><td>   27.07810</td><td> -5.956108</td><td>1.1125033</td><td> 4.111704e-08</td><td> 1.861223e-06</td><td>TRUE</td></tr>\n",
       "\t<tr><td>ENSMUSG00000069601</td><td>  322.06452</td><td> -5.969960</td><td>0.3341975</td><td> 6.592343e-72</td><td> 1.359906e-68</td><td>TRUE</td></tr>\n",
       "\t<tr><td>ENSMUSG00000040562</td><td>  161.80296</td><td> -6.013093</td><td>0.6100689</td><td> 4.402392e-24</td><td> 1.478385e-21</td><td>TRUE</td></tr>\n",
       "\t<tr><td>ENSMUSG00000066158</td><td>   19.73847</td><td> -6.153932</td><td>1.5609528</td><td> 2.775853e-06</td><td> 7.209230e-05</td><td>TRUE</td></tr>\n",
       "\t<tr><td>ENSMUSG00000022957</td><td> 1183.09145</td><td> -6.326897</td><td>0.9199534</td><td> 2.597853e-13</td><td> 3.074835e-11</td><td>TRUE</td></tr>\n",
       "\t<tr><td>ENSMUSG00000056071</td><td>   67.57760</td><td> -6.327571</td><td>1.1252521</td><td> 1.710768e-09</td><td> 1.078755e-07</td><td>TRUE</td></tr>\n",
       "\t<tr><td>ENSMUSG00000036185</td><td>  173.07526</td><td> -6.390516</td><td>0.5309960</td><td> 5.249831e-34</td><td> 2.707413e-31</td><td>TRUE</td></tr>\n",
       "\t<tr><td>ENSMUSG00000030303</td><td>  282.66503</td><td> -6.664104</td><td>1.1911914</td><td> 8.301374e-10</td><td> 5.575434e-08</td><td>TRUE</td></tr>\n",
       "\t<tr><td>ENSMUSG00000102752</td><td>   28.98671</td><td> -6.778219</td><td>1.5551445</td><td> 3.683846e-07</td><td> 1.251641e-05</td><td>TRUE</td></tr>\n",
       "\t<tr><td>ENSMUSG00000104271</td><td>    8.99593</td><td> -6.834012</td><td>2.7573912</td><td> 6.329788e-06</td><td> 1.450828e-04</td><td>TRUE</td></tr>\n",
       "\t<tr><td>ENSMUSG00000033998</td><td>   30.30049</td><td> -6.999020</td><td>1.3580741</td><td> 5.107514e-09</td><td> 2.814981e-07</td><td>TRUE</td></tr>\n",
       "\t<tr><td>ENSMUSG00000089849</td><td>   10.71906</td><td> -7.044505</td><td>2.8750724</td><td> 1.153927e-05</td><td> 2.407906e-04</td><td>TRUE</td></tr>\n",
       "\t<tr><td>ENSMUSG00000039126</td><td>  288.38939</td><td> -7.071380</td><td>0.9767559</td><td> 2.180970e-14</td><td> 2.889285e-12</td><td>TRUE</td></tr>\n",
       "\t<tr><td>ENSMUSG00000029304</td><td>24083.16628</td><td> -7.084854</td><td>0.9734113</td><td> 1.287445e-14</td><td> 1.804922e-12</td><td>TRUE</td></tr>\n",
       "\t<tr><td>ENSMUSG00000057914</td><td>  281.90339</td><td> -7.125681</td><td>0.4877376</td><td> 1.503230e-48</td><td> 1.276861e-45</td><td>TRUE</td></tr>\n",
       "\t<tr><td>ENSMUSG00000086021</td><td>   12.04273</td><td> -7.368200</td><td>2.8195940</td><td> 1.850499e-06</td><td> 5.089753e-05</td><td>TRUE</td></tr>\n",
       "\t<tr><td>ENSMUSG00000026581</td><td> 1586.87766</td><td> -7.631329</td><td>0.3088944</td><td>1.211203e-135</td><td>5.829923e-132</td><td>TRUE</td></tr>\n",
       "\t<tr><td>ENSMUSG00000114884</td><td>   13.91392</td><td> -7.739422</td><td>2.7695185</td><td> 1.207932e-07</td><td> 4.714198e-06</td><td>TRUE</td></tr>\n",
       "\t<tr><td>ENSMUSG00000063760</td><td>  289.43608</td><td> -7.742490</td><td>0.5496143</td><td> 1.104594e-44</td><td> 7.595396e-42</td><td>TRUE</td></tr>\n",
       "\t<tr><td>ENSMUSG00000061082</td><td>   17.61069</td><td> -8.062727</td><td>2.8965175</td><td> 3.085939e-07</td><td> 1.076352e-05</td><td>TRUE</td></tr>\n",
       "\t<tr><td>ENSMUSG00000054793</td><td>   69.35435</td><td> -8.301111</td><td>1.3273803</td><td> 2.156455e-12</td><td> 2.256464e-10</td><td>TRUE</td></tr>\n",
       "\t<tr><td>ENSMUSG00000040314</td><td>   31.67465</td><td> -9.058650</td><td>3.0443459</td><td> 4.297391e-08</td><td> 1.939198e-06</td><td>TRUE</td></tr>\n",
       "\t<tr><td>ENSMUSG00000028497</td><td>  464.50389</td><td> -9.208271</td><td>1.2051912</td><td> 2.478164e-15</td><td> 3.766809e-13</td><td>TRUE</td></tr>\n",
       "\t<tr><td>ENSMUSG00000031012</td><td>  773.50276</td><td> -9.355544</td><td>0.6247092</td><td> 2.736266e-50</td><td> 2.634112e-47</td><td>TRUE</td></tr>\n",
       "\t<tr><td>ENSMUSG00000056054</td><td>   38.72288</td><td> -9.462881</td><td>3.0371478</td><td> 3.264880e-09</td><td> 1.932167e-07</td><td>TRUE</td></tr>\n",
       "\t<tr><td>ENSMUSG00000029915</td><td>   51.39773</td><td>-10.005142</td><td>3.0436184</td><td> 6.711294e-11</td><td> 5.475203e-09</td><td>TRUE</td></tr>\n",
       "\t<tr><td>ENSMUSG00000039109</td><td> 8650.47006</td><td>-10.582727</td><td>0.3392455</td><td>2.054445e-213</td><td>1.483309e-209</td><td>TRUE</td></tr>\n",
       "\t<tr><td>ENSMUSG00000001020</td><td> 1697.45124</td><td>-10.810637</td><td>1.1133590</td><td> 2.601820e-23</td><td> 8.348952e-21</td><td>TRUE</td></tr>\n",
       "\t<tr><td>ENSMUSG00000027965</td><td>  948.42494</td><td>-10.810899</td><td>0.8719122</td><td> 3.790090e-34</td><td> 2.026996e-31</td><td>TRUE</td></tr>\n",
       "</tbody>\n",
       "</table>\n"
      ],
      "text/latex": [
       "A spec\\_tbl\\_df: 19887 × 7\n",
       "\\begin{tabular}{lllllll}\n",
       " Gene & baseMean & log2FoldChange & lfcSE & pvalue & padj & threshold\\\\\n",
       " <chr> & <dbl> & <dbl> & <dbl> & <dbl> & <dbl> & <lgl>\\\\\n",
       "\\hline\n",
       "\t ENSMUSG00000026623 &  410.22455 & 13.349409 & 3.1785683 & 3.136545e-23 & 9.846024e-21 & TRUE\\\\\n",
       "\t ENSMUSG00000053522 &  264.28133 & 12.641963 & 3.1094261 & 3.637922e-21 & 8.755266e-19 & TRUE\\\\\n",
       "\t ENSMUSG00000047361 &  244.28143 & 12.518239 & 3.0932613 & 4.912369e-21 & 1.144107e-18 & TRUE\\\\\n",
       "\t ENSMUSG00000037325 & 3450.35769 & 12.192777 & 0.7264098 & 1.238587e-60 & 1.788520e-57 & TRUE\\\\\n",
       "\t ENSMUSG00000106334 &  189.21930 & 12.100253 & 3.0595032 & 1.840175e-19 & 3.742553e-17 & TRUE\\\\\n",
       "\t ENSMUSG00000039315 &  133.42104 & 11.524815 & 3.0062669 & 1.335432e-17 & 2.380696e-15 & TRUE\\\\\n",
       "\t ENSMUSG00000066721 &  670.55321 & 10.208999 & 0.8314783 & 3.437166e-33 & 1.711471e-30 & TRUE\\\\\n",
       "\t ENSMUSG00000029166 &   57.22544 & 10.095615 & 2.8716206 & 2.067256e-13 & 2.529761e-11 & TRUE\\\\\n",
       "\t ENSMUSG00000020169 &   53.04150 &  9.981246 & 2.8613464 & 2.890766e-13 & 3.393712e-11 & TRUE\\\\\n",
       "\t ENSMUSG00000022215 &   51.90979 &  9.951855 & 2.8500409 & 1.909952e-13 & 2.357240e-11 & TRUE\\\\\n",
       "\t ENSMUSG00000000881 &  131.58498 &  9.171668 & 1.3056700 & 3.664344e-15 & 5.399299e-13 & TRUE\\\\\n",
       "\t ENSMUSG00000038702 &   32.66822 &  9.140427 & 2.7691056 & 2.483824e-11 & 2.109789e-09 & TRUE\\\\\n",
       "\t ENSMUSG00000079407 &   32.91506 &  9.125226 & 2.8177699 & 1.811913e-10 & 1.399145e-08 & TRUE\\\\\n",
       "\t ENSMUSG00000073000 &  210.42350 &  8.507566 & 0.8281258 & 8.647316e-24 & 2.837892e-21 & TRUE\\\\\n",
       "\t ENSMUSG00000032387 &   24.88226 &  8.477897 & 2.9008853 & 1.348488e-07 & 5.192434e-06 & TRUE\\\\\n",
       "\t ENSMUSG00000070424 &   20.01061 &  8.209473 & 2.7694876 & 2.732933e-08 & 1.319851e-06 & TRUE\\\\\n",
       "\t ENSMUSG00000053617 &   21.94087 &  8.194521 & 2.9275809 & 7.372479e-07 & 2.299322e-05 & TRUE\\\\\n",
       "\t ENSMUSG00000038526 &   63.01304 &  7.997237 & 1.3967729 & 1.177645e-10 & 9.447327e-09 & TRUE\\\\\n",
       "\t ENSMUSG00000086910 &   17.83028 &  7.983706 & 2.7665606 & 9.373232e-08 & 3.787128e-06 & TRUE\\\\\n",
       "\t ENSMUSG00000048905 &   57.12056 &  7.888709 & 1.3261961 & 2.527393e-11 & 2.134243e-09 & TRUE\\\\\n",
       "\t ENSMUSG00000069581 &   14.90450 &  7.685038 & 2.7140648 & 1.453044e-07 & 5.507076e-06 & TRUE\\\\\n",
       "\t ENSMUSG00000079598 &   14.39456 &  7.596858 & 2.7290317 & 3.156423e-07 & 1.093016e-05 & TRUE\\\\\n",
       "\t ENSMUSG00000075524 &   14.54173 &  7.594169 & 2.7439040 & 4.280477e-07 & 1.430789e-05 & TRUE\\\\\n",
       "\t ENSMUSG00000027082 &  258.91185 &  7.580670 & 1.2089901 & 1.841657e-11 & 1.631504e-09 & TRUE\\\\\n",
       "\t ENSMUSG00000074111 &   17.70827 &  7.501291 & 3.1369326 &           NA &           NA &   NA\\\\\n",
       "\t ENSMUSG00000090996 &   13.21887 &  7.466754 & 2.6951037 & 3.080835e-07 & 1.076352e-05 & TRUE\\\\\n",
       "\t ENSMUSG00000054117 &   13.02134 &  7.445788 & 2.6857347 & 2.834273e-07 & 9.982171e-06 & TRUE\\\\\n",
       "\t ENSMUSG00000075015 &   13.21627 &  7.444993 & 2.7086725 & 4.514340e-07 & 1.495116e-05 & TRUE\\\\\n",
       "\t ENSMUSG00000086544 &   13.93931 &  7.358853 & 2.8593383 & 5.798758e-06 & 1.361529e-04 & TRUE\\\\\n",
       "\t ENSMUSG00000104667 &  772.59002 &  7.275750 & 0.4441811 & 3.564468e-61 & 5.718990e-58 & TRUE\\\\\n",
       "\t ⋮ & ⋮ & ⋮ & ⋮ & ⋮ & ⋮ & ⋮\\\\\n",
       "\t ENSMUSG00000032246 &    42.82579 &  -5.934663 & 1.2645746 &  2.208047e-07 &  8.092435e-06 & TRUE\\\\\n",
       "\t ENSMUSG00000015947 &    27.07810 &  -5.956108 & 1.1125033 &  4.111704e-08 &  1.861223e-06 & TRUE\\\\\n",
       "\t ENSMUSG00000069601 &   322.06452 &  -5.969960 & 0.3341975 &  6.592343e-72 &  1.359906e-68 & TRUE\\\\\n",
       "\t ENSMUSG00000040562 &   161.80296 &  -6.013093 & 0.6100689 &  4.402392e-24 &  1.478385e-21 & TRUE\\\\\n",
       "\t ENSMUSG00000066158 &    19.73847 &  -6.153932 & 1.5609528 &  2.775853e-06 &  7.209230e-05 & TRUE\\\\\n",
       "\t ENSMUSG00000022957 &  1183.09145 &  -6.326897 & 0.9199534 &  2.597853e-13 &  3.074835e-11 & TRUE\\\\\n",
       "\t ENSMUSG00000056071 &    67.57760 &  -6.327571 & 1.1252521 &  1.710768e-09 &  1.078755e-07 & TRUE\\\\\n",
       "\t ENSMUSG00000036185 &   173.07526 &  -6.390516 & 0.5309960 &  5.249831e-34 &  2.707413e-31 & TRUE\\\\\n",
       "\t ENSMUSG00000030303 &   282.66503 &  -6.664104 & 1.1911914 &  8.301374e-10 &  5.575434e-08 & TRUE\\\\\n",
       "\t ENSMUSG00000102752 &    28.98671 &  -6.778219 & 1.5551445 &  3.683846e-07 &  1.251641e-05 & TRUE\\\\\n",
       "\t ENSMUSG00000104271 &     8.99593 &  -6.834012 & 2.7573912 &  6.329788e-06 &  1.450828e-04 & TRUE\\\\\n",
       "\t ENSMUSG00000033998 &    30.30049 &  -6.999020 & 1.3580741 &  5.107514e-09 &  2.814981e-07 & TRUE\\\\\n",
       "\t ENSMUSG00000089849 &    10.71906 &  -7.044505 & 2.8750724 &  1.153927e-05 &  2.407906e-04 & TRUE\\\\\n",
       "\t ENSMUSG00000039126 &   288.38939 &  -7.071380 & 0.9767559 &  2.180970e-14 &  2.889285e-12 & TRUE\\\\\n",
       "\t ENSMUSG00000029304 & 24083.16628 &  -7.084854 & 0.9734113 &  1.287445e-14 &  1.804922e-12 & TRUE\\\\\n",
       "\t ENSMUSG00000057914 &   281.90339 &  -7.125681 & 0.4877376 &  1.503230e-48 &  1.276861e-45 & TRUE\\\\\n",
       "\t ENSMUSG00000086021 &    12.04273 &  -7.368200 & 2.8195940 &  1.850499e-06 &  5.089753e-05 & TRUE\\\\\n",
       "\t ENSMUSG00000026581 &  1586.87766 &  -7.631329 & 0.3088944 & 1.211203e-135 & 5.829923e-132 & TRUE\\\\\n",
       "\t ENSMUSG00000114884 &    13.91392 &  -7.739422 & 2.7695185 &  1.207932e-07 &  4.714198e-06 & TRUE\\\\\n",
       "\t ENSMUSG00000063760 &   289.43608 &  -7.742490 & 0.5496143 &  1.104594e-44 &  7.595396e-42 & TRUE\\\\\n",
       "\t ENSMUSG00000061082 &    17.61069 &  -8.062727 & 2.8965175 &  3.085939e-07 &  1.076352e-05 & TRUE\\\\\n",
       "\t ENSMUSG00000054793 &    69.35435 &  -8.301111 & 1.3273803 &  2.156455e-12 &  2.256464e-10 & TRUE\\\\\n",
       "\t ENSMUSG00000040314 &    31.67465 &  -9.058650 & 3.0443459 &  4.297391e-08 &  1.939198e-06 & TRUE\\\\\n",
       "\t ENSMUSG00000028497 &   464.50389 &  -9.208271 & 1.2051912 &  2.478164e-15 &  3.766809e-13 & TRUE\\\\\n",
       "\t ENSMUSG00000031012 &   773.50276 &  -9.355544 & 0.6247092 &  2.736266e-50 &  2.634112e-47 & TRUE\\\\\n",
       "\t ENSMUSG00000056054 &    38.72288 &  -9.462881 & 3.0371478 &  3.264880e-09 &  1.932167e-07 & TRUE\\\\\n",
       "\t ENSMUSG00000029915 &    51.39773 & -10.005142 & 3.0436184 &  6.711294e-11 &  5.475203e-09 & TRUE\\\\\n",
       "\t ENSMUSG00000039109 &  8650.47006 & -10.582727 & 0.3392455 & 2.054445e-213 & 1.483309e-209 & TRUE\\\\\n",
       "\t ENSMUSG00000001020 &  1697.45124 & -10.810637 & 1.1133590 &  2.601820e-23 &  8.348952e-21 & TRUE\\\\\n",
       "\t ENSMUSG00000027965 &   948.42494 & -10.810899 & 0.8719122 &  3.790090e-34 &  2.026996e-31 & TRUE\\\\\n",
       "\\end{tabular}\n"
      ],
      "text/markdown": [
       "\n",
       "A spec_tbl_df: 19887 × 7\n",
       "\n",
       "| Gene &lt;chr&gt; | baseMean &lt;dbl&gt; | log2FoldChange &lt;dbl&gt; | lfcSE &lt;dbl&gt; | pvalue &lt;dbl&gt; | padj &lt;dbl&gt; | threshold &lt;lgl&gt; |\n",
       "|---|---|---|---|---|---|---|\n",
       "| ENSMUSG00000026623 |  410.22455 | 13.349409 | 3.1785683 | 3.136545e-23 | 9.846024e-21 | TRUE |\n",
       "| ENSMUSG00000053522 |  264.28133 | 12.641963 | 3.1094261 | 3.637922e-21 | 8.755266e-19 | TRUE |\n",
       "| ENSMUSG00000047361 |  244.28143 | 12.518239 | 3.0932613 | 4.912369e-21 | 1.144107e-18 | TRUE |\n",
       "| ENSMUSG00000037325 | 3450.35769 | 12.192777 | 0.7264098 | 1.238587e-60 | 1.788520e-57 | TRUE |\n",
       "| ENSMUSG00000106334 |  189.21930 | 12.100253 | 3.0595032 | 1.840175e-19 | 3.742553e-17 | TRUE |\n",
       "| ENSMUSG00000039315 |  133.42104 | 11.524815 | 3.0062669 | 1.335432e-17 | 2.380696e-15 | TRUE |\n",
       "| ENSMUSG00000066721 |  670.55321 | 10.208999 | 0.8314783 | 3.437166e-33 | 1.711471e-30 | TRUE |\n",
       "| ENSMUSG00000029166 |   57.22544 | 10.095615 | 2.8716206 | 2.067256e-13 | 2.529761e-11 | TRUE |\n",
       "| ENSMUSG00000020169 |   53.04150 |  9.981246 | 2.8613464 | 2.890766e-13 | 3.393712e-11 | TRUE |\n",
       "| ENSMUSG00000022215 |   51.90979 |  9.951855 | 2.8500409 | 1.909952e-13 | 2.357240e-11 | TRUE |\n",
       "| ENSMUSG00000000881 |  131.58498 |  9.171668 | 1.3056700 | 3.664344e-15 | 5.399299e-13 | TRUE |\n",
       "| ENSMUSG00000038702 |   32.66822 |  9.140427 | 2.7691056 | 2.483824e-11 | 2.109789e-09 | TRUE |\n",
       "| ENSMUSG00000079407 |   32.91506 |  9.125226 | 2.8177699 | 1.811913e-10 | 1.399145e-08 | TRUE |\n",
       "| ENSMUSG00000073000 |  210.42350 |  8.507566 | 0.8281258 | 8.647316e-24 | 2.837892e-21 | TRUE |\n",
       "| ENSMUSG00000032387 |   24.88226 |  8.477897 | 2.9008853 | 1.348488e-07 | 5.192434e-06 | TRUE |\n",
       "| ENSMUSG00000070424 |   20.01061 |  8.209473 | 2.7694876 | 2.732933e-08 | 1.319851e-06 | TRUE |\n",
       "| ENSMUSG00000053617 |   21.94087 |  8.194521 | 2.9275809 | 7.372479e-07 | 2.299322e-05 | TRUE |\n",
       "| ENSMUSG00000038526 |   63.01304 |  7.997237 | 1.3967729 | 1.177645e-10 | 9.447327e-09 | TRUE |\n",
       "| ENSMUSG00000086910 |   17.83028 |  7.983706 | 2.7665606 | 9.373232e-08 | 3.787128e-06 | TRUE |\n",
       "| ENSMUSG00000048905 |   57.12056 |  7.888709 | 1.3261961 | 2.527393e-11 | 2.134243e-09 | TRUE |\n",
       "| ENSMUSG00000069581 |   14.90450 |  7.685038 | 2.7140648 | 1.453044e-07 | 5.507076e-06 | TRUE |\n",
       "| ENSMUSG00000079598 |   14.39456 |  7.596858 | 2.7290317 | 3.156423e-07 | 1.093016e-05 | TRUE |\n",
       "| ENSMUSG00000075524 |   14.54173 |  7.594169 | 2.7439040 | 4.280477e-07 | 1.430789e-05 | TRUE |\n",
       "| ENSMUSG00000027082 |  258.91185 |  7.580670 | 1.2089901 | 1.841657e-11 | 1.631504e-09 | TRUE |\n",
       "| ENSMUSG00000074111 |   17.70827 |  7.501291 | 3.1369326 |           NA |           NA |   NA |\n",
       "| ENSMUSG00000090996 |   13.21887 |  7.466754 | 2.6951037 | 3.080835e-07 | 1.076352e-05 | TRUE |\n",
       "| ENSMUSG00000054117 |   13.02134 |  7.445788 | 2.6857347 | 2.834273e-07 | 9.982171e-06 | TRUE |\n",
       "| ENSMUSG00000075015 |   13.21627 |  7.444993 | 2.7086725 | 4.514340e-07 | 1.495116e-05 | TRUE |\n",
       "| ENSMUSG00000086544 |   13.93931 |  7.358853 | 2.8593383 | 5.798758e-06 | 1.361529e-04 | TRUE |\n",
       "| ENSMUSG00000104667 |  772.59002 |  7.275750 | 0.4441811 | 3.564468e-61 | 5.718990e-58 | TRUE |\n",
       "| ⋮ | ⋮ | ⋮ | ⋮ | ⋮ | ⋮ | ⋮ |\n",
       "| ENSMUSG00000032246 |    42.82579 |  -5.934663 | 1.2645746 |  2.208047e-07 |  8.092435e-06 | TRUE |\n",
       "| ENSMUSG00000015947 |    27.07810 |  -5.956108 | 1.1125033 |  4.111704e-08 |  1.861223e-06 | TRUE |\n",
       "| ENSMUSG00000069601 |   322.06452 |  -5.969960 | 0.3341975 |  6.592343e-72 |  1.359906e-68 | TRUE |\n",
       "| ENSMUSG00000040562 |   161.80296 |  -6.013093 | 0.6100689 |  4.402392e-24 |  1.478385e-21 | TRUE |\n",
       "| ENSMUSG00000066158 |    19.73847 |  -6.153932 | 1.5609528 |  2.775853e-06 |  7.209230e-05 | TRUE |\n",
       "| ENSMUSG00000022957 |  1183.09145 |  -6.326897 | 0.9199534 |  2.597853e-13 |  3.074835e-11 | TRUE |\n",
       "| ENSMUSG00000056071 |    67.57760 |  -6.327571 | 1.1252521 |  1.710768e-09 |  1.078755e-07 | TRUE |\n",
       "| ENSMUSG00000036185 |   173.07526 |  -6.390516 | 0.5309960 |  5.249831e-34 |  2.707413e-31 | TRUE |\n",
       "| ENSMUSG00000030303 |   282.66503 |  -6.664104 | 1.1911914 |  8.301374e-10 |  5.575434e-08 | TRUE |\n",
       "| ENSMUSG00000102752 |    28.98671 |  -6.778219 | 1.5551445 |  3.683846e-07 |  1.251641e-05 | TRUE |\n",
       "| ENSMUSG00000104271 |     8.99593 |  -6.834012 | 2.7573912 |  6.329788e-06 |  1.450828e-04 | TRUE |\n",
       "| ENSMUSG00000033998 |    30.30049 |  -6.999020 | 1.3580741 |  5.107514e-09 |  2.814981e-07 | TRUE |\n",
       "| ENSMUSG00000089849 |    10.71906 |  -7.044505 | 2.8750724 |  1.153927e-05 |  2.407906e-04 | TRUE |\n",
       "| ENSMUSG00000039126 |   288.38939 |  -7.071380 | 0.9767559 |  2.180970e-14 |  2.889285e-12 | TRUE |\n",
       "| ENSMUSG00000029304 | 24083.16628 |  -7.084854 | 0.9734113 |  1.287445e-14 |  1.804922e-12 | TRUE |\n",
       "| ENSMUSG00000057914 |   281.90339 |  -7.125681 | 0.4877376 |  1.503230e-48 |  1.276861e-45 | TRUE |\n",
       "| ENSMUSG00000086021 |    12.04273 |  -7.368200 | 2.8195940 |  1.850499e-06 |  5.089753e-05 | TRUE |\n",
       "| ENSMUSG00000026581 |  1586.87766 |  -7.631329 | 0.3088944 | 1.211203e-135 | 5.829923e-132 | TRUE |\n",
       "| ENSMUSG00000114884 |    13.91392 |  -7.739422 | 2.7695185 |  1.207932e-07 |  4.714198e-06 | TRUE |\n",
       "| ENSMUSG00000063760 |   289.43608 |  -7.742490 | 0.5496143 |  1.104594e-44 |  7.595396e-42 | TRUE |\n",
       "| ENSMUSG00000061082 |    17.61069 |  -8.062727 | 2.8965175 |  3.085939e-07 |  1.076352e-05 | TRUE |\n",
       "| ENSMUSG00000054793 |    69.35435 |  -8.301111 | 1.3273803 |  2.156455e-12 |  2.256464e-10 | TRUE |\n",
       "| ENSMUSG00000040314 |    31.67465 |  -9.058650 | 3.0443459 |  4.297391e-08 |  1.939198e-06 | TRUE |\n",
       "| ENSMUSG00000028497 |   464.50389 |  -9.208271 | 1.2051912 |  2.478164e-15 |  3.766809e-13 | TRUE |\n",
       "| ENSMUSG00000031012 |   773.50276 |  -9.355544 | 0.6247092 |  2.736266e-50 |  2.634112e-47 | TRUE |\n",
       "| ENSMUSG00000056054 |    38.72288 |  -9.462881 | 3.0371478 |  3.264880e-09 |  1.932167e-07 | TRUE |\n",
       "| ENSMUSG00000029915 |    51.39773 | -10.005142 | 3.0436184 |  6.711294e-11 |  5.475203e-09 | TRUE |\n",
       "| ENSMUSG00000039109 |  8650.47006 | -10.582727 | 0.3392455 | 2.054445e-213 | 1.483309e-209 | TRUE |\n",
       "| ENSMUSG00000001020 |  1697.45124 | -10.810637 | 1.1133590 |  2.601820e-23 |  8.348952e-21 | TRUE |\n",
       "| ENSMUSG00000027965 |   948.42494 | -10.810899 | 0.8719122 |  3.790090e-34 |  2.026996e-31 | TRUE |\n",
       "\n"
      ],
      "text/plain": [
       "      Gene               baseMean    log2FoldChange lfcSE     pvalue       \n",
       "1     ENSMUSG00000026623  410.22455  13.349409      3.1785683 3.136545e-23 \n",
       "2     ENSMUSG00000053522  264.28133  12.641963      3.1094261 3.637922e-21 \n",
       "3     ENSMUSG00000047361  244.28143  12.518239      3.0932613 4.912369e-21 \n",
       "4     ENSMUSG00000037325 3450.35769  12.192777      0.7264098 1.238587e-60 \n",
       "5     ENSMUSG00000106334  189.21930  12.100253      3.0595032 1.840175e-19 \n",
       "6     ENSMUSG00000039315  133.42104  11.524815      3.0062669 1.335432e-17 \n",
       "7     ENSMUSG00000066721  670.55321  10.208999      0.8314783 3.437166e-33 \n",
       "8     ENSMUSG00000029166   57.22544  10.095615      2.8716206 2.067256e-13 \n",
       "9     ENSMUSG00000020169   53.04150   9.981246      2.8613464 2.890766e-13 \n",
       "10    ENSMUSG00000022215   51.90979   9.951855      2.8500409 1.909952e-13 \n",
       "11    ENSMUSG00000000881  131.58498   9.171668      1.3056700 3.664344e-15 \n",
       "12    ENSMUSG00000038702   32.66822   9.140427      2.7691056 2.483824e-11 \n",
       "13    ENSMUSG00000079407   32.91506   9.125226      2.8177699 1.811913e-10 \n",
       "14    ENSMUSG00000073000  210.42350   8.507566      0.8281258 8.647316e-24 \n",
       "15    ENSMUSG00000032387   24.88226   8.477897      2.9008853 1.348488e-07 \n",
       "16    ENSMUSG00000070424   20.01061   8.209473      2.7694876 2.732933e-08 \n",
       "17    ENSMUSG00000053617   21.94087   8.194521      2.9275809 7.372479e-07 \n",
       "18    ENSMUSG00000038526   63.01304   7.997237      1.3967729 1.177645e-10 \n",
       "19    ENSMUSG00000086910   17.83028   7.983706      2.7665606 9.373232e-08 \n",
       "20    ENSMUSG00000048905   57.12056   7.888709      1.3261961 2.527393e-11 \n",
       "21    ENSMUSG00000069581   14.90450   7.685038      2.7140648 1.453044e-07 \n",
       "22    ENSMUSG00000079598   14.39456   7.596858      2.7290317 3.156423e-07 \n",
       "23    ENSMUSG00000075524   14.54173   7.594169      2.7439040 4.280477e-07 \n",
       "24    ENSMUSG00000027082  258.91185   7.580670      1.2089901 1.841657e-11 \n",
       "25    ENSMUSG00000074111   17.70827   7.501291      3.1369326           NA \n",
       "26    ENSMUSG00000090996   13.21887   7.466754      2.6951037 3.080835e-07 \n",
       "27    ENSMUSG00000054117   13.02134   7.445788      2.6857347 2.834273e-07 \n",
       "28    ENSMUSG00000075015   13.21627   7.444993      2.7086725 4.514340e-07 \n",
       "29    ENSMUSG00000086544   13.93931   7.358853      2.8593383 5.798758e-06 \n",
       "30    ENSMUSG00000104667  772.59002   7.275750      0.4441811 3.564468e-61 \n",
       "⋮     ⋮                  ⋮           ⋮              ⋮         ⋮            \n",
       "19858 ENSMUSG00000032246    42.82579  -5.934663     1.2645746  2.208047e-07\n",
       "19859 ENSMUSG00000015947    27.07810  -5.956108     1.1125033  4.111704e-08\n",
       "19860 ENSMUSG00000069601   322.06452  -5.969960     0.3341975  6.592343e-72\n",
       "19861 ENSMUSG00000040562   161.80296  -6.013093     0.6100689  4.402392e-24\n",
       "19862 ENSMUSG00000066158    19.73847  -6.153932     1.5609528  2.775853e-06\n",
       "19863 ENSMUSG00000022957  1183.09145  -6.326897     0.9199534  2.597853e-13\n",
       "19864 ENSMUSG00000056071    67.57760  -6.327571     1.1252521  1.710768e-09\n",
       "19865 ENSMUSG00000036185   173.07526  -6.390516     0.5309960  5.249831e-34\n",
       "19866 ENSMUSG00000030303   282.66503  -6.664104     1.1911914  8.301374e-10\n",
       "19867 ENSMUSG00000102752    28.98671  -6.778219     1.5551445  3.683846e-07\n",
       "19868 ENSMUSG00000104271     8.99593  -6.834012     2.7573912  6.329788e-06\n",
       "19869 ENSMUSG00000033998    30.30049  -6.999020     1.3580741  5.107514e-09\n",
       "19870 ENSMUSG00000089849    10.71906  -7.044505     2.8750724  1.153927e-05\n",
       "19871 ENSMUSG00000039126   288.38939  -7.071380     0.9767559  2.180970e-14\n",
       "19872 ENSMUSG00000029304 24083.16628  -7.084854     0.9734113  1.287445e-14\n",
       "19873 ENSMUSG00000057914   281.90339  -7.125681     0.4877376  1.503230e-48\n",
       "19874 ENSMUSG00000086021    12.04273  -7.368200     2.8195940  1.850499e-06\n",
       "19875 ENSMUSG00000026581  1586.87766  -7.631329     0.3088944 1.211203e-135\n",
       "19876 ENSMUSG00000114884    13.91392  -7.739422     2.7695185  1.207932e-07\n",
       "19877 ENSMUSG00000063760   289.43608  -7.742490     0.5496143  1.104594e-44\n",
       "19878 ENSMUSG00000061082    17.61069  -8.062727     2.8965175  3.085939e-07\n",
       "19879 ENSMUSG00000054793    69.35435  -8.301111     1.3273803  2.156455e-12\n",
       "19880 ENSMUSG00000040314    31.67465  -9.058650     3.0443459  4.297391e-08\n",
       "19881 ENSMUSG00000028497   464.50389  -9.208271     1.2051912  2.478164e-15\n",
       "19882 ENSMUSG00000031012   773.50276  -9.355544     0.6247092  2.736266e-50\n",
       "19883 ENSMUSG00000056054    38.72288  -9.462881     3.0371478  3.264880e-09\n",
       "19884 ENSMUSG00000029915    51.39773 -10.005142     3.0436184  6.711294e-11\n",
       "19885 ENSMUSG00000039109  8650.47006 -10.582727     0.3392455 2.054445e-213\n",
       "19886 ENSMUSG00000001020  1697.45124 -10.810637     1.1133590  2.601820e-23\n",
       "19887 ENSMUSG00000027965   948.42494 -10.810899     0.8719122  3.790090e-34\n",
       "      padj          threshold\n",
       "1     9.846024e-21  TRUE     \n",
       "2     8.755266e-19  TRUE     \n",
       "3     1.144107e-18  TRUE     \n",
       "4     1.788520e-57  TRUE     \n",
       "5     3.742553e-17  TRUE     \n",
       "6     2.380696e-15  TRUE     \n",
       "7     1.711471e-30  TRUE     \n",
       "8     2.529761e-11  TRUE     \n",
       "9     3.393712e-11  TRUE     \n",
       "10    2.357240e-11  TRUE     \n",
       "11    5.399299e-13  TRUE     \n",
       "12    2.109789e-09  TRUE     \n",
       "13    1.399145e-08  TRUE     \n",
       "14    2.837892e-21  TRUE     \n",
       "15    5.192434e-06  TRUE     \n",
       "16    1.319851e-06  TRUE     \n",
       "17    2.299322e-05  TRUE     \n",
       "18    9.447327e-09  TRUE     \n",
       "19    3.787128e-06  TRUE     \n",
       "20    2.134243e-09  TRUE     \n",
       "21    5.507076e-06  TRUE     \n",
       "22    1.093016e-05  TRUE     \n",
       "23    1.430789e-05  TRUE     \n",
       "24    1.631504e-09  TRUE     \n",
       "25              NA    NA     \n",
       "26    1.076352e-05  TRUE     \n",
       "27    9.982171e-06  TRUE     \n",
       "28    1.495116e-05  TRUE     \n",
       "29    1.361529e-04  TRUE     \n",
       "30    5.718990e-58  TRUE     \n",
       "⋮     ⋮             ⋮        \n",
       "19858  8.092435e-06 TRUE     \n",
       "19859  1.861223e-06 TRUE     \n",
       "19860  1.359906e-68 TRUE     \n",
       "19861  1.478385e-21 TRUE     \n",
       "19862  7.209230e-05 TRUE     \n",
       "19863  3.074835e-11 TRUE     \n",
       "19864  1.078755e-07 TRUE     \n",
       "19865  2.707413e-31 TRUE     \n",
       "19866  5.575434e-08 TRUE     \n",
       "19867  1.251641e-05 TRUE     \n",
       "19868  1.450828e-04 TRUE     \n",
       "19869  2.814981e-07 TRUE     \n",
       "19870  2.407906e-04 TRUE     \n",
       "19871  2.889285e-12 TRUE     \n",
       "19872  1.804922e-12 TRUE     \n",
       "19873  1.276861e-45 TRUE     \n",
       "19874  5.089753e-05 TRUE     \n",
       "19875 5.829923e-132 TRUE     \n",
       "19876  4.714198e-06 TRUE     \n",
       "19877  7.595396e-42 TRUE     \n",
       "19878  1.076352e-05 TRUE     \n",
       "19879  2.256464e-10 TRUE     \n",
       "19880  1.939198e-06 TRUE     \n",
       "19881  3.766809e-13 TRUE     \n",
       "19882  2.634112e-47 TRUE     \n",
       "19883  1.932167e-07 TRUE     \n",
       "19884  5.475203e-09 TRUE     \n",
       "19885 1.483309e-209 TRUE     \n",
       "19886  8.348952e-21 TRUE     \n",
       "19887  2.026996e-31 TRUE     "
      ]
     },
     "metadata": {},
     "output_type": "display_data"
    }
   ],
   "source": [
    "dge_df"
   ]
  },
  {
   "cell_type": "markdown",
   "metadata": {},
   "source": [
    "## 4.4 Getting familiar with MSigDB gene sets available via msigdbr\n",
    "The Molecular Signatures Database (MSigDB) is a resource that contains annotated gene sets that can be used for pathway or gene set analyses (Subramanian et al. 2005; Liberzon et al. 2011). We can use the msigdbr package to access these gene sets in a format compatible with the package we’ll use for analysis, clusterProfiler (Yu et al. 2012; Dolgalev 2020).\n",
    "\n",
    "The gene sets available directly from MSigDB are applicable to human studies. msigdbr also supports commonly studied model organisms.\n",
    "\n",
    "Let’s take a look at what organisms the package supports with msigdbr_species()."
   ]
  },
  {
   "cell_type": "code",
   "execution_count": 14,
   "metadata": {},
   "outputs": [
    {
     "data": {
      "text/html": [
       "<table class=\"dataframe\">\n",
       "<caption>A tibble: 20 × 2</caption>\n",
       "<thead>\n",
       "\t<tr><th scope=col>species_name</th><th scope=col>species_common_name</th></tr>\n",
       "\t<tr><th scope=col>&lt;chr&gt;</th><th scope=col>&lt;chr&gt;</th></tr>\n",
       "</thead>\n",
       "<tbody>\n",
       "\t<tr><td>Anolis carolinensis            </td><td>Carolina anole, green anole                                            </td></tr>\n",
       "\t<tr><td>Bos taurus                     </td><td>bovine, cattle, cow, dairy cow, domestic cattle, domestic cow, ox, oxen</td></tr>\n",
       "\t<tr><td>Caenorhabditis elegans         </td><td>NA                                                                     </td></tr>\n",
       "\t<tr><td>Canis lupus familiaris         </td><td>dog, dogs                                                              </td></tr>\n",
       "\t<tr><td>Danio rerio                    </td><td>leopard danio, zebra danio, zebra fish, zebrafish                      </td></tr>\n",
       "\t<tr><td>Drosophila melanogaster        </td><td>fruit fly                                                              </td></tr>\n",
       "\t<tr><td>Equus caballus                 </td><td>domestic horse, equine, horse                                          </td></tr>\n",
       "\t<tr><td>Felis catus                    </td><td>cat, cats, domestic cat                                                </td></tr>\n",
       "\t<tr><td>Gallus gallus                  </td><td>bantam, chicken, chickens, Gallus domesticus                           </td></tr>\n",
       "\t<tr><td>Homo sapiens                   </td><td>human                                                                  </td></tr>\n",
       "\t<tr><td>Macaca mulatta                 </td><td>rhesus macaque, rhesus macaques, Rhesus monkey, rhesus monkeys         </td></tr>\n",
       "\t<tr><td>Monodelphis domestica          </td><td>gray short-tailed opossum                                              </td></tr>\n",
       "\t<tr><td>Mus musculus                   </td><td>house mouse, mouse                                                     </td></tr>\n",
       "\t<tr><td>Ornithorhynchus anatinus       </td><td>duck-billed platypus, duckbill platypus, platypus                      </td></tr>\n",
       "\t<tr><td>Pan troglodytes                </td><td>chimpanzee                                                             </td></tr>\n",
       "\t<tr><td>Rattus norvegicus              </td><td>brown rat, Norway rat, rat, rats                                       </td></tr>\n",
       "\t<tr><td>Saccharomyces cerevisiae       </td><td>baker's yeast, brewer's yeast, S. cerevisiae                           </td></tr>\n",
       "\t<tr><td>Schizosaccharomyces pombe 972h-</td><td>NA                                                                     </td></tr>\n",
       "\t<tr><td>Sus scrofa                     </td><td>pig, pigs, swine, wild boar                                            </td></tr>\n",
       "\t<tr><td>Xenopus tropicalis             </td><td>tropical clawed frog, western clawed frog                              </td></tr>\n",
       "</tbody>\n",
       "</table>\n"
      ],
      "text/latex": [
       "A tibble: 20 × 2\n",
       "\\begin{tabular}{ll}\n",
       " species\\_name & species\\_common\\_name\\\\\n",
       " <chr> & <chr>\\\\\n",
       "\\hline\n",
       "\t Anolis carolinensis             & Carolina anole, green anole                                            \\\\\n",
       "\t Bos taurus                      & bovine, cattle, cow, dairy cow, domestic cattle, domestic cow, ox, oxen\\\\\n",
       "\t Caenorhabditis elegans          & NA                                                                     \\\\\n",
       "\t Canis lupus familiaris          & dog, dogs                                                              \\\\\n",
       "\t Danio rerio                     & leopard danio, zebra danio, zebra fish, zebrafish                      \\\\\n",
       "\t Drosophila melanogaster         & fruit fly                                                              \\\\\n",
       "\t Equus caballus                  & domestic horse, equine, horse                                          \\\\\n",
       "\t Felis catus                     & cat, cats, domestic cat                                                \\\\\n",
       "\t Gallus gallus                   & bantam, chicken, chickens, Gallus domesticus                           \\\\\n",
       "\t Homo sapiens                    & human                                                                  \\\\\n",
       "\t Macaca mulatta                  & rhesus macaque, rhesus macaques, Rhesus monkey, rhesus monkeys         \\\\\n",
       "\t Monodelphis domestica           & gray short-tailed opossum                                              \\\\\n",
       "\t Mus musculus                    & house mouse, mouse                                                     \\\\\n",
       "\t Ornithorhynchus anatinus        & duck-billed platypus, duckbill platypus, platypus                      \\\\\n",
       "\t Pan troglodytes                 & chimpanzee                                                             \\\\\n",
       "\t Rattus norvegicus               & brown rat, Norway rat, rat, rats                                       \\\\\n",
       "\t Saccharomyces cerevisiae        & baker's yeast, brewer's yeast, S. cerevisiae                           \\\\\n",
       "\t Schizosaccharomyces pombe 972h- & NA                                                                     \\\\\n",
       "\t Sus scrofa                      & pig, pigs, swine, wild boar                                            \\\\\n",
       "\t Xenopus tropicalis              & tropical clawed frog, western clawed frog                              \\\\\n",
       "\\end{tabular}\n"
      ],
      "text/markdown": [
       "\n",
       "A tibble: 20 × 2\n",
       "\n",
       "| species_name &lt;chr&gt; | species_common_name &lt;chr&gt; |\n",
       "|---|---|\n",
       "| Anolis carolinensis             | Carolina anole, green anole                                             |\n",
       "| Bos taurus                      | bovine, cattle, cow, dairy cow, domestic cattle, domestic cow, ox, oxen |\n",
       "| Caenorhabditis elegans          | NA                                                                      |\n",
       "| Canis lupus familiaris          | dog, dogs                                                               |\n",
       "| Danio rerio                     | leopard danio, zebra danio, zebra fish, zebrafish                       |\n",
       "| Drosophila melanogaster         | fruit fly                                                               |\n",
       "| Equus caballus                  | domestic horse, equine, horse                                           |\n",
       "| Felis catus                     | cat, cats, domestic cat                                                 |\n",
       "| Gallus gallus                   | bantam, chicken, chickens, Gallus domesticus                            |\n",
       "| Homo sapiens                    | human                                                                   |\n",
       "| Macaca mulatta                  | rhesus macaque, rhesus macaques, Rhesus monkey, rhesus monkeys          |\n",
       "| Monodelphis domestica           | gray short-tailed opossum                                               |\n",
       "| Mus musculus                    | house mouse, mouse                                                      |\n",
       "| Ornithorhynchus anatinus        | duck-billed platypus, duckbill platypus, platypus                       |\n",
       "| Pan troglodytes                 | chimpanzee                                                              |\n",
       "| Rattus norvegicus               | brown rat, Norway rat, rat, rats                                        |\n",
       "| Saccharomyces cerevisiae        | baker's yeast, brewer's yeast, S. cerevisiae                            |\n",
       "| Schizosaccharomyces pombe 972h- | NA                                                                      |\n",
       "| Sus scrofa                      | pig, pigs, swine, wild boar                                             |\n",
       "| Xenopus tropicalis              | tropical clawed frog, western clawed frog                               |\n",
       "\n"
      ],
      "text/plain": [
       "   species_name                   \n",
       "1  Anolis carolinensis            \n",
       "2  Bos taurus                     \n",
       "3  Caenorhabditis elegans         \n",
       "4  Canis lupus familiaris         \n",
       "5  Danio rerio                    \n",
       "6  Drosophila melanogaster        \n",
       "7  Equus caballus                 \n",
       "8  Felis catus                    \n",
       "9  Gallus gallus                  \n",
       "10 Homo sapiens                   \n",
       "11 Macaca mulatta                 \n",
       "12 Monodelphis domestica          \n",
       "13 Mus musculus                   \n",
       "14 Ornithorhynchus anatinus       \n",
       "15 Pan troglodytes                \n",
       "16 Rattus norvegicus              \n",
       "17 Saccharomyces cerevisiae       \n",
       "18 Schizosaccharomyces pombe 972h-\n",
       "19 Sus scrofa                     \n",
       "20 Xenopus tropicalis             \n",
       "   species_common_name                                                    \n",
       "1  Carolina anole, green anole                                            \n",
       "2  bovine, cattle, cow, dairy cow, domestic cattle, domestic cow, ox, oxen\n",
       "3  NA                                                                     \n",
       "4  dog, dogs                                                              \n",
       "5  leopard danio, zebra danio, zebra fish, zebrafish                      \n",
       "6  fruit fly                                                              \n",
       "7  domestic horse, equine, horse                                          \n",
       "8  cat, cats, domestic cat                                                \n",
       "9  bantam, chicken, chickens, Gallus domesticus                           \n",
       "10 human                                                                  \n",
       "11 rhesus macaque, rhesus macaques, Rhesus monkey, rhesus monkeys         \n",
       "12 gray short-tailed opossum                                              \n",
       "13 house mouse, mouse                                                     \n",
       "14 duck-billed platypus, duckbill platypus, platypus                      \n",
       "15 chimpanzee                                                             \n",
       "16 brown rat, Norway rat, rat, rats                                       \n",
       "17 baker's yeast, brewer's yeast, S. cerevisiae                           \n",
       "18 NA                                                                     \n",
       "19 pig, pigs, swine, wild boar                                            \n",
       "20 tropical clawed frog, western clawed frog                              "
      ]
     },
     "metadata": {},
     "output_type": "display_data"
    }
   ],
   "source": [
    "msigdbr_species()"
   ]
  },
  {
   "cell_type": "markdown",
   "metadata": {},
   "source": [
    "MSigDB contains 8 different gene set collections (Subramanian et al. 2005; Liberzon et al. 2011) that are distinguished by how they are derived (e.g., computationally mined, curated).\n",
    "\n",
    "In this example, we will use a collection called Hallmark gene sets for GSEA (Liberzon et al. 2015). Here’s an excerpt of the collection description from MSigDB:\n",
    "\n",
    ">Hallmark gene sets summarize and represent specific well-defined biological states or processes and display coherent expression. These gene sets were generated by a computational methodology based on identifying gene set overlaps and retaining genes that display coordinate expression. The hallmarks reduce noise and redundancy and provide a better delineated biological space for GSEA.\n",
    "\n",
    "Notably, there are only 50 gene sets included in this collection. The fewer gene sets we test, the lower our multiple hypothesis testing burden.\n",
    "\n",
    "The data we’re interested in here comes from mouse samples, so we can obtain only the Hallmarks gene sets relevant to M. musculus by specifying `category = \"H\"` and `species = \"Mus musculus\"`, respectively, to the `msigdbr()` function."
   ]
  },
  {
   "cell_type": "code",
   "execution_count": 15,
   "metadata": {},
   "outputs": [],
   "source": [
    "mm_hallmark_sets <- msigdbr(\n",
    "  species = \"Mus musculus\", # Replace with species name relevant to your data\n",
    "  category = \"H\"\n",
    ")"
   ]
  },
  {
   "cell_type": "markdown",
   "metadata": {},
   "source": [
    "If you run the chunk above without specifying a `category` to the `msigdbr()` function, it will return all of the MSigDB gene sets for mouse. See `?msigdbr` for more options.\n",
    "\n",
    "Let’s preview what’s in `mm_hallmark_sets.`"
   ]
  },
  {
   "cell_type": "code",
   "execution_count": 17,
   "metadata": {},
   "outputs": [
    {
     "data": {
      "text/html": [
       "<table class=\"dataframe\">\n",
       "<caption>A tibble: 6 × 18</caption>\n",
       "<thead>\n",
       "\t<tr><th scope=col>gs_cat</th><th scope=col>gs_subcat</th><th scope=col>gs_name</th><th scope=col>gene_symbol</th><th scope=col>entrez_gene</th><th scope=col>ensembl_gene</th><th scope=col>human_gene_symbol</th><th scope=col>human_entrez_gene</th><th scope=col>human_ensembl_gene</th><th scope=col>gs_id</th><th scope=col>gs_pmid</th><th scope=col>gs_geoid</th><th scope=col>gs_exact_source</th><th scope=col>gs_url</th><th scope=col>gs_description</th><th scope=col>taxon_id</th><th scope=col>ortholog_sources</th><th scope=col>num_ortholog_sources</th></tr>\n",
       "\t<tr><th scope=col>&lt;chr&gt;</th><th scope=col>&lt;chr&gt;</th><th scope=col>&lt;chr&gt;</th><th scope=col>&lt;chr&gt;</th><th scope=col>&lt;int&gt;</th><th scope=col>&lt;chr&gt;</th><th scope=col>&lt;chr&gt;</th><th scope=col>&lt;int&gt;</th><th scope=col>&lt;chr&gt;</th><th scope=col>&lt;chr&gt;</th><th scope=col>&lt;chr&gt;</th><th scope=col>&lt;chr&gt;</th><th scope=col>&lt;chr&gt;</th><th scope=col>&lt;chr&gt;</th><th scope=col>&lt;chr&gt;</th><th scope=col>&lt;int&gt;</th><th scope=col>&lt;chr&gt;</th><th scope=col>&lt;dbl&gt;</th></tr>\n",
       "</thead>\n",
       "<tbody>\n",
       "\t<tr><td>H</td><td></td><td>HALLMARK_ADIPOGENESIS</td><td>Abca1</td><td>11303</td><td>ENSMUSG00000015243</td><td>ABCA1</td><td>   19</td><td>ENSG00000165029</td><td>M5905</td><td>26771021</td><td></td><td></td><td></td><td>Genes up-regulated during adipocyte differentiation (adipogenesis).</td><td>10090</td><td>EggNOG|Ensembl|HGNC|HomoloGene|Inparanoid|NCBI|OMA|OrthoDB|OrthoMCL|Panther|Treefam          </td><td>11</td></tr>\n",
       "\t<tr><td>H</td><td></td><td>HALLMARK_ADIPOGENESIS</td><td>Abcb8</td><td>74610</td><td>ENSMUSG00000028973</td><td>ABCB8</td><td>11194</td><td>ENSG00000197150</td><td>M5905</td><td>26771021</td><td></td><td></td><td></td><td>Genes up-regulated during adipocyte differentiation (adipogenesis).</td><td>10090</td><td>EggNOG|Ensembl|HGNC|HomoloGene|Inparanoid|NCBI|OMA|OrthoDB|OrthoMCL|Panther|PhylomeDB|Treefam</td><td>12</td></tr>\n",
       "\t<tr><td>H</td><td></td><td>HALLMARK_ADIPOGENESIS</td><td>Acaa2</td><td>52538</td><td>ENSMUSG00000036880</td><td>ACAA2</td><td>10449</td><td>ENSG00000167315</td><td>M5905</td><td>26771021</td><td></td><td></td><td></td><td>Genes up-regulated during adipocyte differentiation (adipogenesis).</td><td>10090</td><td>EggNOG|Ensembl|HGNC|HomoloGene|Inparanoid|NCBI|OMA|OrthoDB|OrthoMCL|Panther|Treefam          </td><td>11</td></tr>\n",
       "\t<tr><td>H</td><td></td><td>HALLMARK_ADIPOGENESIS</td><td>Acadl</td><td>11363</td><td>ENSMUSG00000026003</td><td>ACADL</td><td>   33</td><td>ENSG00000115361</td><td>M5905</td><td>26771021</td><td></td><td></td><td></td><td>Genes up-regulated during adipocyte differentiation (adipogenesis).</td><td>10090</td><td>EggNOG|Ensembl|HGNC|HomoloGene|Inparanoid|NCBI|OMA|OrthoDB|OrthoMCL|Panther|PhylomeDB|Treefam</td><td>12</td></tr>\n",
       "\t<tr><td>H</td><td></td><td>HALLMARK_ADIPOGENESIS</td><td>Acadm</td><td>11364</td><td>ENSMUSG00000062908</td><td>ACADM</td><td>   34</td><td>ENSG00000117054</td><td>M5905</td><td>26771021</td><td></td><td></td><td></td><td>Genes up-regulated during adipocyte differentiation (adipogenesis).</td><td>10090</td><td>EggNOG|Ensembl|HGNC|HomoloGene|Inparanoid|NCBI|OMA|OrthoDB|OrthoMCL|Panther|PhylomeDB|Treefam</td><td>12</td></tr>\n",
       "\t<tr><td>H</td><td></td><td>HALLMARK_ADIPOGENESIS</td><td>Acads</td><td>11409</td><td>ENSMUSG00000029545</td><td>ACADS</td><td>   35</td><td>ENSG00000122971</td><td>M5905</td><td>26771021</td><td></td><td></td><td></td><td>Genes up-regulated during adipocyte differentiation (adipogenesis).</td><td>10090</td><td>EggNOG|Ensembl|HGNC|HomoloGene|Inparanoid|NCBI|OMA|OrthoDB|OrthoMCL|Panther|Treefam          </td><td>11</td></tr>\n",
       "</tbody>\n",
       "</table>\n"
      ],
      "text/latex": [
       "A tibble: 6 × 18\n",
       "\\begin{tabular}{llllllllllllllllll}\n",
       " gs\\_cat & gs\\_subcat & gs\\_name & gene\\_symbol & entrez\\_gene & ensembl\\_gene & human\\_gene\\_symbol & human\\_entrez\\_gene & human\\_ensembl\\_gene & gs\\_id & gs\\_pmid & gs\\_geoid & gs\\_exact\\_source & gs\\_url & gs\\_description & taxon\\_id & ortholog\\_sources & num\\_ortholog\\_sources\\\\\n",
       " <chr> & <chr> & <chr> & <chr> & <int> & <chr> & <chr> & <int> & <chr> & <chr> & <chr> & <chr> & <chr> & <chr> & <chr> & <int> & <chr> & <dbl>\\\\\n",
       "\\hline\n",
       "\t H &  & HALLMARK\\_ADIPOGENESIS & Abca1 & 11303 & ENSMUSG00000015243 & ABCA1 &    19 & ENSG00000165029 & M5905 & 26771021 &  &  &  & Genes up-regulated during adipocyte differentiation (adipogenesis). & 10090 & EggNOG\\textbar{}Ensembl\\textbar{}HGNC\\textbar{}HomoloGene\\textbar{}Inparanoid\\textbar{}NCBI\\textbar{}OMA\\textbar{}OrthoDB\\textbar{}OrthoMCL\\textbar{}Panther\\textbar{}Treefam           & 11\\\\\n",
       "\t H &  & HALLMARK\\_ADIPOGENESIS & Abcb8 & 74610 & ENSMUSG00000028973 & ABCB8 & 11194 & ENSG00000197150 & M5905 & 26771021 &  &  &  & Genes up-regulated during adipocyte differentiation (adipogenesis). & 10090 & EggNOG\\textbar{}Ensembl\\textbar{}HGNC\\textbar{}HomoloGene\\textbar{}Inparanoid\\textbar{}NCBI\\textbar{}OMA\\textbar{}OrthoDB\\textbar{}OrthoMCL\\textbar{}Panther\\textbar{}PhylomeDB\\textbar{}Treefam & 12\\\\\n",
       "\t H &  & HALLMARK\\_ADIPOGENESIS & Acaa2 & 52538 & ENSMUSG00000036880 & ACAA2 & 10449 & ENSG00000167315 & M5905 & 26771021 &  &  &  & Genes up-regulated during adipocyte differentiation (adipogenesis). & 10090 & EggNOG\\textbar{}Ensembl\\textbar{}HGNC\\textbar{}HomoloGene\\textbar{}Inparanoid\\textbar{}NCBI\\textbar{}OMA\\textbar{}OrthoDB\\textbar{}OrthoMCL\\textbar{}Panther\\textbar{}Treefam           & 11\\\\\n",
       "\t H &  & HALLMARK\\_ADIPOGENESIS & Acadl & 11363 & ENSMUSG00000026003 & ACADL &    33 & ENSG00000115361 & M5905 & 26771021 &  &  &  & Genes up-regulated during adipocyte differentiation (adipogenesis). & 10090 & EggNOG\\textbar{}Ensembl\\textbar{}HGNC\\textbar{}HomoloGene\\textbar{}Inparanoid\\textbar{}NCBI\\textbar{}OMA\\textbar{}OrthoDB\\textbar{}OrthoMCL\\textbar{}Panther\\textbar{}PhylomeDB\\textbar{}Treefam & 12\\\\\n",
       "\t H &  & HALLMARK\\_ADIPOGENESIS & Acadm & 11364 & ENSMUSG00000062908 & ACADM &    34 & ENSG00000117054 & M5905 & 26771021 &  &  &  & Genes up-regulated during adipocyte differentiation (adipogenesis). & 10090 & EggNOG\\textbar{}Ensembl\\textbar{}HGNC\\textbar{}HomoloGene\\textbar{}Inparanoid\\textbar{}NCBI\\textbar{}OMA\\textbar{}OrthoDB\\textbar{}OrthoMCL\\textbar{}Panther\\textbar{}PhylomeDB\\textbar{}Treefam & 12\\\\\n",
       "\t H &  & HALLMARK\\_ADIPOGENESIS & Acads & 11409 & ENSMUSG00000029545 & ACADS &    35 & ENSG00000122971 & M5905 & 26771021 &  &  &  & Genes up-regulated during adipocyte differentiation (adipogenesis). & 10090 & EggNOG\\textbar{}Ensembl\\textbar{}HGNC\\textbar{}HomoloGene\\textbar{}Inparanoid\\textbar{}NCBI\\textbar{}OMA\\textbar{}OrthoDB\\textbar{}OrthoMCL\\textbar{}Panther\\textbar{}Treefam           & 11\\\\\n",
       "\\end{tabular}\n"
      ],
      "text/markdown": [
       "\n",
       "A tibble: 6 × 18\n",
       "\n",
       "| gs_cat &lt;chr&gt; | gs_subcat &lt;chr&gt; | gs_name &lt;chr&gt; | gene_symbol &lt;chr&gt; | entrez_gene &lt;int&gt; | ensembl_gene &lt;chr&gt; | human_gene_symbol &lt;chr&gt; | human_entrez_gene &lt;int&gt; | human_ensembl_gene &lt;chr&gt; | gs_id &lt;chr&gt; | gs_pmid &lt;chr&gt; | gs_geoid &lt;chr&gt; | gs_exact_source &lt;chr&gt; | gs_url &lt;chr&gt; | gs_description &lt;chr&gt; | taxon_id &lt;int&gt; | ortholog_sources &lt;chr&gt; | num_ortholog_sources &lt;dbl&gt; |\n",
       "|---|---|---|---|---|---|---|---|---|---|---|---|---|---|---|---|---|---|\n",
       "| H | <!----> | HALLMARK_ADIPOGENESIS | Abca1 | 11303 | ENSMUSG00000015243 | ABCA1 |    19 | ENSG00000165029 | M5905 | 26771021 | <!----> | <!----> | <!----> | Genes up-regulated during adipocyte differentiation (adipogenesis). | 10090 | EggNOG|Ensembl|HGNC|HomoloGene|Inparanoid|NCBI|OMA|OrthoDB|OrthoMCL|Panther|Treefam           | 11 |\n",
       "| H | <!----> | HALLMARK_ADIPOGENESIS | Abcb8 | 74610 | ENSMUSG00000028973 | ABCB8 | 11194 | ENSG00000197150 | M5905 | 26771021 | <!----> | <!----> | <!----> | Genes up-regulated during adipocyte differentiation (adipogenesis). | 10090 | EggNOG|Ensembl|HGNC|HomoloGene|Inparanoid|NCBI|OMA|OrthoDB|OrthoMCL|Panther|PhylomeDB|Treefam | 12 |\n",
       "| H | <!----> | HALLMARK_ADIPOGENESIS | Acaa2 | 52538 | ENSMUSG00000036880 | ACAA2 | 10449 | ENSG00000167315 | M5905 | 26771021 | <!----> | <!----> | <!----> | Genes up-regulated during adipocyte differentiation (adipogenesis). | 10090 | EggNOG|Ensembl|HGNC|HomoloGene|Inparanoid|NCBI|OMA|OrthoDB|OrthoMCL|Panther|Treefam           | 11 |\n",
       "| H | <!----> | HALLMARK_ADIPOGENESIS | Acadl | 11363 | ENSMUSG00000026003 | ACADL |    33 | ENSG00000115361 | M5905 | 26771021 | <!----> | <!----> | <!----> | Genes up-regulated during adipocyte differentiation (adipogenesis). | 10090 | EggNOG|Ensembl|HGNC|HomoloGene|Inparanoid|NCBI|OMA|OrthoDB|OrthoMCL|Panther|PhylomeDB|Treefam | 12 |\n",
       "| H | <!----> | HALLMARK_ADIPOGENESIS | Acadm | 11364 | ENSMUSG00000062908 | ACADM |    34 | ENSG00000117054 | M5905 | 26771021 | <!----> | <!----> | <!----> | Genes up-regulated during adipocyte differentiation (adipogenesis). | 10090 | EggNOG|Ensembl|HGNC|HomoloGene|Inparanoid|NCBI|OMA|OrthoDB|OrthoMCL|Panther|PhylomeDB|Treefam | 12 |\n",
       "| H | <!----> | HALLMARK_ADIPOGENESIS | Acads | 11409 | ENSMUSG00000029545 | ACADS |    35 | ENSG00000122971 | M5905 | 26771021 | <!----> | <!----> | <!----> | Genes up-regulated during adipocyte differentiation (adipogenesis). | 10090 | EggNOG|Ensembl|HGNC|HomoloGene|Inparanoid|NCBI|OMA|OrthoDB|OrthoMCL|Panther|Treefam           | 11 |\n",
       "\n"
      ],
      "text/plain": [
       "  gs_cat gs_subcat gs_name               gene_symbol entrez_gene\n",
       "1 H                HALLMARK_ADIPOGENESIS Abca1       11303      \n",
       "2 H                HALLMARK_ADIPOGENESIS Abcb8       74610      \n",
       "3 H                HALLMARK_ADIPOGENESIS Acaa2       52538      \n",
       "4 H                HALLMARK_ADIPOGENESIS Acadl       11363      \n",
       "5 H                HALLMARK_ADIPOGENESIS Acadm       11364      \n",
       "6 H                HALLMARK_ADIPOGENESIS Acads       11409      \n",
       "  ensembl_gene       human_gene_symbol human_entrez_gene human_ensembl_gene\n",
       "1 ENSMUSG00000015243 ABCA1                19             ENSG00000165029   \n",
       "2 ENSMUSG00000028973 ABCB8             11194             ENSG00000197150   \n",
       "3 ENSMUSG00000036880 ACAA2             10449             ENSG00000167315   \n",
       "4 ENSMUSG00000026003 ACADL                33             ENSG00000115361   \n",
       "5 ENSMUSG00000062908 ACADM                34             ENSG00000117054   \n",
       "6 ENSMUSG00000029545 ACADS                35             ENSG00000122971   \n",
       "  gs_id gs_pmid  gs_geoid gs_exact_source gs_url\n",
       "1 M5905 26771021                                \n",
       "2 M5905 26771021                                \n",
       "3 M5905 26771021                                \n",
       "4 M5905 26771021                                \n",
       "5 M5905 26771021                                \n",
       "6 M5905 26771021                                \n",
       "  gs_description                                                      taxon_id\n",
       "1 Genes up-regulated during adipocyte differentiation (adipogenesis). 10090   \n",
       "2 Genes up-regulated during adipocyte differentiation (adipogenesis). 10090   \n",
       "3 Genes up-regulated during adipocyte differentiation (adipogenesis). 10090   \n",
       "4 Genes up-regulated during adipocyte differentiation (adipogenesis). 10090   \n",
       "5 Genes up-regulated during adipocyte differentiation (adipogenesis). 10090   \n",
       "6 Genes up-regulated during adipocyte differentiation (adipogenesis). 10090   \n",
       "  ortholog_sources                                                                             \n",
       "1 EggNOG|Ensembl|HGNC|HomoloGene|Inparanoid|NCBI|OMA|OrthoDB|OrthoMCL|Panther|Treefam          \n",
       "2 EggNOG|Ensembl|HGNC|HomoloGene|Inparanoid|NCBI|OMA|OrthoDB|OrthoMCL|Panther|PhylomeDB|Treefam\n",
       "3 EggNOG|Ensembl|HGNC|HomoloGene|Inparanoid|NCBI|OMA|OrthoDB|OrthoMCL|Panther|Treefam          \n",
       "4 EggNOG|Ensembl|HGNC|HomoloGene|Inparanoid|NCBI|OMA|OrthoDB|OrthoMCL|Panther|PhylomeDB|Treefam\n",
       "5 EggNOG|Ensembl|HGNC|HomoloGene|Inparanoid|NCBI|OMA|OrthoDB|OrthoMCL|Panther|PhylomeDB|Treefam\n",
       "6 EggNOG|Ensembl|HGNC|HomoloGene|Inparanoid|NCBI|OMA|OrthoDB|OrthoMCL|Panther|Treefam          \n",
       "  num_ortholog_sources\n",
       "1 11                  \n",
       "2 12                  \n",
       "3 11                  \n",
       "4 12                  \n",
       "5 12                  \n",
       "6 11                  "
      ]
     },
     "metadata": {},
     "output_type": "display_data"
    }
   ],
   "source": [
    "head(mm_hallmark_sets)"
   ]
  },
  {
   "cell_type": "markdown",
   "metadata": {},
   "source": [
    "Looks like we have a data frame of gene sets with associated gene symbols and Entrez IDs.\n",
    "\n",
    "## 4.5 Gene identifier conversion : ENSEMBLE IDs => GENE SYMBOLs or ENTREZ IDs for GSEA\n",
    "In our differential expression results data frame, `dge_df` we have Ensembl gene identifiers. So we will need to convert our **Ensembl IDs** into either **gene symbols** or **Entrez IDs for GSEA.** <br>\n"
   ]
  },
  {
   "cell_type": "markdown",
   "metadata": {},
   "source": [
    "The annotation package org.Mm.eg.db contains information for different identifiers (Carlson 2019). org.Mm.eg.db is specific to Mus musculus – this is what the Mm in the package name is referencing.\n",
    "\n",
    "We can see what types of IDs are available to us in an annotation package with `keytypes()`.\n",
    "\n"
   ]
  },
  {
   "cell_type": "code",
   "execution_count": 18,
   "metadata": {},
   "outputs": [
    {
     "data": {
      "text/html": [
       "<style>\n",
       ".list-inline {list-style: none; margin:0; padding: 0}\n",
       ".list-inline>li {display: inline-block}\n",
       ".list-inline>li:not(:last-child)::after {content: \"\\00b7\"; padding: 0 .5ex}\n",
       "</style>\n",
       "<ol class=list-inline><li>'ACCNUM'</li><li>'ALIAS'</li><li>'ENSEMBL'</li><li>'ENSEMBLPROT'</li><li>'ENSEMBLTRANS'</li><li>'ENTREZID'</li><li>'ENZYME'</li><li>'EVIDENCE'</li><li>'EVIDENCEALL'</li><li>'GENENAME'</li><li>'GENETYPE'</li><li>'GO'</li><li>'GOALL'</li><li>'IPI'</li><li>'MGI'</li><li>'ONTOLOGY'</li><li>'ONTOLOGYALL'</li><li>'PATH'</li><li>'PFAM'</li><li>'PMID'</li><li>'PROSITE'</li><li>'REFSEQ'</li><li>'SYMBOL'</li><li>'UNIPROT'</li></ol>\n"
      ],
      "text/latex": [
       "\\begin{enumerate*}\n",
       "\\item 'ACCNUM'\n",
       "\\item 'ALIAS'\n",
       "\\item 'ENSEMBL'\n",
       "\\item 'ENSEMBLPROT'\n",
       "\\item 'ENSEMBLTRANS'\n",
       "\\item 'ENTREZID'\n",
       "\\item 'ENZYME'\n",
       "\\item 'EVIDENCE'\n",
       "\\item 'EVIDENCEALL'\n",
       "\\item 'GENENAME'\n",
       "\\item 'GENETYPE'\n",
       "\\item 'GO'\n",
       "\\item 'GOALL'\n",
       "\\item 'IPI'\n",
       "\\item 'MGI'\n",
       "\\item 'ONTOLOGY'\n",
       "\\item 'ONTOLOGYALL'\n",
       "\\item 'PATH'\n",
       "\\item 'PFAM'\n",
       "\\item 'PMID'\n",
       "\\item 'PROSITE'\n",
       "\\item 'REFSEQ'\n",
       "\\item 'SYMBOL'\n",
       "\\item 'UNIPROT'\n",
       "\\end{enumerate*}\n"
      ],
      "text/markdown": [
       "1. 'ACCNUM'\n",
       "2. 'ALIAS'\n",
       "3. 'ENSEMBL'\n",
       "4. 'ENSEMBLPROT'\n",
       "5. 'ENSEMBLTRANS'\n",
       "6. 'ENTREZID'\n",
       "7. 'ENZYME'\n",
       "8. 'EVIDENCE'\n",
       "9. 'EVIDENCEALL'\n",
       "10. 'GENENAME'\n",
       "11. 'GENETYPE'\n",
       "12. 'GO'\n",
       "13. 'GOALL'\n",
       "14. 'IPI'\n",
       "15. 'MGI'\n",
       "16. 'ONTOLOGY'\n",
       "17. 'ONTOLOGYALL'\n",
       "18. 'PATH'\n",
       "19. 'PFAM'\n",
       "20. 'PMID'\n",
       "21. 'PROSITE'\n",
       "22. 'REFSEQ'\n",
       "23. 'SYMBOL'\n",
       "24. 'UNIPROT'\n",
       "\n",
       "\n"
      ],
      "text/plain": [
       " [1] \"ACCNUM\"       \"ALIAS\"        \"ENSEMBL\"      \"ENSEMBLPROT\"  \"ENSEMBLTRANS\"\n",
       " [6] \"ENTREZID\"     \"ENZYME\"       \"EVIDENCE\"     \"EVIDENCEALL\"  \"GENENAME\"    \n",
       "[11] \"GENETYPE\"     \"GO\"           \"GOALL\"        \"IPI\"          \"MGI\"         \n",
       "[16] \"ONTOLOGY\"     \"ONTOLOGYALL\"  \"PATH\"         \"PFAM\"         \"PMID\"        \n",
       "[21] \"PROSITE\"      \"REFSEQ\"       \"SYMBOL\"       \"UNIPROT\"     "
      ]
     },
     "metadata": {},
     "output_type": "display_data"
    }
   ],
   "source": [
    "keytypes(org.Mm.eg.db)"
   ]
  },
  {
   "cell_type": "code",
   "execution_count": 20,
   "metadata": {},
   "outputs": [
    {
     "name": "stderr",
     "output_type": "stream",
     "text": [
      "'select()' returned 1:many mapping between keys and columns\n",
      "\n"
     ]
    }
   ],
   "source": [
    "# First let's create a mapped data frame we can join to the differential\n",
    "# expression stats\n",
    "dge_mapped_df <- data.frame(\n",
    "  gene_symbol = mapIds(\n",
    "    # Replace with annotation package for the organism relevant to your data\n",
    "    org.Mm.eg.db,\n",
    "    keys = dge_df$Gene,\n",
    "    # Replace with the type of gene identifiers in your data\n",
    "    keytype = \"ENSEMBL\",\n",
    "    # Replace with the type of gene identifiers you would like to map to\n",
    "    column = \"SYMBOL\",\n",
    "    # This will keep only the first mapped value for each Ensembl ID\n",
    "    multiVals = \"first\"\n",
    "  )\n",
    ") %>%\n",
    "  # If an Ensembl gene identifier doesn't map to a gene symbol, drop that\n",
    "  # from the data frame\n",
    "  dplyr::filter(!is.na(gene_symbol)) %>%\n",
    "  # Make an `Ensembl` column to store the rownames\n",
    "  tibble::rownames_to_column(\"Ensembl\") %>%\n",
    "  # Now let's join the rest of the expression data\n",
    "  dplyr::inner_join(dge_df, by = c(\"Ensembl\" = \"Gene\"))"
   ]
  },
  {
   "cell_type": "code",
   "execution_count": 21,
   "metadata": {},
   "outputs": [
    {
     "data": {
      "text/html": [
       "<table class=\"dataframe\">\n",
       "<caption>A data.frame: 6 × 8</caption>\n",
       "<thead>\n",
       "\t<tr><th></th><th scope=col>Ensembl</th><th scope=col>gene_symbol</th><th scope=col>baseMean</th><th scope=col>log2FoldChange</th><th scope=col>lfcSE</th><th scope=col>pvalue</th><th scope=col>padj</th><th scope=col>threshold</th></tr>\n",
       "\t<tr><th></th><th scope=col>&lt;chr&gt;</th><th scope=col>&lt;chr&gt;</th><th scope=col>&lt;dbl&gt;</th><th scope=col>&lt;dbl&gt;</th><th scope=col>&lt;dbl&gt;</th><th scope=col>&lt;dbl&gt;</th><th scope=col>&lt;dbl&gt;</th><th scope=col>&lt;lgl&gt;</th></tr>\n",
       "</thead>\n",
       "<tbody>\n",
       "\t<tr><th scope=row>1</th><td>ENSMUSG00000026623</td><td>Lpgat1</td><td> 410.2246</td><td>13.34941</td><td>3.1785683</td><td>3.136545e-23</td><td>9.846024e-21</td><td>TRUE</td></tr>\n",
       "\t<tr><th scope=row>2</th><td>ENSMUSG00000053522</td><td>Lgals7</td><td> 264.2813</td><td>12.64196</td><td>3.1094261</td><td>3.637922e-21</td><td>8.755266e-19</td><td>TRUE</td></tr>\n",
       "\t<tr><th scope=row>3</th><td>ENSMUSG00000047361</td><td>Gm973 </td><td> 244.2814</td><td>12.51824</td><td>3.0932613</td><td>4.912369e-21</td><td>1.144107e-18</td><td>TRUE</td></tr>\n",
       "\t<tr><th scope=row>4</th><td>ENSMUSG00000037325</td><td>Bbs7  </td><td>3450.3577</td><td>12.19278</td><td>0.7264098</td><td>1.238587e-60</td><td>1.788520e-57</td><td>TRUE</td></tr>\n",
       "\t<tr><th scope=row>5</th><td>ENSMUSG00000039315</td><td>Clnk  </td><td> 133.4210</td><td>11.52481</td><td>3.0062669</td><td>1.335432e-17</td><td>2.380696e-15</td><td>TRUE</td></tr>\n",
       "\t<tr><th scope=row>6</th><td>ENSMUSG00000066721</td><td>Zfp575</td><td> 670.5532</td><td>10.20900</td><td>0.8314783</td><td>3.437166e-33</td><td>1.711471e-30</td><td>TRUE</td></tr>\n",
       "</tbody>\n",
       "</table>\n"
      ],
      "text/latex": [
       "A data.frame: 6 × 8\n",
       "\\begin{tabular}{r|llllllll}\n",
       "  & Ensembl & gene\\_symbol & baseMean & log2FoldChange & lfcSE & pvalue & padj & threshold\\\\\n",
       "  & <chr> & <chr> & <dbl> & <dbl> & <dbl> & <dbl> & <dbl> & <lgl>\\\\\n",
       "\\hline\n",
       "\t1 & ENSMUSG00000026623 & Lpgat1 &  410.2246 & 13.34941 & 3.1785683 & 3.136545e-23 & 9.846024e-21 & TRUE\\\\\n",
       "\t2 & ENSMUSG00000053522 & Lgals7 &  264.2813 & 12.64196 & 3.1094261 & 3.637922e-21 & 8.755266e-19 & TRUE\\\\\n",
       "\t3 & ENSMUSG00000047361 & Gm973  &  244.2814 & 12.51824 & 3.0932613 & 4.912369e-21 & 1.144107e-18 & TRUE\\\\\n",
       "\t4 & ENSMUSG00000037325 & Bbs7   & 3450.3577 & 12.19278 & 0.7264098 & 1.238587e-60 & 1.788520e-57 & TRUE\\\\\n",
       "\t5 & ENSMUSG00000039315 & Clnk   &  133.4210 & 11.52481 & 3.0062669 & 1.335432e-17 & 2.380696e-15 & TRUE\\\\\n",
       "\t6 & ENSMUSG00000066721 & Zfp575 &  670.5532 & 10.20900 & 0.8314783 & 3.437166e-33 & 1.711471e-30 & TRUE\\\\\n",
       "\\end{tabular}\n"
      ],
      "text/markdown": [
       "\n",
       "A data.frame: 6 × 8\n",
       "\n",
       "| <!--/--> | Ensembl &lt;chr&gt; | gene_symbol &lt;chr&gt; | baseMean &lt;dbl&gt; | log2FoldChange &lt;dbl&gt; | lfcSE &lt;dbl&gt; | pvalue &lt;dbl&gt; | padj &lt;dbl&gt; | threshold &lt;lgl&gt; |\n",
       "|---|---|---|---|---|---|---|---|---|\n",
       "| 1 | ENSMUSG00000026623 | Lpgat1 |  410.2246 | 13.34941 | 3.1785683 | 3.136545e-23 | 9.846024e-21 | TRUE |\n",
       "| 2 | ENSMUSG00000053522 | Lgals7 |  264.2813 | 12.64196 | 3.1094261 | 3.637922e-21 | 8.755266e-19 | TRUE |\n",
       "| 3 | ENSMUSG00000047361 | Gm973  |  244.2814 | 12.51824 | 3.0932613 | 4.912369e-21 | 1.144107e-18 | TRUE |\n",
       "| 4 | ENSMUSG00000037325 | Bbs7   | 3450.3577 | 12.19278 | 0.7264098 | 1.238587e-60 | 1.788520e-57 | TRUE |\n",
       "| 5 | ENSMUSG00000039315 | Clnk   |  133.4210 | 11.52481 | 3.0062669 | 1.335432e-17 | 2.380696e-15 | TRUE |\n",
       "| 6 | ENSMUSG00000066721 | Zfp575 |  670.5532 | 10.20900 | 0.8314783 | 3.437166e-33 | 1.711471e-30 | TRUE |\n",
       "\n"
      ],
      "text/plain": [
       "  Ensembl            gene_symbol baseMean  log2FoldChange lfcSE    \n",
       "1 ENSMUSG00000026623 Lpgat1       410.2246 13.34941       3.1785683\n",
       "2 ENSMUSG00000053522 Lgals7       264.2813 12.64196       3.1094261\n",
       "3 ENSMUSG00000047361 Gm973        244.2814 12.51824       3.0932613\n",
       "4 ENSMUSG00000037325 Bbs7        3450.3577 12.19278       0.7264098\n",
       "5 ENSMUSG00000039315 Clnk         133.4210 11.52481       3.0062669\n",
       "6 ENSMUSG00000066721 Zfp575       670.5532 10.20900       0.8314783\n",
       "  pvalue       padj         threshold\n",
       "1 3.136545e-23 9.846024e-21 TRUE     \n",
       "2 3.637922e-21 8.755266e-19 TRUE     \n",
       "3 4.912369e-21 1.144107e-18 TRUE     \n",
       "4 1.238587e-60 1.788520e-57 TRUE     \n",
       "5 1.335432e-17 2.380696e-15 TRUE     \n",
       "6 3.437166e-33 1.711471e-30 TRUE     "
      ]
     },
     "metadata": {},
     "output_type": "display_data"
    }
   ],
   "source": [
    "head(dge_mapped_df)"
   ]
  },
  {
   "cell_type": "markdown",
   "metadata": {},
   "source": [
    "## 4.6 Perform gene set enrichment analysis (GSEA)\n",
    "\n",
    "### 4.6.1 Determine our pre-ranked genes list\n",
    "The `GSEA()` function takes a **pre-ranked and sorted named vector of statistics**, where the names in the vector are gene identifiers. <br>\n",
    "It requires unique gene identifiers to produce the most accurate results, so we will need to resolve any duplicates found in our dataset. (The GSEA() function will throw a warning if we do not do this ahead of time.)<br>\n",
    "Let’s check to see if we have any gene symbols that mapped to multiple Ensembl IDs.\n",
    "\n",
    "\n"
   ]
  },
  {
   "cell_type": "code",
   "execution_count": 24,
   "metadata": {},
   "outputs": [
    {
     "data": {
      "text/html": [
       "TRUE"
      ],
      "text/latex": [
       "TRUE"
      ],
      "text/markdown": [
       "TRUE"
      ],
      "text/plain": [
       "[1] TRUE"
      ]
     },
     "metadata": {},
     "output_type": "display_data"
    }
   ],
   "source": [
    "any(duplicated(dge_mapped_df$gene_symbol))"
   ]
  },
  {
   "cell_type": "code",
   "execution_count": 25,
   "metadata": {},
   "outputs": [],
   "source": [
    "dup_gene_symbols <- dge_mapped_df %>%\n",
    "  dplyr::filter(duplicated(gene_symbol)) %>%\n",
    "  dplyr::pull(gene_symbol)"
   ]
  },
  {
   "cell_type": "code",
   "execution_count": 26,
   "metadata": {},
   "outputs": [
    {
     "data": {
      "text/html": [
       "<table class=\"dataframe\">\n",
       "<caption>A data.frame: 53 × 8</caption>\n",
       "<thead>\n",
       "\t<tr><th scope=col>Ensembl</th><th scope=col>gene_symbol</th><th scope=col>baseMean</th><th scope=col>log2FoldChange</th><th scope=col>lfcSE</th><th scope=col>pvalue</th><th scope=col>padj</th><th scope=col>threshold</th></tr>\n",
       "\t<tr><th scope=col>&lt;chr&gt;</th><th scope=col>&lt;chr&gt;</th><th scope=col>&lt;dbl&gt;</th><th scope=col>&lt;dbl&gt;</th><th scope=col>&lt;dbl&gt;</th><th scope=col>&lt;dbl&gt;</th><th scope=col>&lt;dbl&gt;</th><th scope=col>&lt;lgl&gt;</th></tr>\n",
       "</thead>\n",
       "<tbody>\n",
       "\t<tr><td>ENSMUSG00000020807</td><td>4933427D14Rik</td><td>  419.549545</td><td> 0.146646946</td><td>0.2730934</td><td>0.4245237607</td><td>0.676489236</td><td>FALSE</td></tr>\n",
       "\t<tr><td>ENSMUSG00000107877</td><td>4933427D14Rik</td><td>    9.663449</td><td> 0.084628736</td><td>0.3279114</td><td>0.5469737243</td><td>0.770237739</td><td>FALSE</td></tr>\n",
       "\t<tr><td>ENSMUSG00000084897</td><td>a            </td><td>    2.073324</td><td> 0.084452606</td><td>0.3599661</td><td>0.2032149281</td><td>         NA</td><td>   NA</td></tr>\n",
       "\t<tr><td>ENSMUSG00000027596</td><td>a            </td><td>  346.703281</td><td>-0.921522346</td><td>0.3049298</td><td>0.0002555311</td><td>0.003214171</td><td> TRUE</td></tr>\n",
       "\t<tr><td>ENSMUSG00000102805</td><td>Arfip1       </td><td>    4.674151</td><td>-0.001449427</td><td>0.3408795</td><td>0.9833653731</td><td>         NA</td><td>   NA</td></tr>\n",
       "\t<tr><td>ENSMUSG00000074513</td><td>Arfip1       </td><td> 2473.941069</td><td>-0.494452729</td><td>0.1395780</td><td>0.0001311351</td><td>0.001867447</td><td> TRUE</td></tr>\n",
       "\t<tr><td>ENSMUSG00000022194</td><td>Bcl2l2       </td><td> 3985.258551</td><td> 0.379396314</td><td>0.1492002</td><td>0.0052994268</td><td>0.034428796</td><td> TRUE</td></tr>\n",
       "\t<tr><td>ENSMUSG00000089682</td><td>Bcl2l2       </td><td> 1208.595007</td><td>-0.146549055</td><td>0.1693892</td><td>0.3218424463</td><td>0.578208345</td><td>FALSE</td></tr>\n",
       "\t<tr><td>ENSMUSG00000079737</td><td>Bfar         </td><td>  301.020469</td><td> 0.513947803</td><td>0.1904663</td><td>0.0020316034</td><td>0.016307033</td><td> TRUE</td></tr>\n",
       "\t<tr><td>ENSMUSG00000022684</td><td>Bfar         </td><td>  943.793562</td><td>-0.180054235</td><td>0.1626307</td><td>0.2103827672</td><td>0.446338868</td><td>FALSE</td></tr>\n",
       "\t<tr><td>ENSMUSG00000096768</td><td>Erdr1        </td><td>  774.262574</td><td> 0.161407077</td><td>0.2313377</td><td>0.3654895670</td><td>0.620975332</td><td>FALSE</td></tr>\n",
       "\t<tr><td>ENSMUSG00000095562</td><td>Erdr1        </td><td>   49.641191</td><td>-0.027235783</td><td>0.3328659</td><td>0.7982012834</td><td>0.913531468</td><td>FALSE</td></tr>\n",
       "\t<tr><td>ENSMUSG00000118332</td><td>Fam220a      </td><td>  534.998446</td><td>-0.002281525</td><td>0.1505227</td><td>0.9853492530</td><td>0.995203037</td><td>FALSE</td></tr>\n",
       "\t<tr><td>ENSMUSG00000083012</td><td>Fam220a      </td><td>   84.256697</td><td>-0.065601209</td><td>0.2225082</td><td>0.7025880197</td><td>0.864171295</td><td>FALSE</td></tr>\n",
       "\t<tr><td>ENSMUSG00000095545</td><td>Gm4724       </td><td>   76.810426</td><td> 0.572021737</td><td>0.4335273</td><td>0.0272037268</td><td>0.114350482</td><td>FALSE</td></tr>\n",
       "\t<tr><td>ENSMUSG00000078897</td><td>Gm4724       </td><td>  142.156885</td><td>-0.005089414</td><td>0.2542465</td><td>0.9745725786</td><td>0.989950462</td><td>FALSE</td></tr>\n",
       "\t<tr><td>ENSMUSG00000051396</td><td>Hspa14       </td><td>  299.176867</td><td> 0.462257604</td><td>0.2058632</td><td>0.0081512954</td><td>0.047866900</td><td> TRUE</td></tr>\n",
       "\t<tr><td>ENSMUSG00000109865</td><td>Hspa14       </td><td> 3350.220477</td><td> 0.122251365</td><td>0.1553989</td><td>0.3846896509</td><td>0.638790083</td><td>FALSE</td></tr>\n",
       "\t<tr><td>ENSMUSG00000062593</td><td>Lilrb4a      </td><td>  561.565967</td><td>-0.163631315</td><td>0.2737693</td><td>0.3744270871</td><td>0.629732960</td><td>FALSE</td></tr>\n",
       "\t<tr><td>ENSMUSG00000112148</td><td>Lilrb4a      </td><td>31030.816680</td><td>-0.385844767</td><td>0.3267026</td><td>0.0767369567</td><td>0.234068791</td><td>FALSE</td></tr>\n",
       "\t<tr><td>ENSMUSG00000006471</td><td>Ndor1        </td><td> 1138.450282</td><td> 0.235982898</td><td>0.1761964</td><td>0.1226007762</td><td>0.318997343</td><td>FALSE</td></tr>\n",
       "\t<tr><td>ENSMUSG00000115074</td><td>Ndor1        </td><td>    4.630240</td><td>-0.037145046</td><td>0.3498033</td><td>0.4890665363</td><td>         NA</td><td>   NA</td></tr>\n",
       "\t<tr><td>ENSMUSG00000116207</td><td>Nnt          </td><td> 1238.606579</td><td> 0.346968247</td><td>0.1464792</td><td>0.0092947872</td><td>0.052903716</td><td>FALSE</td></tr>\n",
       "\t<tr><td>ENSMUSG00000025453</td><td>Nnt          </td><td>  396.716643</td><td>-0.444191473</td><td>0.1770942</td><td>0.0044515240</td><td>0.030367449</td><td> TRUE</td></tr>\n",
       "\t<tr><td>ENSMUSG00000112743</td><td>Nt5dc3       </td><td>   39.337753</td><td>-0.035865679</td><td>0.3074139</td><td>0.8094371146</td><td>0.919028380</td><td>FALSE</td></tr>\n",
       "\t<tr><td>ENSMUSG00000054027</td><td>Nt5dc3       </td><td> 1065.478678</td><td>-0.112417024</td><td>0.1722333</td><td>0.4525763063</td><td>0.698469589</td><td>FALSE</td></tr>\n",
       "\t<tr><td>ENSMUSG00000038729</td><td>Pakap        </td><td>   12.154434</td><td> 0.047672576</td><td>0.3265310</td><td>0.7111887047</td><td>0.869123637</td><td>FALSE</td></tr>\n",
       "\t<tr><td>ENSMUSG00000089945</td><td>Pakap        </td><td>    4.313983</td><td>-0.035490096</td><td>0.3501047</td><td>0.4802627361</td><td>         NA</td><td>   NA</td></tr>\n",
       "\t<tr><td>ENSMUSG00000090053</td><td>Pakap        </td><td>    1.822637</td><td>-0.039800157</td><td>0.3464421</td><td>0.5805199928</td><td>         NA</td><td>   NA</td></tr>\n",
       "\t<tr><td>ENSMUSG00000079109</td><td>Pms2         </td><td> 1059.637793</td><td> 0.049695172</td><td>0.1347748</td><td>0.6905209759</td><td>0.858887526</td><td>FALSE</td></tr>\n",
       "\t<tr><td>ENSMUSG00000075569</td><td>Pms2         </td><td>    7.914174</td><td>-0.016872371</td><td>0.3308353</td><td>0.8772875251</td><td>         NA</td><td>   NA</td></tr>\n",
       "\t<tr><td>ENSMUSG00000026064</td><td>Ptp4a1       </td><td>  105.074506</td><td> 0.681616356</td><td>0.4305778</td><td>0.0134092630</td><td>0.068833899</td><td>FALSE</td></tr>\n",
       "\t<tr><td>ENSMUSG00000117310</td><td>Ptp4a1       </td><td> 5248.276425</td><td> 0.338551430</td><td>0.1543211</td><td>0.0149204652</td><td>0.074370562</td><td>FALSE</td></tr>\n",
       "\t<tr><td>ENSMUSG00000090202</td><td>Samd13       </td><td>   19.341196</td><td>-0.031857841</td><td>0.3344729</td><td>0.7611469299</td><td>0.896343310</td><td>FALSE</td></tr>\n",
       "\t<tr><td>ENSMUSG00000048652</td><td>Samd13       </td><td>  139.723354</td><td>-0.156652931</td><td>0.2760884</td><td>0.3925366969</td><td>0.646320400</td><td>FALSE</td></tr>\n",
       "\t<tr><td>ENSMUSG00000026276</td><td>Septin2      </td><td> 1031.103479</td><td> 0.182977362</td><td>0.1356363</td><td>0.1428430979</td><td>0.351090099</td><td>FALSE</td></tr>\n",
       "\t<tr><td>ENSMUSG00000116048</td><td>Septin2      </td><td> 8960.608610</td><td> 0.014247820</td><td>0.1423207</td><td>0.9121201992</td><td>0.964408849</td><td>FALSE</td></tr>\n",
       "\t<tr><td>ENSMUSG00000096764</td><td>Slc12a6      </td><td>   67.200938</td><td>-0.068962615</td><td>0.2855778</td><td>0.6840470205</td><td>0.855966469</td><td>FALSE</td></tr>\n",
       "\t<tr><td>ENSMUSG00000027130</td><td>Slc12a6      </td><td> 2578.019452</td><td>-0.261254139</td><td>0.1977088</td><td>0.1139281058</td><td>0.304314067</td><td>FALSE</td></tr>\n",
       "\t<tr><td>ENSMUSG00000052293</td><td>Taf9         </td><td>  195.203147</td><td>-0.025094323</td><td>0.2393296</td><td>0.8842316227</td><td>0.951793115</td><td>FALSE</td></tr>\n",
       "\t<tr><td>ENSMUSG00000078941</td><td>Taf9         </td><td> 4203.851811</td><td>-0.086320243</td><td>0.1144550</td><td>0.4285359192</td><td>0.679947464</td><td>FALSE</td></tr>\n",
       "\t<tr><td>ENSMUSG00000110234</td><td>Timm10b      </td><td>  249.603784</td><td> 0.365145368</td><td>0.1968655</td><td>0.0287838199</td><td>0.119436310</td><td>FALSE</td></tr>\n",
       "\t<tr><td>ENSMUSG00000089847</td><td>Timm10b      </td><td>  624.998627</td><td> 0.282116891</td><td>0.1628978</td><td>0.0508839115</td><td>0.176753352</td><td>FALSE</td></tr>\n",
       "\t<tr><td>ENSMUSG00000091614</td><td>Tmem217      </td><td>   27.121741</td><td> 0.218250812</td><td>0.3733592</td><td>0.2031639260</td><td>0.437147638</td><td>FALSE</td></tr>\n",
       "\t<tr><td>ENSMUSG00000079580</td><td>Tmem217      </td><td>    5.323229</td><td>-0.005584358</td><td>0.3380541</td><td>0.9483639708</td><td>         NA</td><td>   NA</td></tr>\n",
       "\t<tr><td>ENSMUSG00000057130</td><td>Txnl4a       </td><td> 1079.788109</td><td> 0.215888317</td><td>0.1521136</td><td>0.1142121965</td><td>0.304847342</td><td>FALSE</td></tr>\n",
       "\t<tr><td>ENSMUSG00000024571</td><td>Txnl4a       </td><td> 4485.400000</td><td> 0.057471575</td><td>0.1103004</td><td>0.5831263448</td><td>0.794314770</td><td>FALSE</td></tr>\n",
       "\t<tr><td>ENSMUSG00000110105</td><td>Vmn2r29      </td><td>   72.567629</td><td>-0.133425501</td><td>0.2869619</td><td>0.4560459768</td><td>0.701609195</td><td>FALSE</td></tr>\n",
       "\t<tr><td>ENSMUSG00000095730</td><td>Vmn2r29      </td><td>   33.056447</td><td>-1.002435610</td><td>0.7997388</td><td>0.0087601484</td><td>0.050591738</td><td>FALSE</td></tr>\n",
       "\t<tr><td>ENSMUSG00000102976</td><td>Zc3h11a      </td><td> 4904.965242</td><td> 0.150835344</td><td>0.1481204</td><td>0.2608499664</td><td>0.509715454</td><td>FALSE</td></tr>\n",
       "\t<tr><td>ENSMUSG00000116275</td><td>Zc3h11a      </td><td>  229.532345</td><td> 0.015390345</td><td>0.3502734</td><td>          NA</td><td>         NA</td><td>   NA</td></tr>\n",
       "\t<tr><td>ENSMUSG00000078896</td><td>Zfp965       </td><td>  102.786274</td><td> 0.254164899</td><td>0.3050738</td><td>0.1974886448</td><td>0.430242797</td><td>FALSE</td></tr>\n",
       "\t<tr><td>ENSMUSG00000094475</td><td>Zfp965       </td><td>  347.212267</td><td>-0.024921669</td><td>0.2205364</td><td>0.8822420035</td><td>0.951211419</td><td>FALSE</td></tr>\n",
       "</tbody>\n",
       "</table>\n"
      ],
      "text/latex": [
       "A data.frame: 53 × 8\n",
       "\\begin{tabular}{llllllll}\n",
       " Ensembl & gene\\_symbol & baseMean & log2FoldChange & lfcSE & pvalue & padj & threshold\\\\\n",
       " <chr> & <chr> & <dbl> & <dbl> & <dbl> & <dbl> & <dbl> & <lgl>\\\\\n",
       "\\hline\n",
       "\t ENSMUSG00000020807 & 4933427D14Rik &   419.549545 &  0.146646946 & 0.2730934 & 0.4245237607 & 0.676489236 & FALSE\\\\\n",
       "\t ENSMUSG00000107877 & 4933427D14Rik &     9.663449 &  0.084628736 & 0.3279114 & 0.5469737243 & 0.770237739 & FALSE\\\\\n",
       "\t ENSMUSG00000084897 & a             &     2.073324 &  0.084452606 & 0.3599661 & 0.2032149281 &          NA &    NA\\\\\n",
       "\t ENSMUSG00000027596 & a             &   346.703281 & -0.921522346 & 0.3049298 & 0.0002555311 & 0.003214171 &  TRUE\\\\\n",
       "\t ENSMUSG00000102805 & Arfip1        &     4.674151 & -0.001449427 & 0.3408795 & 0.9833653731 &          NA &    NA\\\\\n",
       "\t ENSMUSG00000074513 & Arfip1        &  2473.941069 & -0.494452729 & 0.1395780 & 0.0001311351 & 0.001867447 &  TRUE\\\\\n",
       "\t ENSMUSG00000022194 & Bcl2l2        &  3985.258551 &  0.379396314 & 0.1492002 & 0.0052994268 & 0.034428796 &  TRUE\\\\\n",
       "\t ENSMUSG00000089682 & Bcl2l2        &  1208.595007 & -0.146549055 & 0.1693892 & 0.3218424463 & 0.578208345 & FALSE\\\\\n",
       "\t ENSMUSG00000079737 & Bfar          &   301.020469 &  0.513947803 & 0.1904663 & 0.0020316034 & 0.016307033 &  TRUE\\\\\n",
       "\t ENSMUSG00000022684 & Bfar          &   943.793562 & -0.180054235 & 0.1626307 & 0.2103827672 & 0.446338868 & FALSE\\\\\n",
       "\t ENSMUSG00000096768 & Erdr1         &   774.262574 &  0.161407077 & 0.2313377 & 0.3654895670 & 0.620975332 & FALSE\\\\\n",
       "\t ENSMUSG00000095562 & Erdr1         &    49.641191 & -0.027235783 & 0.3328659 & 0.7982012834 & 0.913531468 & FALSE\\\\\n",
       "\t ENSMUSG00000118332 & Fam220a       &   534.998446 & -0.002281525 & 0.1505227 & 0.9853492530 & 0.995203037 & FALSE\\\\\n",
       "\t ENSMUSG00000083012 & Fam220a       &    84.256697 & -0.065601209 & 0.2225082 & 0.7025880197 & 0.864171295 & FALSE\\\\\n",
       "\t ENSMUSG00000095545 & Gm4724        &    76.810426 &  0.572021737 & 0.4335273 & 0.0272037268 & 0.114350482 & FALSE\\\\\n",
       "\t ENSMUSG00000078897 & Gm4724        &   142.156885 & -0.005089414 & 0.2542465 & 0.9745725786 & 0.989950462 & FALSE\\\\\n",
       "\t ENSMUSG00000051396 & Hspa14        &   299.176867 &  0.462257604 & 0.2058632 & 0.0081512954 & 0.047866900 &  TRUE\\\\\n",
       "\t ENSMUSG00000109865 & Hspa14        &  3350.220477 &  0.122251365 & 0.1553989 & 0.3846896509 & 0.638790083 & FALSE\\\\\n",
       "\t ENSMUSG00000062593 & Lilrb4a       &   561.565967 & -0.163631315 & 0.2737693 & 0.3744270871 & 0.629732960 & FALSE\\\\\n",
       "\t ENSMUSG00000112148 & Lilrb4a       & 31030.816680 & -0.385844767 & 0.3267026 & 0.0767369567 & 0.234068791 & FALSE\\\\\n",
       "\t ENSMUSG00000006471 & Ndor1         &  1138.450282 &  0.235982898 & 0.1761964 & 0.1226007762 & 0.318997343 & FALSE\\\\\n",
       "\t ENSMUSG00000115074 & Ndor1         &     4.630240 & -0.037145046 & 0.3498033 & 0.4890665363 &          NA &    NA\\\\\n",
       "\t ENSMUSG00000116207 & Nnt           &  1238.606579 &  0.346968247 & 0.1464792 & 0.0092947872 & 0.052903716 & FALSE\\\\\n",
       "\t ENSMUSG00000025453 & Nnt           &   396.716643 & -0.444191473 & 0.1770942 & 0.0044515240 & 0.030367449 &  TRUE\\\\\n",
       "\t ENSMUSG00000112743 & Nt5dc3        &    39.337753 & -0.035865679 & 0.3074139 & 0.8094371146 & 0.919028380 & FALSE\\\\\n",
       "\t ENSMUSG00000054027 & Nt5dc3        &  1065.478678 & -0.112417024 & 0.1722333 & 0.4525763063 & 0.698469589 & FALSE\\\\\n",
       "\t ENSMUSG00000038729 & Pakap         &    12.154434 &  0.047672576 & 0.3265310 & 0.7111887047 & 0.869123637 & FALSE\\\\\n",
       "\t ENSMUSG00000089945 & Pakap         &     4.313983 & -0.035490096 & 0.3501047 & 0.4802627361 &          NA &    NA\\\\\n",
       "\t ENSMUSG00000090053 & Pakap         &     1.822637 & -0.039800157 & 0.3464421 & 0.5805199928 &          NA &    NA\\\\\n",
       "\t ENSMUSG00000079109 & Pms2          &  1059.637793 &  0.049695172 & 0.1347748 & 0.6905209759 & 0.858887526 & FALSE\\\\\n",
       "\t ENSMUSG00000075569 & Pms2          &     7.914174 & -0.016872371 & 0.3308353 & 0.8772875251 &          NA &    NA\\\\\n",
       "\t ENSMUSG00000026064 & Ptp4a1        &   105.074506 &  0.681616356 & 0.4305778 & 0.0134092630 & 0.068833899 & FALSE\\\\\n",
       "\t ENSMUSG00000117310 & Ptp4a1        &  5248.276425 &  0.338551430 & 0.1543211 & 0.0149204652 & 0.074370562 & FALSE\\\\\n",
       "\t ENSMUSG00000090202 & Samd13        &    19.341196 & -0.031857841 & 0.3344729 & 0.7611469299 & 0.896343310 & FALSE\\\\\n",
       "\t ENSMUSG00000048652 & Samd13        &   139.723354 & -0.156652931 & 0.2760884 & 0.3925366969 & 0.646320400 & FALSE\\\\\n",
       "\t ENSMUSG00000026276 & Septin2       &  1031.103479 &  0.182977362 & 0.1356363 & 0.1428430979 & 0.351090099 & FALSE\\\\\n",
       "\t ENSMUSG00000116048 & Septin2       &  8960.608610 &  0.014247820 & 0.1423207 & 0.9121201992 & 0.964408849 & FALSE\\\\\n",
       "\t ENSMUSG00000096764 & Slc12a6       &    67.200938 & -0.068962615 & 0.2855778 & 0.6840470205 & 0.855966469 & FALSE\\\\\n",
       "\t ENSMUSG00000027130 & Slc12a6       &  2578.019452 & -0.261254139 & 0.1977088 & 0.1139281058 & 0.304314067 & FALSE\\\\\n",
       "\t ENSMUSG00000052293 & Taf9          &   195.203147 & -0.025094323 & 0.2393296 & 0.8842316227 & 0.951793115 & FALSE\\\\\n",
       "\t ENSMUSG00000078941 & Taf9          &  4203.851811 & -0.086320243 & 0.1144550 & 0.4285359192 & 0.679947464 & FALSE\\\\\n",
       "\t ENSMUSG00000110234 & Timm10b       &   249.603784 &  0.365145368 & 0.1968655 & 0.0287838199 & 0.119436310 & FALSE\\\\\n",
       "\t ENSMUSG00000089847 & Timm10b       &   624.998627 &  0.282116891 & 0.1628978 & 0.0508839115 & 0.176753352 & FALSE\\\\\n",
       "\t ENSMUSG00000091614 & Tmem217       &    27.121741 &  0.218250812 & 0.3733592 & 0.2031639260 & 0.437147638 & FALSE\\\\\n",
       "\t ENSMUSG00000079580 & Tmem217       &     5.323229 & -0.005584358 & 0.3380541 & 0.9483639708 &          NA &    NA\\\\\n",
       "\t ENSMUSG00000057130 & Txnl4a        &  1079.788109 &  0.215888317 & 0.1521136 & 0.1142121965 & 0.304847342 & FALSE\\\\\n",
       "\t ENSMUSG00000024571 & Txnl4a        &  4485.400000 &  0.057471575 & 0.1103004 & 0.5831263448 & 0.794314770 & FALSE\\\\\n",
       "\t ENSMUSG00000110105 & Vmn2r29       &    72.567629 & -0.133425501 & 0.2869619 & 0.4560459768 & 0.701609195 & FALSE\\\\\n",
       "\t ENSMUSG00000095730 & Vmn2r29       &    33.056447 & -1.002435610 & 0.7997388 & 0.0087601484 & 0.050591738 & FALSE\\\\\n",
       "\t ENSMUSG00000102976 & Zc3h11a       &  4904.965242 &  0.150835344 & 0.1481204 & 0.2608499664 & 0.509715454 & FALSE\\\\\n",
       "\t ENSMUSG00000116275 & Zc3h11a       &   229.532345 &  0.015390345 & 0.3502734 &           NA &          NA &    NA\\\\\n",
       "\t ENSMUSG00000078896 & Zfp965        &   102.786274 &  0.254164899 & 0.3050738 & 0.1974886448 & 0.430242797 & FALSE\\\\\n",
       "\t ENSMUSG00000094475 & Zfp965        &   347.212267 & -0.024921669 & 0.2205364 & 0.8822420035 & 0.951211419 & FALSE\\\\\n",
       "\\end{tabular}\n"
      ],
      "text/markdown": [
       "\n",
       "A data.frame: 53 × 8\n",
       "\n",
       "| Ensembl &lt;chr&gt; | gene_symbol &lt;chr&gt; | baseMean &lt;dbl&gt; | log2FoldChange &lt;dbl&gt; | lfcSE &lt;dbl&gt; | pvalue &lt;dbl&gt; | padj &lt;dbl&gt; | threshold &lt;lgl&gt; |\n",
       "|---|---|---|---|---|---|---|---|\n",
       "| ENSMUSG00000020807 | 4933427D14Rik |   419.549545 |  0.146646946 | 0.2730934 | 0.4245237607 | 0.676489236 | FALSE |\n",
       "| ENSMUSG00000107877 | 4933427D14Rik |     9.663449 |  0.084628736 | 0.3279114 | 0.5469737243 | 0.770237739 | FALSE |\n",
       "| ENSMUSG00000084897 | a             |     2.073324 |  0.084452606 | 0.3599661 | 0.2032149281 |          NA |    NA |\n",
       "| ENSMUSG00000027596 | a             |   346.703281 | -0.921522346 | 0.3049298 | 0.0002555311 | 0.003214171 |  TRUE |\n",
       "| ENSMUSG00000102805 | Arfip1        |     4.674151 | -0.001449427 | 0.3408795 | 0.9833653731 |          NA |    NA |\n",
       "| ENSMUSG00000074513 | Arfip1        |  2473.941069 | -0.494452729 | 0.1395780 | 0.0001311351 | 0.001867447 |  TRUE |\n",
       "| ENSMUSG00000022194 | Bcl2l2        |  3985.258551 |  0.379396314 | 0.1492002 | 0.0052994268 | 0.034428796 |  TRUE |\n",
       "| ENSMUSG00000089682 | Bcl2l2        |  1208.595007 | -0.146549055 | 0.1693892 | 0.3218424463 | 0.578208345 | FALSE |\n",
       "| ENSMUSG00000079737 | Bfar          |   301.020469 |  0.513947803 | 0.1904663 | 0.0020316034 | 0.016307033 |  TRUE |\n",
       "| ENSMUSG00000022684 | Bfar          |   943.793562 | -0.180054235 | 0.1626307 | 0.2103827672 | 0.446338868 | FALSE |\n",
       "| ENSMUSG00000096768 | Erdr1         |   774.262574 |  0.161407077 | 0.2313377 | 0.3654895670 | 0.620975332 | FALSE |\n",
       "| ENSMUSG00000095562 | Erdr1         |    49.641191 | -0.027235783 | 0.3328659 | 0.7982012834 | 0.913531468 | FALSE |\n",
       "| ENSMUSG00000118332 | Fam220a       |   534.998446 | -0.002281525 | 0.1505227 | 0.9853492530 | 0.995203037 | FALSE |\n",
       "| ENSMUSG00000083012 | Fam220a       |    84.256697 | -0.065601209 | 0.2225082 | 0.7025880197 | 0.864171295 | FALSE |\n",
       "| ENSMUSG00000095545 | Gm4724        |    76.810426 |  0.572021737 | 0.4335273 | 0.0272037268 | 0.114350482 | FALSE |\n",
       "| ENSMUSG00000078897 | Gm4724        |   142.156885 | -0.005089414 | 0.2542465 | 0.9745725786 | 0.989950462 | FALSE |\n",
       "| ENSMUSG00000051396 | Hspa14        |   299.176867 |  0.462257604 | 0.2058632 | 0.0081512954 | 0.047866900 |  TRUE |\n",
       "| ENSMUSG00000109865 | Hspa14        |  3350.220477 |  0.122251365 | 0.1553989 | 0.3846896509 | 0.638790083 | FALSE |\n",
       "| ENSMUSG00000062593 | Lilrb4a       |   561.565967 | -0.163631315 | 0.2737693 | 0.3744270871 | 0.629732960 | FALSE |\n",
       "| ENSMUSG00000112148 | Lilrb4a       | 31030.816680 | -0.385844767 | 0.3267026 | 0.0767369567 | 0.234068791 | FALSE |\n",
       "| ENSMUSG00000006471 | Ndor1         |  1138.450282 |  0.235982898 | 0.1761964 | 0.1226007762 | 0.318997343 | FALSE |\n",
       "| ENSMUSG00000115074 | Ndor1         |     4.630240 | -0.037145046 | 0.3498033 | 0.4890665363 |          NA |    NA |\n",
       "| ENSMUSG00000116207 | Nnt           |  1238.606579 |  0.346968247 | 0.1464792 | 0.0092947872 | 0.052903716 | FALSE |\n",
       "| ENSMUSG00000025453 | Nnt           |   396.716643 | -0.444191473 | 0.1770942 | 0.0044515240 | 0.030367449 |  TRUE |\n",
       "| ENSMUSG00000112743 | Nt5dc3        |    39.337753 | -0.035865679 | 0.3074139 | 0.8094371146 | 0.919028380 | FALSE |\n",
       "| ENSMUSG00000054027 | Nt5dc3        |  1065.478678 | -0.112417024 | 0.1722333 | 0.4525763063 | 0.698469589 | FALSE |\n",
       "| ENSMUSG00000038729 | Pakap         |    12.154434 |  0.047672576 | 0.3265310 | 0.7111887047 | 0.869123637 | FALSE |\n",
       "| ENSMUSG00000089945 | Pakap         |     4.313983 | -0.035490096 | 0.3501047 | 0.4802627361 |          NA |    NA |\n",
       "| ENSMUSG00000090053 | Pakap         |     1.822637 | -0.039800157 | 0.3464421 | 0.5805199928 |          NA |    NA |\n",
       "| ENSMUSG00000079109 | Pms2          |  1059.637793 |  0.049695172 | 0.1347748 | 0.6905209759 | 0.858887526 | FALSE |\n",
       "| ENSMUSG00000075569 | Pms2          |     7.914174 | -0.016872371 | 0.3308353 | 0.8772875251 |          NA |    NA |\n",
       "| ENSMUSG00000026064 | Ptp4a1        |   105.074506 |  0.681616356 | 0.4305778 | 0.0134092630 | 0.068833899 | FALSE |\n",
       "| ENSMUSG00000117310 | Ptp4a1        |  5248.276425 |  0.338551430 | 0.1543211 | 0.0149204652 | 0.074370562 | FALSE |\n",
       "| ENSMUSG00000090202 | Samd13        |    19.341196 | -0.031857841 | 0.3344729 | 0.7611469299 | 0.896343310 | FALSE |\n",
       "| ENSMUSG00000048652 | Samd13        |   139.723354 | -0.156652931 | 0.2760884 | 0.3925366969 | 0.646320400 | FALSE |\n",
       "| ENSMUSG00000026276 | Septin2       |  1031.103479 |  0.182977362 | 0.1356363 | 0.1428430979 | 0.351090099 | FALSE |\n",
       "| ENSMUSG00000116048 | Septin2       |  8960.608610 |  0.014247820 | 0.1423207 | 0.9121201992 | 0.964408849 | FALSE |\n",
       "| ENSMUSG00000096764 | Slc12a6       |    67.200938 | -0.068962615 | 0.2855778 | 0.6840470205 | 0.855966469 | FALSE |\n",
       "| ENSMUSG00000027130 | Slc12a6       |  2578.019452 | -0.261254139 | 0.1977088 | 0.1139281058 | 0.304314067 | FALSE |\n",
       "| ENSMUSG00000052293 | Taf9          |   195.203147 | -0.025094323 | 0.2393296 | 0.8842316227 | 0.951793115 | FALSE |\n",
       "| ENSMUSG00000078941 | Taf9          |  4203.851811 | -0.086320243 | 0.1144550 | 0.4285359192 | 0.679947464 | FALSE |\n",
       "| ENSMUSG00000110234 | Timm10b       |   249.603784 |  0.365145368 | 0.1968655 | 0.0287838199 | 0.119436310 | FALSE |\n",
       "| ENSMUSG00000089847 | Timm10b       |   624.998627 |  0.282116891 | 0.1628978 | 0.0508839115 | 0.176753352 | FALSE |\n",
       "| ENSMUSG00000091614 | Tmem217       |    27.121741 |  0.218250812 | 0.3733592 | 0.2031639260 | 0.437147638 | FALSE |\n",
       "| ENSMUSG00000079580 | Tmem217       |     5.323229 | -0.005584358 | 0.3380541 | 0.9483639708 |          NA |    NA |\n",
       "| ENSMUSG00000057130 | Txnl4a        |  1079.788109 |  0.215888317 | 0.1521136 | 0.1142121965 | 0.304847342 | FALSE |\n",
       "| ENSMUSG00000024571 | Txnl4a        |  4485.400000 |  0.057471575 | 0.1103004 | 0.5831263448 | 0.794314770 | FALSE |\n",
       "| ENSMUSG00000110105 | Vmn2r29       |    72.567629 | -0.133425501 | 0.2869619 | 0.4560459768 | 0.701609195 | FALSE |\n",
       "| ENSMUSG00000095730 | Vmn2r29       |    33.056447 | -1.002435610 | 0.7997388 | 0.0087601484 | 0.050591738 | FALSE |\n",
       "| ENSMUSG00000102976 | Zc3h11a       |  4904.965242 |  0.150835344 | 0.1481204 | 0.2608499664 | 0.509715454 | FALSE |\n",
       "| ENSMUSG00000116275 | Zc3h11a       |   229.532345 |  0.015390345 | 0.3502734 |           NA |          NA |    NA |\n",
       "| ENSMUSG00000078896 | Zfp965        |   102.786274 |  0.254164899 | 0.3050738 | 0.1974886448 | 0.430242797 | FALSE |\n",
       "| ENSMUSG00000094475 | Zfp965        |   347.212267 | -0.024921669 | 0.2205364 | 0.8822420035 | 0.951211419 | FALSE |\n",
       "\n"
      ],
      "text/plain": [
       "   Ensembl            gene_symbol   baseMean     log2FoldChange lfcSE    \n",
       "1  ENSMUSG00000020807 4933427D14Rik   419.549545  0.146646946   0.2730934\n",
       "2  ENSMUSG00000107877 4933427D14Rik     9.663449  0.084628736   0.3279114\n",
       "3  ENSMUSG00000084897 a                 2.073324  0.084452606   0.3599661\n",
       "4  ENSMUSG00000027596 a               346.703281 -0.921522346   0.3049298\n",
       "5  ENSMUSG00000102805 Arfip1            4.674151 -0.001449427   0.3408795\n",
       "6  ENSMUSG00000074513 Arfip1         2473.941069 -0.494452729   0.1395780\n",
       "7  ENSMUSG00000022194 Bcl2l2         3985.258551  0.379396314   0.1492002\n",
       "8  ENSMUSG00000089682 Bcl2l2         1208.595007 -0.146549055   0.1693892\n",
       "9  ENSMUSG00000079737 Bfar            301.020469  0.513947803   0.1904663\n",
       "10 ENSMUSG00000022684 Bfar            943.793562 -0.180054235   0.1626307\n",
       "11 ENSMUSG00000096768 Erdr1           774.262574  0.161407077   0.2313377\n",
       "12 ENSMUSG00000095562 Erdr1            49.641191 -0.027235783   0.3328659\n",
       "13 ENSMUSG00000118332 Fam220a         534.998446 -0.002281525   0.1505227\n",
       "14 ENSMUSG00000083012 Fam220a          84.256697 -0.065601209   0.2225082\n",
       "15 ENSMUSG00000095545 Gm4724           76.810426  0.572021737   0.4335273\n",
       "16 ENSMUSG00000078897 Gm4724          142.156885 -0.005089414   0.2542465\n",
       "17 ENSMUSG00000051396 Hspa14          299.176867  0.462257604   0.2058632\n",
       "18 ENSMUSG00000109865 Hspa14         3350.220477  0.122251365   0.1553989\n",
       "19 ENSMUSG00000062593 Lilrb4a         561.565967 -0.163631315   0.2737693\n",
       "20 ENSMUSG00000112148 Lilrb4a       31030.816680 -0.385844767   0.3267026\n",
       "21 ENSMUSG00000006471 Ndor1          1138.450282  0.235982898   0.1761964\n",
       "22 ENSMUSG00000115074 Ndor1             4.630240 -0.037145046   0.3498033\n",
       "23 ENSMUSG00000116207 Nnt            1238.606579  0.346968247   0.1464792\n",
       "24 ENSMUSG00000025453 Nnt             396.716643 -0.444191473   0.1770942\n",
       "25 ENSMUSG00000112743 Nt5dc3           39.337753 -0.035865679   0.3074139\n",
       "26 ENSMUSG00000054027 Nt5dc3         1065.478678 -0.112417024   0.1722333\n",
       "27 ENSMUSG00000038729 Pakap            12.154434  0.047672576   0.3265310\n",
       "28 ENSMUSG00000089945 Pakap             4.313983 -0.035490096   0.3501047\n",
       "29 ENSMUSG00000090053 Pakap             1.822637 -0.039800157   0.3464421\n",
       "30 ENSMUSG00000079109 Pms2           1059.637793  0.049695172   0.1347748\n",
       "31 ENSMUSG00000075569 Pms2              7.914174 -0.016872371   0.3308353\n",
       "32 ENSMUSG00000026064 Ptp4a1          105.074506  0.681616356   0.4305778\n",
       "33 ENSMUSG00000117310 Ptp4a1         5248.276425  0.338551430   0.1543211\n",
       "34 ENSMUSG00000090202 Samd13           19.341196 -0.031857841   0.3344729\n",
       "35 ENSMUSG00000048652 Samd13          139.723354 -0.156652931   0.2760884\n",
       "36 ENSMUSG00000026276 Septin2        1031.103479  0.182977362   0.1356363\n",
       "37 ENSMUSG00000116048 Septin2        8960.608610  0.014247820   0.1423207\n",
       "38 ENSMUSG00000096764 Slc12a6          67.200938 -0.068962615   0.2855778\n",
       "39 ENSMUSG00000027130 Slc12a6        2578.019452 -0.261254139   0.1977088\n",
       "40 ENSMUSG00000052293 Taf9            195.203147 -0.025094323   0.2393296\n",
       "41 ENSMUSG00000078941 Taf9           4203.851811 -0.086320243   0.1144550\n",
       "42 ENSMUSG00000110234 Timm10b         249.603784  0.365145368   0.1968655\n",
       "43 ENSMUSG00000089847 Timm10b         624.998627  0.282116891   0.1628978\n",
       "44 ENSMUSG00000091614 Tmem217          27.121741  0.218250812   0.3733592\n",
       "45 ENSMUSG00000079580 Tmem217           5.323229 -0.005584358   0.3380541\n",
       "46 ENSMUSG00000057130 Txnl4a         1079.788109  0.215888317   0.1521136\n",
       "47 ENSMUSG00000024571 Txnl4a         4485.400000  0.057471575   0.1103004\n",
       "48 ENSMUSG00000110105 Vmn2r29          72.567629 -0.133425501   0.2869619\n",
       "49 ENSMUSG00000095730 Vmn2r29          33.056447 -1.002435610   0.7997388\n",
       "50 ENSMUSG00000102976 Zc3h11a        4904.965242  0.150835344   0.1481204\n",
       "51 ENSMUSG00000116275 Zc3h11a         229.532345  0.015390345   0.3502734\n",
       "52 ENSMUSG00000078896 Zfp965          102.786274  0.254164899   0.3050738\n",
       "53 ENSMUSG00000094475 Zfp965          347.212267 -0.024921669   0.2205364\n",
       "   pvalue       padj        threshold\n",
       "1  0.4245237607 0.676489236 FALSE    \n",
       "2  0.5469737243 0.770237739 FALSE    \n",
       "3  0.2032149281          NA    NA    \n",
       "4  0.0002555311 0.003214171  TRUE    \n",
       "5  0.9833653731          NA    NA    \n",
       "6  0.0001311351 0.001867447  TRUE    \n",
       "7  0.0052994268 0.034428796  TRUE    \n",
       "8  0.3218424463 0.578208345 FALSE    \n",
       "9  0.0020316034 0.016307033  TRUE    \n",
       "10 0.2103827672 0.446338868 FALSE    \n",
       "11 0.3654895670 0.620975332 FALSE    \n",
       "12 0.7982012834 0.913531468 FALSE    \n",
       "13 0.9853492530 0.995203037 FALSE    \n",
       "14 0.7025880197 0.864171295 FALSE    \n",
       "15 0.0272037268 0.114350482 FALSE    \n",
       "16 0.9745725786 0.989950462 FALSE    \n",
       "17 0.0081512954 0.047866900  TRUE    \n",
       "18 0.3846896509 0.638790083 FALSE    \n",
       "19 0.3744270871 0.629732960 FALSE    \n",
       "20 0.0767369567 0.234068791 FALSE    \n",
       "21 0.1226007762 0.318997343 FALSE    \n",
       "22 0.4890665363          NA    NA    \n",
       "23 0.0092947872 0.052903716 FALSE    \n",
       "24 0.0044515240 0.030367449  TRUE    \n",
       "25 0.8094371146 0.919028380 FALSE    \n",
       "26 0.4525763063 0.698469589 FALSE    \n",
       "27 0.7111887047 0.869123637 FALSE    \n",
       "28 0.4802627361          NA    NA    \n",
       "29 0.5805199928          NA    NA    \n",
       "30 0.6905209759 0.858887526 FALSE    \n",
       "31 0.8772875251          NA    NA    \n",
       "32 0.0134092630 0.068833899 FALSE    \n",
       "33 0.0149204652 0.074370562 FALSE    \n",
       "34 0.7611469299 0.896343310 FALSE    \n",
       "35 0.3925366969 0.646320400 FALSE    \n",
       "36 0.1428430979 0.351090099 FALSE    \n",
       "37 0.9121201992 0.964408849 FALSE    \n",
       "38 0.6840470205 0.855966469 FALSE    \n",
       "39 0.1139281058 0.304314067 FALSE    \n",
       "40 0.8842316227 0.951793115 FALSE    \n",
       "41 0.4285359192 0.679947464 FALSE    \n",
       "42 0.0287838199 0.119436310 FALSE    \n",
       "43 0.0508839115 0.176753352 FALSE    \n",
       "44 0.2031639260 0.437147638 FALSE    \n",
       "45 0.9483639708          NA    NA    \n",
       "46 0.1142121965 0.304847342 FALSE    \n",
       "47 0.5831263448 0.794314770 FALSE    \n",
       "48 0.4560459768 0.701609195 FALSE    \n",
       "49 0.0087601484 0.050591738 FALSE    \n",
       "50 0.2608499664 0.509715454 FALSE    \n",
       "51           NA          NA    NA    \n",
       "52 0.1974886448 0.430242797 FALSE    \n",
       "53 0.8822420035 0.951211419 FALSE    "
      ]
     },
     "metadata": {},
     "output_type": "display_data"
    }
   ],
   "source": [
    "dge_mapped_df %>%\n",
    "  dplyr::filter(gene_symbol %in% dup_gene_symbols) %>%\n",
    "  dplyr::arrange(gene_symbol)"
   ]
  },
  {
   "cell_type": "code",
   "execution_count": 27,
   "metadata": {},
   "outputs": [],
   "source": [
    "filtered_dge_mapped_df <- dge_mapped_df %>%\n",
    "  # Sort so that the highest absolute values of the log2 fold change are at the\n",
    "  # top\n",
    "  dplyr::arrange(dplyr::desc(abs(log2FoldChange))) %>%\n",
    "  # Filter out the duplicated rows using `dplyr::distinct()`\n",
    "  dplyr::distinct(gene_symbol, .keep_all = TRUE)"
   ]
  },
  {
   "cell_type": "code",
   "execution_count": 29,
   "metadata": {},
   "outputs": [
    {
     "data": {
      "text/html": [
       "FALSE"
      ],
      "text/latex": [
       "FALSE"
      ],
      "text/markdown": [
       "FALSE"
      ],
      "text/plain": [
       "[1] FALSE"
      ]
     },
     "metadata": {},
     "output_type": "display_data"
    }
   ],
   "source": [
    "any(duplicated(filtered_dge_mapped_df$gene_symbol))"
   ]
  },
  {
   "cell_type": "code",
   "execution_count": 30,
   "metadata": {},
   "outputs": [],
   "source": [
    "# Let's create a named vector ranked based on the log2 fold change values\n",
    "lfc_vector <- filtered_dge_mapped_df$log2FoldChange\n",
    "names(lfc_vector) <- filtered_dge_mapped_df$gene_symbol\n",
    "\n",
    "# We need to sort the log2 fold change values in descending order here\n",
    "lfc_vector <- sort(lfc_vector, decreasing = TRUE)"
   ]
  },
  {
   "cell_type": "code",
   "execution_count": 32,
   "metadata": {},
   "outputs": [
    {
     "data": {
      "text/html": [
       "<style>\n",
       ".dl-inline {width: auto; margin:0; padding: 0}\n",
       ".dl-inline>dt, .dl-inline>dd {float: none; width: auto; display: inline-block}\n",
       ".dl-inline>dt::after {content: \":\\0020\"; padding-right: .5ex}\n",
       ".dl-inline>dt:not(:first-of-type) {padding-left: .5ex}\n",
       "</style><dl class=dl-inline><dt>Lpgat1</dt><dd>13.3494094707617</dd><dt>Lgals7</dt><dd>12.6419632398825</dd><dt>Gm973</dt><dd>12.5182390796996</dd><dt>Bbs7</dt><dd>12.1927766248149</dd><dt>Clnk</dt><dd>11.5248148404605</dd><dt>Zfp575</dt><dd>10.2089989867235</dd></dl>\n"
      ],
      "text/latex": [
       "\\begin{description*}\n",
       "\\item[Lpgat1] 13.3494094707617\n",
       "\\item[Lgals7] 12.6419632398825\n",
       "\\item[Gm973] 12.5182390796996\n",
       "\\item[Bbs7] 12.1927766248149\n",
       "\\item[Clnk] 11.5248148404605\n",
       "\\item[Zfp575] 10.2089989867235\n",
       "\\end{description*}\n"
      ],
      "text/markdown": [
       "Lpgat1\n",
       ":   13.3494094707617Lgals7\n",
       ":   12.6419632398825Gm973\n",
       ":   12.5182390796996Bbs7\n",
       ":   12.1927766248149Clnk\n",
       ":   11.5248148404605Zfp575\n",
       ":   10.2089989867235\n",
       "\n"
      ],
      "text/plain": [
       "  Lpgat1   Lgals7    Gm973     Bbs7     Clnk   Zfp575 \n",
       "13.34941 12.64196 12.51824 12.19278 11.52481 10.20900 "
      ]
     },
     "metadata": {},
     "output_type": "display_data"
    }
   ],
   "source": [
    "# Look at first entries of the ranked log2 fold change vector\n",
    "head(lfc_vector)"
   ]
  },
  {
   "cell_type": "markdown",
   "metadata": {},
   "source": [
    "### 4.6.2 Run GSEA using the GSEA() function"
   ]
  },
  {
   "cell_type": "code",
   "execution_count": 33,
   "metadata": {},
   "outputs": [],
   "source": [
    "# Set the seed so our results are reproducible:\n",
    "set.seed(2020)"
   ]
  },
  {
   "cell_type": "markdown",
   "metadata": {},
   "source": [
    "We can use the GSEA() function to perform GSEA with any generic set of gene sets, but there are several functions for using specific, commonly used gene sets (e.g., gseKEGG()).\n",
    "\n",
    "Significance is assessed by permuting the gene labels of the pre-ranked gene list and recomputing the enrichment scores of the gene set for the permuted data, which generates a null distribution for the enrichment score. The pAdjustMethod argument to GSEA() above specifies what method to use for adjusting the p-values to account for multiple hypothesis testing; the pvalueCutoff argument tells the function to only return pathways with adjusted p-values less than that threshold in the results slot."
   ]
  },
  {
   "cell_type": "code",
   "execution_count": 34,
   "metadata": {},
   "outputs": [
    {
     "name": "stderr",
     "output_type": "stream",
     "text": [
      "preparing geneSet collections...\n",
      "\n",
      "GSEA analysis...\n",
      "\n",
      "Warning message in preparePathwaysAndStats(pathways, stats, minSize, maxSize, gseaParam, :\n",
      "“There are ties in the preranked stats (0.21% of the list).\n",
      "The order of those tied genes will be arbitrary, which may produce unexpected results.”\n",
      "leading edge analysis...\n",
      "\n",
      "done...\n",
      "\n"
     ]
    }
   ],
   "source": [
    "gsea_results <- GSEA(\n",
    "  geneList = lfc_vector, # Ordered ranked gene list\n",
    "  minGSSize = 25, # Minimum gene set size\n",
    "  maxGSSize = 500, # Maximum gene set set\n",
    "  pvalueCutoff = 0.05, # p-value cutoff\n",
    "  eps = 0, # Boundary for calculating the p value\n",
    "  seed = TRUE, # Set seed to make results reproducible\n",
    "  pAdjustMethod = \"BH\", # Benjamini-Hochberg correction\n",
    "  TERM2GENE = dplyr::select(\n",
    "    mm_hallmark_sets,\n",
    "    gs_name,\n",
    "    gene_symbol\n",
    "  )\n",
    ")"
   ]
  },
  {
   "cell_type": "code",
   "execution_count": 35,
   "metadata": {},
   "outputs": [
    {
     "data": {
      "text/html": [
       "<table class=\"dataframe\">\n",
       "<caption>A data.frame: 6 × 11</caption>\n",
       "<thead>\n",
       "\t<tr><th></th><th scope=col>ID</th><th scope=col>Description</th><th scope=col>setSize</th><th scope=col>enrichmentScore</th><th scope=col>NES</th><th scope=col>pvalue</th><th scope=col>p.adjust</th><th scope=col>qvalue</th><th scope=col>rank</th><th scope=col>leading_edge</th><th scope=col>core_enrichment</th></tr>\n",
       "\t<tr><th></th><th scope=col>&lt;chr&gt;</th><th scope=col>&lt;chr&gt;</th><th scope=col>&lt;int&gt;</th><th scope=col>&lt;dbl&gt;</th><th scope=col>&lt;dbl&gt;</th><th scope=col>&lt;dbl&gt;</th><th scope=col>&lt;dbl&gt;</th><th scope=col>&lt;dbl&gt;</th><th scope=col>&lt;dbl&gt;</th><th scope=col>&lt;chr&gt;</th><th scope=col>&lt;chr&gt;</th></tr>\n",
       "</thead>\n",
       "<tbody>\n",
       "\t<tr><th scope=row>HALLMARK_HYPOXIA</th><td>HALLMARK_HYPOXIA                </td><td>HALLMARK_HYPOXIA                </td><td>154</td><td>-0.6723173</td><td>-2.071238</td><td>7.860157e-07</td><td>1.847137e-05</td><td>1.447924e-05</td><td>1827</td><td>tags=36%, list=12%, signal=32%</td><td>Ero1a/Slc37a4/Mif/Ddit4/P4ha1/Cdkn1b/Glrx/Ndst1/Pfkl/Ugp2/Eno3/Hk2/Slc6a6/Nagk/Tpi1/Atp7a/Ids/Klf7/Slc25a1/Ccng2/Gapdh/Pgm1/Scarb1/Prdx5/Ier3/Hmox1/Klhl24/Gys1/Tpd52/Gpi1/Myh9/Pfkp/Pgk1/Tnfaip3/Fam162a/Slc2a3/Klf6/Eno1/Ampd3/Col5a1/Nfil3/Rbpj/Ddit3/Mt1/Selenbp2/Tiparp/Btg1/Anxa2/Plaur/Mt2/Gbe1/Adora2b/Pygm/Ndrg1/S100a4                                                                                                                                                                                                                                                                                                                             </td></tr>\n",
       "\t<tr><th scope=row>HALLMARK_TNFA_SIGNALING_VIA_NFKB</th><td>HALLMARK_TNFA_SIGNALING_VIA_NFKB</td><td>HALLMARK_TNFA_SIGNALING_VIA_NFKB</td><td>161</td><td>-0.6585128</td><td>-2.032523</td><td>6.389183e-07</td><td>1.847137e-05</td><td>1.447924e-05</td><td>1533</td><td>tags=37%, list=10%, signal=34%</td><td>Cflar/B4galt5/Il23a/Tnip1/Tnip2/Tnfrsf9/Tgif1/Birc3/Ets2/Nampt/Ier2/Cebpd/Ehd1/Icam1/Tnfaip8/Slc2a6/Slc16a6/Tnfaip2/Sik1/Gch1/Rnf19b/Ier3/Dnajb4/Ifngr2/Gadd45a/Klf9/Litaf/Cebpb/Sqstm1/Tsc22d1/Ldlr/Tnfsf9/Mxd1/Junb/Cd44/Tnfaip3/Ninj1/Slc2a3/Klf6/Abca1/Nfil3/Dusp4/Icosl/Dusp5/Zc3h12a/Cd80/Tiparp/Trib1/Csf1/Klf10/Atp2b1/Btg1/Map3k8/Traf1/Plaur/Nfkbia/Spsb1/Egr3/Cd69/Olr1                                                                                                                                                                                                                                                                           </td></tr>\n",
       "\t<tr><th scope=row>HALLMARK_INFLAMMATORY_RESPONSE</th><td>HALLMARK_INFLAMMATORY_RESPONSE  </td><td>HALLMARK_INFLAMMATORY_RESPONSE  </td><td>145</td><td>-0.6196267</td><td>-1.882396</td><td>4.174109e-05</td><td>6.539437e-04</td><td>5.126098e-04</td><td>1376</td><td>tags=26%, list=9%, signal=24% </td><td>Itga5/Ifnar1/Gnai3/Tnfrsf9/Nampt/Icam1/Slc7a1/Gch1/Gp1ba/P2rx7/Ifngr2/Ptgir/Ldlr/Tnfsf9/Lcp2/Mxd1/Hrh1/Nod2/Klf6/Abca1/Pik3r5/Stab1/Il2rb/Emp3/Icosl/Csf1/Atp2b1/Plaur/Nfkbia/Adora2b/Adgre1/Ccr7/Cd69/Olr1/Ptafr/C3ar1/Sell/Clec5a                                                                                                                                                                                                                                                                                                                                                                                                                          </td></tr>\n",
       "\t<tr><th scope=row>HALLMARK_IL2_STAT5_SIGNALING</th><td>HALLMARK_IL2_STAT5_SIGNALING    </td><td>HALLMARK_IL2_STAT5_SIGNALING    </td><td>168</td><td>-0.5677188</td><td>-1.765815</td><td>2.955582e-04</td><td>3.472809e-03</td><td>2.722247e-03</td><td>1405</td><td>tags=24%, list=9%, signal=22% </td><td>Bcl2l1/Hk2/Myo1c/Tnfrsf9/Xbp1/Wls/Serpinb6a/Ttc39b/Cyfip1/Snx14/Lclat1/Capg/Casp3/Gpx4/Myo1e/Flt3l/Mxd1/St3gal4/Anxa4/Cd44/F2rl2/Slc2a3/Klf6/Lrrc8c/Nfil3/Il2rb/Amacr/Dhrs3/Nfkbiz/Tiam1/Plec/Csf1/Map3k8/Traf1/Snx9/Nt5e/Selp/Ndrg1/Ahnak/Spp1/Sell                                                                                                                                                                                                                                                                                                                                                                                                         </td></tr>\n",
       "\t<tr><th scope=row>HALLMARK_MYC_TARGETS_V1</th><td>HALLMARK_MYC_TARGETS_V1         </td><td>HALLMARK_MYC_TARGETS_V1         </td><td>200</td><td> 0.5509980</td><td> 1.712719</td><td>5.905953e-04</td><td>5.551596e-03</td><td>4.351755e-03</td><td>3365</td><td>tags=54%, list=22%, signal=43%</td><td>Apex1/Nhp2/Hspe1/Rrp9/Gnl3/Rad23b/Set/Ncbp1/Tardbp/Eif2s2/Nme1/Phb/Hspd1/Ctps/Prpf31/Rps3/Tufm/Pabpc4/Ddx21/Ddx18/Psmc6/Nop56/Eif4g2/Mcm6/Cad/Pa2g4/Pole3/Eif3j2/Ube2e1/Ndufab1/Exosc7/Rps6/Sf3a1/Lsm7/Ccna2/Orc2/Psma1/Prdx3/Psmb3/Psmd3/Mcm2/Nap1l1/Srsf2/Syncrip/Hnrnpr/Serbp1/Eef1b2/Kpnb1/Psma7/Hnrnpc/Fbl/Xpo1/Kars/Mrps18b/Nolc1/Xrcc6/Tyms/Srsf7/Psma6/Srm/Srpk1/Npm1/C1qbp/Eif4a1/Acp1/Nop16/Pwp1/Aimp2/Clns1a/Hnrnpu/G3bp1/Rpl22/Ranbp1/Cdc20/U2af1/Pold2/Psmc4/Usp1/Erh/Snrpa1/Cops5/Psma4/Cct3/Txnl4a/Eif3b/Psmd14/Prps2/Bub3/Mcm4/Ran/Rps10/Dhx15/Rrm1/Eif2s1/Glo1/Ppia/Srsf1/Cnbp/Ncbp2/Trim28/Eif3j1/Snrpg/Mcm5/Sf3b3/Stard7/Psmd7/Kpna2/Tra2b</td></tr>\n",
       "\t<tr><th scope=row>HALLMARK_MYC_TARGETS_V2</th><td>HALLMARK_MYC_TARGETS_V2         </td><td>HALLMARK_MYC_TARGETS_V2         </td><td> 58</td><td> 0.6826871</td><td> 1.772445</td><td>3.387763e-03</td><td>2.653748e-02</td><td>2.080206e-02</td><td>3260</td><td>tags=76%, list=21%, signal=60%</td><td>Dctpp1/Ndufaf4/Nop2/Rrp12/Hspe1/Rrp9/Gnl3/Utp20/Ipo4/Ung/Phb/Hspd1/Grwd1/Ddx18/Mybbp1a/Nop56/Plk1/Bysl/Pa2g4/Imp4/Dusp2/Ppan/Sord/Rcl1/Mrto4/Nolc1/Tmem97/Nip7/Noc4l/Srm/Prmt3/Npm1/Nop16/Aimp2/Slc29a2/Wdr74/Pprc1/Mphosph10/Mcm4/Pus1/Slc19a1/Las1l/Mcm5/Exosc5                                                                                                                                                                                                                                                                                                                                                                                            </td></tr>\n",
       "</tbody>\n",
       "</table>\n"
      ],
      "text/latex": [
       "A data.frame: 6 × 11\n",
       "\\begin{tabular}{r|lllllllllll}\n",
       "  & ID & Description & setSize & enrichmentScore & NES & pvalue & p.adjust & qvalue & rank & leading\\_edge & core\\_enrichment\\\\\n",
       "  & <chr> & <chr> & <int> & <dbl> & <dbl> & <dbl> & <dbl> & <dbl> & <dbl> & <chr> & <chr>\\\\\n",
       "\\hline\n",
       "\tHALLMARK\\_HYPOXIA & HALLMARK\\_HYPOXIA                 & HALLMARK\\_HYPOXIA                 & 154 & -0.6723173 & -2.071238 & 7.860157e-07 & 1.847137e-05 & 1.447924e-05 & 1827 & tags=36\\%, list=12\\%, signal=32\\% & Ero1a/Slc37a4/Mif/Ddit4/P4ha1/Cdkn1b/Glrx/Ndst1/Pfkl/Ugp2/Eno3/Hk2/Slc6a6/Nagk/Tpi1/Atp7a/Ids/Klf7/Slc25a1/Ccng2/Gapdh/Pgm1/Scarb1/Prdx5/Ier3/Hmox1/Klhl24/Gys1/Tpd52/Gpi1/Myh9/Pfkp/Pgk1/Tnfaip3/Fam162a/Slc2a3/Klf6/Eno1/Ampd3/Col5a1/Nfil3/Rbpj/Ddit3/Mt1/Selenbp2/Tiparp/Btg1/Anxa2/Plaur/Mt2/Gbe1/Adora2b/Pygm/Ndrg1/S100a4                                                                                                                                                                                                                                                                                                                             \\\\\n",
       "\tHALLMARK\\_TNFA\\_SIGNALING\\_VIA\\_NFKB & HALLMARK\\_TNFA\\_SIGNALING\\_VIA\\_NFKB & HALLMARK\\_TNFA\\_SIGNALING\\_VIA\\_NFKB & 161 & -0.6585128 & -2.032523 & 6.389183e-07 & 1.847137e-05 & 1.447924e-05 & 1533 & tags=37\\%, list=10\\%, signal=34\\% & Cflar/B4galt5/Il23a/Tnip1/Tnip2/Tnfrsf9/Tgif1/Birc3/Ets2/Nampt/Ier2/Cebpd/Ehd1/Icam1/Tnfaip8/Slc2a6/Slc16a6/Tnfaip2/Sik1/Gch1/Rnf19b/Ier3/Dnajb4/Ifngr2/Gadd45a/Klf9/Litaf/Cebpb/Sqstm1/Tsc22d1/Ldlr/Tnfsf9/Mxd1/Junb/Cd44/Tnfaip3/Ninj1/Slc2a3/Klf6/Abca1/Nfil3/Dusp4/Icosl/Dusp5/Zc3h12a/Cd80/Tiparp/Trib1/Csf1/Klf10/Atp2b1/Btg1/Map3k8/Traf1/Plaur/Nfkbia/Spsb1/Egr3/Cd69/Olr1                                                                                                                                                                                                                                                                           \\\\\n",
       "\tHALLMARK\\_INFLAMMATORY\\_RESPONSE & HALLMARK\\_INFLAMMATORY\\_RESPONSE   & HALLMARK\\_INFLAMMATORY\\_RESPONSE   & 145 & -0.6196267 & -1.882396 & 4.174109e-05 & 6.539437e-04 & 5.126098e-04 & 1376 & tags=26\\%, list=9\\%, signal=24\\%  & Itga5/Ifnar1/Gnai3/Tnfrsf9/Nampt/Icam1/Slc7a1/Gch1/Gp1ba/P2rx7/Ifngr2/Ptgir/Ldlr/Tnfsf9/Lcp2/Mxd1/Hrh1/Nod2/Klf6/Abca1/Pik3r5/Stab1/Il2rb/Emp3/Icosl/Csf1/Atp2b1/Plaur/Nfkbia/Adora2b/Adgre1/Ccr7/Cd69/Olr1/Ptafr/C3ar1/Sell/Clec5a                                                                                                                                                                                                                                                                                                                                                                                                                          \\\\\n",
       "\tHALLMARK\\_IL2\\_STAT5\\_SIGNALING & HALLMARK\\_IL2\\_STAT5\\_SIGNALING     & HALLMARK\\_IL2\\_STAT5\\_SIGNALING     & 168 & -0.5677188 & -1.765815 & 2.955582e-04 & 3.472809e-03 & 2.722247e-03 & 1405 & tags=24\\%, list=9\\%, signal=22\\%  & Bcl2l1/Hk2/Myo1c/Tnfrsf9/Xbp1/Wls/Serpinb6a/Ttc39b/Cyfip1/Snx14/Lclat1/Capg/Casp3/Gpx4/Myo1e/Flt3l/Mxd1/St3gal4/Anxa4/Cd44/F2rl2/Slc2a3/Klf6/Lrrc8c/Nfil3/Il2rb/Amacr/Dhrs3/Nfkbiz/Tiam1/Plec/Csf1/Map3k8/Traf1/Snx9/Nt5e/Selp/Ndrg1/Ahnak/Spp1/Sell                                                                                                                                                                                                                                                                                                                                                                                                         \\\\\n",
       "\tHALLMARK\\_MYC\\_TARGETS\\_V1 & HALLMARK\\_MYC\\_TARGETS\\_V1          & HALLMARK\\_MYC\\_TARGETS\\_V1          & 200 &  0.5509980 &  1.712719 & 5.905953e-04 & 5.551596e-03 & 4.351755e-03 & 3365 & tags=54\\%, list=22\\%, signal=43\\% & Apex1/Nhp2/Hspe1/Rrp9/Gnl3/Rad23b/Set/Ncbp1/Tardbp/Eif2s2/Nme1/Phb/Hspd1/Ctps/Prpf31/Rps3/Tufm/Pabpc4/Ddx21/Ddx18/Psmc6/Nop56/Eif4g2/Mcm6/Cad/Pa2g4/Pole3/Eif3j2/Ube2e1/Ndufab1/Exosc7/Rps6/Sf3a1/Lsm7/Ccna2/Orc2/Psma1/Prdx3/Psmb3/Psmd3/Mcm2/Nap1l1/Srsf2/Syncrip/Hnrnpr/Serbp1/Eef1b2/Kpnb1/Psma7/Hnrnpc/Fbl/Xpo1/Kars/Mrps18b/Nolc1/Xrcc6/Tyms/Srsf7/Psma6/Srm/Srpk1/Npm1/C1qbp/Eif4a1/Acp1/Nop16/Pwp1/Aimp2/Clns1a/Hnrnpu/G3bp1/Rpl22/Ranbp1/Cdc20/U2af1/Pold2/Psmc4/Usp1/Erh/Snrpa1/Cops5/Psma4/Cct3/Txnl4a/Eif3b/Psmd14/Prps2/Bub3/Mcm4/Ran/Rps10/Dhx15/Rrm1/Eif2s1/Glo1/Ppia/Srsf1/Cnbp/Ncbp2/Trim28/Eif3j1/Snrpg/Mcm5/Sf3b3/Stard7/Psmd7/Kpna2/Tra2b\\\\\n",
       "\tHALLMARK\\_MYC\\_TARGETS\\_V2 & HALLMARK\\_MYC\\_TARGETS\\_V2          & HALLMARK\\_MYC\\_TARGETS\\_V2          &  58 &  0.6826871 &  1.772445 & 3.387763e-03 & 2.653748e-02 & 2.080206e-02 & 3260 & tags=76\\%, list=21\\%, signal=60\\% & Dctpp1/Ndufaf4/Nop2/Rrp12/Hspe1/Rrp9/Gnl3/Utp20/Ipo4/Ung/Phb/Hspd1/Grwd1/Ddx18/Mybbp1a/Nop56/Plk1/Bysl/Pa2g4/Imp4/Dusp2/Ppan/Sord/Rcl1/Mrto4/Nolc1/Tmem97/Nip7/Noc4l/Srm/Prmt3/Npm1/Nop16/Aimp2/Slc29a2/Wdr74/Pprc1/Mphosph10/Mcm4/Pus1/Slc19a1/Las1l/Mcm5/Exosc5                                                                                                                                                                                                                                                                                                                                                                                            \\\\\n",
       "\\end{tabular}\n"
      ],
      "text/markdown": [
       "\n",
       "A data.frame: 6 × 11\n",
       "\n",
       "| <!--/--> | ID &lt;chr&gt; | Description &lt;chr&gt; | setSize &lt;int&gt; | enrichmentScore &lt;dbl&gt; | NES &lt;dbl&gt; | pvalue &lt;dbl&gt; | p.adjust &lt;dbl&gt; | qvalue &lt;dbl&gt; | rank &lt;dbl&gt; | leading_edge &lt;chr&gt; | core_enrichment &lt;chr&gt; |\n",
       "|---|---|---|---|---|---|---|---|---|---|---|---|\n",
       "| HALLMARK_HYPOXIA | HALLMARK_HYPOXIA                 | HALLMARK_HYPOXIA                 | 154 | -0.6723173 | -2.071238 | 7.860157e-07 | 1.847137e-05 | 1.447924e-05 | 1827 | tags=36%, list=12%, signal=32% | Ero1a/Slc37a4/Mif/Ddit4/P4ha1/Cdkn1b/Glrx/Ndst1/Pfkl/Ugp2/Eno3/Hk2/Slc6a6/Nagk/Tpi1/Atp7a/Ids/Klf7/Slc25a1/Ccng2/Gapdh/Pgm1/Scarb1/Prdx5/Ier3/Hmox1/Klhl24/Gys1/Tpd52/Gpi1/Myh9/Pfkp/Pgk1/Tnfaip3/Fam162a/Slc2a3/Klf6/Eno1/Ampd3/Col5a1/Nfil3/Rbpj/Ddit3/Mt1/Selenbp2/Tiparp/Btg1/Anxa2/Plaur/Mt2/Gbe1/Adora2b/Pygm/Ndrg1/S100a4                                                                                                                                                                                                                                                                                                                              |\n",
       "| HALLMARK_TNFA_SIGNALING_VIA_NFKB | HALLMARK_TNFA_SIGNALING_VIA_NFKB | HALLMARK_TNFA_SIGNALING_VIA_NFKB | 161 | -0.6585128 | -2.032523 | 6.389183e-07 | 1.847137e-05 | 1.447924e-05 | 1533 | tags=37%, list=10%, signal=34% | Cflar/B4galt5/Il23a/Tnip1/Tnip2/Tnfrsf9/Tgif1/Birc3/Ets2/Nampt/Ier2/Cebpd/Ehd1/Icam1/Tnfaip8/Slc2a6/Slc16a6/Tnfaip2/Sik1/Gch1/Rnf19b/Ier3/Dnajb4/Ifngr2/Gadd45a/Klf9/Litaf/Cebpb/Sqstm1/Tsc22d1/Ldlr/Tnfsf9/Mxd1/Junb/Cd44/Tnfaip3/Ninj1/Slc2a3/Klf6/Abca1/Nfil3/Dusp4/Icosl/Dusp5/Zc3h12a/Cd80/Tiparp/Trib1/Csf1/Klf10/Atp2b1/Btg1/Map3k8/Traf1/Plaur/Nfkbia/Spsb1/Egr3/Cd69/Olr1                                                                                                                                                                                                                                                                            |\n",
       "| HALLMARK_INFLAMMATORY_RESPONSE | HALLMARK_INFLAMMATORY_RESPONSE   | HALLMARK_INFLAMMATORY_RESPONSE   | 145 | -0.6196267 | -1.882396 | 4.174109e-05 | 6.539437e-04 | 5.126098e-04 | 1376 | tags=26%, list=9%, signal=24%  | Itga5/Ifnar1/Gnai3/Tnfrsf9/Nampt/Icam1/Slc7a1/Gch1/Gp1ba/P2rx7/Ifngr2/Ptgir/Ldlr/Tnfsf9/Lcp2/Mxd1/Hrh1/Nod2/Klf6/Abca1/Pik3r5/Stab1/Il2rb/Emp3/Icosl/Csf1/Atp2b1/Plaur/Nfkbia/Adora2b/Adgre1/Ccr7/Cd69/Olr1/Ptafr/C3ar1/Sell/Clec5a                                                                                                                                                                                                                                                                                                                                                                                                                           |\n",
       "| HALLMARK_IL2_STAT5_SIGNALING | HALLMARK_IL2_STAT5_SIGNALING     | HALLMARK_IL2_STAT5_SIGNALING     | 168 | -0.5677188 | -1.765815 | 2.955582e-04 | 3.472809e-03 | 2.722247e-03 | 1405 | tags=24%, list=9%, signal=22%  | Bcl2l1/Hk2/Myo1c/Tnfrsf9/Xbp1/Wls/Serpinb6a/Ttc39b/Cyfip1/Snx14/Lclat1/Capg/Casp3/Gpx4/Myo1e/Flt3l/Mxd1/St3gal4/Anxa4/Cd44/F2rl2/Slc2a3/Klf6/Lrrc8c/Nfil3/Il2rb/Amacr/Dhrs3/Nfkbiz/Tiam1/Plec/Csf1/Map3k8/Traf1/Snx9/Nt5e/Selp/Ndrg1/Ahnak/Spp1/Sell                                                                                                                                                                                                                                                                                                                                                                                                          |\n",
       "| HALLMARK_MYC_TARGETS_V1 | HALLMARK_MYC_TARGETS_V1          | HALLMARK_MYC_TARGETS_V1          | 200 |  0.5509980 |  1.712719 | 5.905953e-04 | 5.551596e-03 | 4.351755e-03 | 3365 | tags=54%, list=22%, signal=43% | Apex1/Nhp2/Hspe1/Rrp9/Gnl3/Rad23b/Set/Ncbp1/Tardbp/Eif2s2/Nme1/Phb/Hspd1/Ctps/Prpf31/Rps3/Tufm/Pabpc4/Ddx21/Ddx18/Psmc6/Nop56/Eif4g2/Mcm6/Cad/Pa2g4/Pole3/Eif3j2/Ube2e1/Ndufab1/Exosc7/Rps6/Sf3a1/Lsm7/Ccna2/Orc2/Psma1/Prdx3/Psmb3/Psmd3/Mcm2/Nap1l1/Srsf2/Syncrip/Hnrnpr/Serbp1/Eef1b2/Kpnb1/Psma7/Hnrnpc/Fbl/Xpo1/Kars/Mrps18b/Nolc1/Xrcc6/Tyms/Srsf7/Psma6/Srm/Srpk1/Npm1/C1qbp/Eif4a1/Acp1/Nop16/Pwp1/Aimp2/Clns1a/Hnrnpu/G3bp1/Rpl22/Ranbp1/Cdc20/U2af1/Pold2/Psmc4/Usp1/Erh/Snrpa1/Cops5/Psma4/Cct3/Txnl4a/Eif3b/Psmd14/Prps2/Bub3/Mcm4/Ran/Rps10/Dhx15/Rrm1/Eif2s1/Glo1/Ppia/Srsf1/Cnbp/Ncbp2/Trim28/Eif3j1/Snrpg/Mcm5/Sf3b3/Stard7/Psmd7/Kpna2/Tra2b |\n",
       "| HALLMARK_MYC_TARGETS_V2 | HALLMARK_MYC_TARGETS_V2          | HALLMARK_MYC_TARGETS_V2          |  58 |  0.6826871 |  1.772445 | 3.387763e-03 | 2.653748e-02 | 2.080206e-02 | 3260 | tags=76%, list=21%, signal=60% | Dctpp1/Ndufaf4/Nop2/Rrp12/Hspe1/Rrp9/Gnl3/Utp20/Ipo4/Ung/Phb/Hspd1/Grwd1/Ddx18/Mybbp1a/Nop56/Plk1/Bysl/Pa2g4/Imp4/Dusp2/Ppan/Sord/Rcl1/Mrto4/Nolc1/Tmem97/Nip7/Noc4l/Srm/Prmt3/Npm1/Nop16/Aimp2/Slc29a2/Wdr74/Pprc1/Mphosph10/Mcm4/Pus1/Slc19a1/Las1l/Mcm5/Exosc5                                                                                                                                                                                                                                                                                                                                                                                             |\n",
       "\n"
      ],
      "text/plain": [
       "                                 ID                              \n",
       "HALLMARK_HYPOXIA                 HALLMARK_HYPOXIA                \n",
       "HALLMARK_TNFA_SIGNALING_VIA_NFKB HALLMARK_TNFA_SIGNALING_VIA_NFKB\n",
       "HALLMARK_INFLAMMATORY_RESPONSE   HALLMARK_INFLAMMATORY_RESPONSE  \n",
       "HALLMARK_IL2_STAT5_SIGNALING     HALLMARK_IL2_STAT5_SIGNALING    \n",
       "HALLMARK_MYC_TARGETS_V1          HALLMARK_MYC_TARGETS_V1         \n",
       "HALLMARK_MYC_TARGETS_V2          HALLMARK_MYC_TARGETS_V2         \n",
       "                                 Description                      setSize\n",
       "HALLMARK_HYPOXIA                 HALLMARK_HYPOXIA                 154    \n",
       "HALLMARK_TNFA_SIGNALING_VIA_NFKB HALLMARK_TNFA_SIGNALING_VIA_NFKB 161    \n",
       "HALLMARK_INFLAMMATORY_RESPONSE   HALLMARK_INFLAMMATORY_RESPONSE   145    \n",
       "HALLMARK_IL2_STAT5_SIGNALING     HALLMARK_IL2_STAT5_SIGNALING     168    \n",
       "HALLMARK_MYC_TARGETS_V1          HALLMARK_MYC_TARGETS_V1          200    \n",
       "HALLMARK_MYC_TARGETS_V2          HALLMARK_MYC_TARGETS_V2           58    \n",
       "                                 enrichmentScore NES       pvalue      \n",
       "HALLMARK_HYPOXIA                 -0.6723173      -2.071238 7.860157e-07\n",
       "HALLMARK_TNFA_SIGNALING_VIA_NFKB -0.6585128      -2.032523 6.389183e-07\n",
       "HALLMARK_INFLAMMATORY_RESPONSE   -0.6196267      -1.882396 4.174109e-05\n",
       "HALLMARK_IL2_STAT5_SIGNALING     -0.5677188      -1.765815 2.955582e-04\n",
       "HALLMARK_MYC_TARGETS_V1           0.5509980       1.712719 5.905953e-04\n",
       "HALLMARK_MYC_TARGETS_V2           0.6826871       1.772445 3.387763e-03\n",
       "                                 p.adjust     qvalue       rank\n",
       "HALLMARK_HYPOXIA                 1.847137e-05 1.447924e-05 1827\n",
       "HALLMARK_TNFA_SIGNALING_VIA_NFKB 1.847137e-05 1.447924e-05 1533\n",
       "HALLMARK_INFLAMMATORY_RESPONSE   6.539437e-04 5.126098e-04 1376\n",
       "HALLMARK_IL2_STAT5_SIGNALING     3.472809e-03 2.722247e-03 1405\n",
       "HALLMARK_MYC_TARGETS_V1          5.551596e-03 4.351755e-03 3365\n",
       "HALLMARK_MYC_TARGETS_V2          2.653748e-02 2.080206e-02 3260\n",
       "                                 leading_edge                  \n",
       "HALLMARK_HYPOXIA                 tags=36%, list=12%, signal=32%\n",
       "HALLMARK_TNFA_SIGNALING_VIA_NFKB tags=37%, list=10%, signal=34%\n",
       "HALLMARK_INFLAMMATORY_RESPONSE   tags=26%, list=9%, signal=24% \n",
       "HALLMARK_IL2_STAT5_SIGNALING     tags=24%, list=9%, signal=22% \n",
       "HALLMARK_MYC_TARGETS_V1          tags=54%, list=22%, signal=43%\n",
       "HALLMARK_MYC_TARGETS_V2          tags=76%, list=21%, signal=60%\n",
       "                                 core_enrichment                                                                                                                                                                                                                                                                                                                                                                                                                                                                                                                                                                                                                                              \n",
       "HALLMARK_HYPOXIA                 Ero1a/Slc37a4/Mif/Ddit4/P4ha1/Cdkn1b/Glrx/Ndst1/Pfkl/Ugp2/Eno3/Hk2/Slc6a6/Nagk/Tpi1/Atp7a/Ids/Klf7/Slc25a1/Ccng2/Gapdh/Pgm1/Scarb1/Prdx5/Ier3/Hmox1/Klhl24/Gys1/Tpd52/Gpi1/Myh9/Pfkp/Pgk1/Tnfaip3/Fam162a/Slc2a3/Klf6/Eno1/Ampd3/Col5a1/Nfil3/Rbpj/Ddit3/Mt1/Selenbp2/Tiparp/Btg1/Anxa2/Plaur/Mt2/Gbe1/Adora2b/Pygm/Ndrg1/S100a4                                                                                                                                                                                                                                                                                                                             \n",
       "HALLMARK_TNFA_SIGNALING_VIA_NFKB Cflar/B4galt5/Il23a/Tnip1/Tnip2/Tnfrsf9/Tgif1/Birc3/Ets2/Nampt/Ier2/Cebpd/Ehd1/Icam1/Tnfaip8/Slc2a6/Slc16a6/Tnfaip2/Sik1/Gch1/Rnf19b/Ier3/Dnajb4/Ifngr2/Gadd45a/Klf9/Litaf/Cebpb/Sqstm1/Tsc22d1/Ldlr/Tnfsf9/Mxd1/Junb/Cd44/Tnfaip3/Ninj1/Slc2a3/Klf6/Abca1/Nfil3/Dusp4/Icosl/Dusp5/Zc3h12a/Cd80/Tiparp/Trib1/Csf1/Klf10/Atp2b1/Btg1/Map3k8/Traf1/Plaur/Nfkbia/Spsb1/Egr3/Cd69/Olr1                                                                                                                                                                                                                                                                           \n",
       "HALLMARK_INFLAMMATORY_RESPONSE   Itga5/Ifnar1/Gnai3/Tnfrsf9/Nampt/Icam1/Slc7a1/Gch1/Gp1ba/P2rx7/Ifngr2/Ptgir/Ldlr/Tnfsf9/Lcp2/Mxd1/Hrh1/Nod2/Klf6/Abca1/Pik3r5/Stab1/Il2rb/Emp3/Icosl/Csf1/Atp2b1/Plaur/Nfkbia/Adora2b/Adgre1/Ccr7/Cd69/Olr1/Ptafr/C3ar1/Sell/Clec5a                                                                                                                                                                                                                                                                                                                                                                                                                          \n",
       "HALLMARK_IL2_STAT5_SIGNALING     Bcl2l1/Hk2/Myo1c/Tnfrsf9/Xbp1/Wls/Serpinb6a/Ttc39b/Cyfip1/Snx14/Lclat1/Capg/Casp3/Gpx4/Myo1e/Flt3l/Mxd1/St3gal4/Anxa4/Cd44/F2rl2/Slc2a3/Klf6/Lrrc8c/Nfil3/Il2rb/Amacr/Dhrs3/Nfkbiz/Tiam1/Plec/Csf1/Map3k8/Traf1/Snx9/Nt5e/Selp/Ndrg1/Ahnak/Spp1/Sell                                                                                                                                                                                                                                                                                                                                                                                                         \n",
       "HALLMARK_MYC_TARGETS_V1          Apex1/Nhp2/Hspe1/Rrp9/Gnl3/Rad23b/Set/Ncbp1/Tardbp/Eif2s2/Nme1/Phb/Hspd1/Ctps/Prpf31/Rps3/Tufm/Pabpc4/Ddx21/Ddx18/Psmc6/Nop56/Eif4g2/Mcm6/Cad/Pa2g4/Pole3/Eif3j2/Ube2e1/Ndufab1/Exosc7/Rps6/Sf3a1/Lsm7/Ccna2/Orc2/Psma1/Prdx3/Psmb3/Psmd3/Mcm2/Nap1l1/Srsf2/Syncrip/Hnrnpr/Serbp1/Eef1b2/Kpnb1/Psma7/Hnrnpc/Fbl/Xpo1/Kars/Mrps18b/Nolc1/Xrcc6/Tyms/Srsf7/Psma6/Srm/Srpk1/Npm1/C1qbp/Eif4a1/Acp1/Nop16/Pwp1/Aimp2/Clns1a/Hnrnpu/G3bp1/Rpl22/Ranbp1/Cdc20/U2af1/Pold2/Psmc4/Usp1/Erh/Snrpa1/Cops5/Psma4/Cct3/Txnl4a/Eif3b/Psmd14/Prps2/Bub3/Mcm4/Ran/Rps10/Dhx15/Rrm1/Eif2s1/Glo1/Ppia/Srsf1/Cnbp/Ncbp2/Trim28/Eif3j1/Snrpg/Mcm5/Sf3b3/Stard7/Psmd7/Kpna2/Tra2b\n",
       "HALLMARK_MYC_TARGETS_V2          Dctpp1/Ndufaf4/Nop2/Rrp12/Hspe1/Rrp9/Gnl3/Utp20/Ipo4/Ung/Phb/Hspd1/Grwd1/Ddx18/Mybbp1a/Nop56/Plk1/Bysl/Pa2g4/Imp4/Dusp2/Ppan/Sord/Rcl1/Mrto4/Nolc1/Tmem97/Nip7/Noc4l/Srm/Prmt3/Npm1/Nop16/Aimp2/Slc29a2/Wdr74/Pprc1/Mphosph10/Mcm4/Pus1/Slc19a1/Las1l/Mcm5/Exosc5                                                                                                                                                                                                                                                                                                                                                                                            "
      ]
     },
     "metadata": {},
     "output_type": "display_data"
    }
   ],
   "source": [
    "# We can access the results from our `gsea_results` object using `@result`\n",
    "head(gsea_results@result)"
   ]
  },
  {
   "cell_type": "code",
   "execution_count": 37,
   "metadata": {},
   "outputs": [],
   "source": [
    "gsea_result_df <- data.frame(gsea_results@result)"
   ]
  },
  {
   "cell_type": "markdown",
   "metadata": {},
   "source": [
    "## 4.7 Visualizing results\n",
    "We can visualize GSEA results for individual pathways or gene sets using `enrichplot::gseaplot()`. Let’s take a look at 2 different pathways – one with a highly positive NES and one with a highly negative NES – to get more insight into how ES are calculated.\n",
    "\n",
    "### 4.7.1 Most Positive NES"
   ]
  },
  {
   "cell_type": "code",
   "execution_count": 38,
   "metadata": {},
   "outputs": [
    {
     "data": {
      "text/html": [
       "<table class=\"dataframe\">\n",
       "<caption>A data.frame: 3 × 11</caption>\n",
       "<thead>\n",
       "\t<tr><th></th><th scope=col>ID</th><th scope=col>Description</th><th scope=col>setSize</th><th scope=col>enrichmentScore</th><th scope=col>NES</th><th scope=col>pvalue</th><th scope=col>p.adjust</th><th scope=col>qvalue</th><th scope=col>rank</th><th scope=col>leading_edge</th><th scope=col>core_enrichment</th></tr>\n",
       "\t<tr><th></th><th scope=col>&lt;chr&gt;</th><th scope=col>&lt;chr&gt;</th><th scope=col>&lt;int&gt;</th><th scope=col>&lt;dbl&gt;</th><th scope=col>&lt;dbl&gt;</th><th scope=col>&lt;dbl&gt;</th><th scope=col>&lt;dbl&gt;</th><th scope=col>&lt;dbl&gt;</th><th scope=col>&lt;dbl&gt;</th><th scope=col>&lt;chr&gt;</th><th scope=col>&lt;chr&gt;</th></tr>\n",
       "</thead>\n",
       "<tbody>\n",
       "\t<tr><th scope=row>HALLMARK_MYC_TARGETS_V2</th><td>HALLMARK_MYC_TARGETS_V2     </td><td>HALLMARK_MYC_TARGETS_V2     </td><td> 58</td><td> 0.6826871</td><td> 1.772445</td><td>0.0033877634</td><td>0.026537480</td><td>0.020802056</td><td>3260</td><td>tags=76%, list=21%, signal=60%</td><td>Dctpp1/Ndufaf4/Nop2/Rrp12/Hspe1/Rrp9/Gnl3/Utp20/Ipo4/Ung/Phb/Hspd1/Grwd1/Ddx18/Mybbp1a/Nop56/Plk1/Bysl/Pa2g4/Imp4/Dusp2/Ppan/Sord/Rcl1/Mrto4/Nolc1/Tmem97/Nip7/Noc4l/Srm/Prmt3/Npm1/Nop16/Aimp2/Slc29a2/Wdr74/Pprc1/Mphosph10/Mcm4/Pus1/Slc19a1/Las1l/Mcm5/Exosc5                                                                                                                                                                                                                                                                                                                                                                                            </td></tr>\n",
       "\t<tr><th scope=row>HALLMARK_MYC_TARGETS_V1</th><td>HALLMARK_MYC_TARGETS_V1     </td><td>HALLMARK_MYC_TARGETS_V1     </td><td>200</td><td> 0.5509980</td><td> 1.712719</td><td>0.0005905953</td><td>0.005551596</td><td>0.004351755</td><td>3365</td><td>tags=54%, list=22%, signal=43%</td><td>Apex1/Nhp2/Hspe1/Rrp9/Gnl3/Rad23b/Set/Ncbp1/Tardbp/Eif2s2/Nme1/Phb/Hspd1/Ctps/Prpf31/Rps3/Tufm/Pabpc4/Ddx21/Ddx18/Psmc6/Nop56/Eif4g2/Mcm6/Cad/Pa2g4/Pole3/Eif3j2/Ube2e1/Ndufab1/Exosc7/Rps6/Sf3a1/Lsm7/Ccna2/Orc2/Psma1/Prdx3/Psmb3/Psmd3/Mcm2/Nap1l1/Srsf2/Syncrip/Hnrnpr/Serbp1/Eef1b2/Kpnb1/Psma7/Hnrnpc/Fbl/Xpo1/Kars/Mrps18b/Nolc1/Xrcc6/Tyms/Srsf7/Psma6/Srm/Srpk1/Npm1/C1qbp/Eif4a1/Acp1/Nop16/Pwp1/Aimp2/Clns1a/Hnrnpu/G3bp1/Rpl22/Ranbp1/Cdc20/U2af1/Pold2/Psmc4/Usp1/Erh/Snrpa1/Cops5/Psma4/Cct3/Txnl4a/Eif3b/Psmd14/Prps2/Bub3/Mcm4/Ran/Rps10/Dhx15/Rrm1/Eif2s1/Glo1/Ppia/Srsf1/Cnbp/Ncbp2/Trim28/Eif3j1/Snrpg/Mcm5/Sf3b3/Stard7/Psmd7/Kpna2/Tra2b</td></tr>\n",
       "\t<tr><th scope=row>HALLMARK_IL2_STAT5_SIGNALING</th><td>HALLMARK_IL2_STAT5_SIGNALING</td><td>HALLMARK_IL2_STAT5_SIGNALING</td><td>168</td><td>-0.5677188</td><td>-1.765815</td><td>0.0002955582</td><td>0.003472809</td><td>0.002722247</td><td>1405</td><td>tags=24%, list=9%, signal=22% </td><td>Bcl2l1/Hk2/Myo1c/Tnfrsf9/Xbp1/Wls/Serpinb6a/Ttc39b/Cyfip1/Snx14/Lclat1/Capg/Casp3/Gpx4/Myo1e/Flt3l/Mxd1/St3gal4/Anxa4/Cd44/F2rl2/Slc2a3/Klf6/Lrrc8c/Nfil3/Il2rb/Amacr/Dhrs3/Nfkbiz/Tiam1/Plec/Csf1/Map3k8/Traf1/Snx9/Nt5e/Selp/Ndrg1/Ahnak/Spp1/Sell                                                                                                                                                                                                                                                                                                                                                                                                         </td></tr>\n",
       "</tbody>\n",
       "</table>\n"
      ],
      "text/latex": [
       "A data.frame: 3 × 11\n",
       "\\begin{tabular}{r|lllllllllll}\n",
       "  & ID & Description & setSize & enrichmentScore & NES & pvalue & p.adjust & qvalue & rank & leading\\_edge & core\\_enrichment\\\\\n",
       "  & <chr> & <chr> & <int> & <dbl> & <dbl> & <dbl> & <dbl> & <dbl> & <dbl> & <chr> & <chr>\\\\\n",
       "\\hline\n",
       "\tHALLMARK\\_MYC\\_TARGETS\\_V2 & HALLMARK\\_MYC\\_TARGETS\\_V2      & HALLMARK\\_MYC\\_TARGETS\\_V2      &  58 &  0.6826871 &  1.772445 & 0.0033877634 & 0.026537480 & 0.020802056 & 3260 & tags=76\\%, list=21\\%, signal=60\\% & Dctpp1/Ndufaf4/Nop2/Rrp12/Hspe1/Rrp9/Gnl3/Utp20/Ipo4/Ung/Phb/Hspd1/Grwd1/Ddx18/Mybbp1a/Nop56/Plk1/Bysl/Pa2g4/Imp4/Dusp2/Ppan/Sord/Rcl1/Mrto4/Nolc1/Tmem97/Nip7/Noc4l/Srm/Prmt3/Npm1/Nop16/Aimp2/Slc29a2/Wdr74/Pprc1/Mphosph10/Mcm4/Pus1/Slc19a1/Las1l/Mcm5/Exosc5                                                                                                                                                                                                                                                                                                                                                                                            \\\\\n",
       "\tHALLMARK\\_MYC\\_TARGETS\\_V1 & HALLMARK\\_MYC\\_TARGETS\\_V1      & HALLMARK\\_MYC\\_TARGETS\\_V1      & 200 &  0.5509980 &  1.712719 & 0.0005905953 & 0.005551596 & 0.004351755 & 3365 & tags=54\\%, list=22\\%, signal=43\\% & Apex1/Nhp2/Hspe1/Rrp9/Gnl3/Rad23b/Set/Ncbp1/Tardbp/Eif2s2/Nme1/Phb/Hspd1/Ctps/Prpf31/Rps3/Tufm/Pabpc4/Ddx21/Ddx18/Psmc6/Nop56/Eif4g2/Mcm6/Cad/Pa2g4/Pole3/Eif3j2/Ube2e1/Ndufab1/Exosc7/Rps6/Sf3a1/Lsm7/Ccna2/Orc2/Psma1/Prdx3/Psmb3/Psmd3/Mcm2/Nap1l1/Srsf2/Syncrip/Hnrnpr/Serbp1/Eef1b2/Kpnb1/Psma7/Hnrnpc/Fbl/Xpo1/Kars/Mrps18b/Nolc1/Xrcc6/Tyms/Srsf7/Psma6/Srm/Srpk1/Npm1/C1qbp/Eif4a1/Acp1/Nop16/Pwp1/Aimp2/Clns1a/Hnrnpu/G3bp1/Rpl22/Ranbp1/Cdc20/U2af1/Pold2/Psmc4/Usp1/Erh/Snrpa1/Cops5/Psma4/Cct3/Txnl4a/Eif3b/Psmd14/Prps2/Bub3/Mcm4/Ran/Rps10/Dhx15/Rrm1/Eif2s1/Glo1/Ppia/Srsf1/Cnbp/Ncbp2/Trim28/Eif3j1/Snrpg/Mcm5/Sf3b3/Stard7/Psmd7/Kpna2/Tra2b\\\\\n",
       "\tHALLMARK\\_IL2\\_STAT5\\_SIGNALING & HALLMARK\\_IL2\\_STAT5\\_SIGNALING & HALLMARK\\_IL2\\_STAT5\\_SIGNALING & 168 & -0.5677188 & -1.765815 & 0.0002955582 & 0.003472809 & 0.002722247 & 1405 & tags=24\\%, list=9\\%, signal=22\\%  & Bcl2l1/Hk2/Myo1c/Tnfrsf9/Xbp1/Wls/Serpinb6a/Ttc39b/Cyfip1/Snx14/Lclat1/Capg/Casp3/Gpx4/Myo1e/Flt3l/Mxd1/St3gal4/Anxa4/Cd44/F2rl2/Slc2a3/Klf6/Lrrc8c/Nfil3/Il2rb/Amacr/Dhrs3/Nfkbiz/Tiam1/Plec/Csf1/Map3k8/Traf1/Snx9/Nt5e/Selp/Ndrg1/Ahnak/Spp1/Sell                                                                                                                                                                                                                                                                                                                                                                                                         \\\\\n",
       "\\end{tabular}\n"
      ],
      "text/markdown": [
       "\n",
       "A data.frame: 3 × 11\n",
       "\n",
       "| <!--/--> | ID &lt;chr&gt; | Description &lt;chr&gt; | setSize &lt;int&gt; | enrichmentScore &lt;dbl&gt; | NES &lt;dbl&gt; | pvalue &lt;dbl&gt; | p.adjust &lt;dbl&gt; | qvalue &lt;dbl&gt; | rank &lt;dbl&gt; | leading_edge &lt;chr&gt; | core_enrichment &lt;chr&gt; |\n",
       "|---|---|---|---|---|---|---|---|---|---|---|---|\n",
       "| HALLMARK_MYC_TARGETS_V2 | HALLMARK_MYC_TARGETS_V2      | HALLMARK_MYC_TARGETS_V2      |  58 |  0.6826871 |  1.772445 | 0.0033877634 | 0.026537480 | 0.020802056 | 3260 | tags=76%, list=21%, signal=60% | Dctpp1/Ndufaf4/Nop2/Rrp12/Hspe1/Rrp9/Gnl3/Utp20/Ipo4/Ung/Phb/Hspd1/Grwd1/Ddx18/Mybbp1a/Nop56/Plk1/Bysl/Pa2g4/Imp4/Dusp2/Ppan/Sord/Rcl1/Mrto4/Nolc1/Tmem97/Nip7/Noc4l/Srm/Prmt3/Npm1/Nop16/Aimp2/Slc29a2/Wdr74/Pprc1/Mphosph10/Mcm4/Pus1/Slc19a1/Las1l/Mcm5/Exosc5                                                                                                                                                                                                                                                                                                                                                                                             |\n",
       "| HALLMARK_MYC_TARGETS_V1 | HALLMARK_MYC_TARGETS_V1      | HALLMARK_MYC_TARGETS_V1      | 200 |  0.5509980 |  1.712719 | 0.0005905953 | 0.005551596 | 0.004351755 | 3365 | tags=54%, list=22%, signal=43% | Apex1/Nhp2/Hspe1/Rrp9/Gnl3/Rad23b/Set/Ncbp1/Tardbp/Eif2s2/Nme1/Phb/Hspd1/Ctps/Prpf31/Rps3/Tufm/Pabpc4/Ddx21/Ddx18/Psmc6/Nop56/Eif4g2/Mcm6/Cad/Pa2g4/Pole3/Eif3j2/Ube2e1/Ndufab1/Exosc7/Rps6/Sf3a1/Lsm7/Ccna2/Orc2/Psma1/Prdx3/Psmb3/Psmd3/Mcm2/Nap1l1/Srsf2/Syncrip/Hnrnpr/Serbp1/Eef1b2/Kpnb1/Psma7/Hnrnpc/Fbl/Xpo1/Kars/Mrps18b/Nolc1/Xrcc6/Tyms/Srsf7/Psma6/Srm/Srpk1/Npm1/C1qbp/Eif4a1/Acp1/Nop16/Pwp1/Aimp2/Clns1a/Hnrnpu/G3bp1/Rpl22/Ranbp1/Cdc20/U2af1/Pold2/Psmc4/Usp1/Erh/Snrpa1/Cops5/Psma4/Cct3/Txnl4a/Eif3b/Psmd14/Prps2/Bub3/Mcm4/Ran/Rps10/Dhx15/Rrm1/Eif2s1/Glo1/Ppia/Srsf1/Cnbp/Ncbp2/Trim28/Eif3j1/Snrpg/Mcm5/Sf3b3/Stard7/Psmd7/Kpna2/Tra2b |\n",
       "| HALLMARK_IL2_STAT5_SIGNALING | HALLMARK_IL2_STAT5_SIGNALING | HALLMARK_IL2_STAT5_SIGNALING | 168 | -0.5677188 | -1.765815 | 0.0002955582 | 0.003472809 | 0.002722247 | 1405 | tags=24%, list=9%, signal=22%  | Bcl2l1/Hk2/Myo1c/Tnfrsf9/Xbp1/Wls/Serpinb6a/Ttc39b/Cyfip1/Snx14/Lclat1/Capg/Casp3/Gpx4/Myo1e/Flt3l/Mxd1/St3gal4/Anxa4/Cd44/F2rl2/Slc2a3/Klf6/Lrrc8c/Nfil3/Il2rb/Amacr/Dhrs3/Nfkbiz/Tiam1/Plec/Csf1/Map3k8/Traf1/Snx9/Nt5e/Selp/Ndrg1/Ahnak/Spp1/Sell                                                                                                                                                                                                                                                                                                                                                                                                          |\n",
       "\n"
      ],
      "text/plain": [
       "                             ID                          \n",
       "HALLMARK_MYC_TARGETS_V2      HALLMARK_MYC_TARGETS_V2     \n",
       "HALLMARK_MYC_TARGETS_V1      HALLMARK_MYC_TARGETS_V1     \n",
       "HALLMARK_IL2_STAT5_SIGNALING HALLMARK_IL2_STAT5_SIGNALING\n",
       "                             Description                  setSize\n",
       "HALLMARK_MYC_TARGETS_V2      HALLMARK_MYC_TARGETS_V2       58    \n",
       "HALLMARK_MYC_TARGETS_V1      HALLMARK_MYC_TARGETS_V1      200    \n",
       "HALLMARK_IL2_STAT5_SIGNALING HALLMARK_IL2_STAT5_SIGNALING 168    \n",
       "                             enrichmentScore NES       pvalue       p.adjust   \n",
       "HALLMARK_MYC_TARGETS_V2       0.6826871       1.772445 0.0033877634 0.026537480\n",
       "HALLMARK_MYC_TARGETS_V1       0.5509980       1.712719 0.0005905953 0.005551596\n",
       "HALLMARK_IL2_STAT5_SIGNALING -0.5677188      -1.765815 0.0002955582 0.003472809\n",
       "                             qvalue      rank leading_edge                  \n",
       "HALLMARK_MYC_TARGETS_V2      0.020802056 3260 tags=76%, list=21%, signal=60%\n",
       "HALLMARK_MYC_TARGETS_V1      0.004351755 3365 tags=54%, list=22%, signal=43%\n",
       "HALLMARK_IL2_STAT5_SIGNALING 0.002722247 1405 tags=24%, list=9%, signal=22% \n",
       "                             core_enrichment                                                                                                                                                                                                                                                                                                                                                                                                                                                                                                                                                                                                                                              \n",
       "HALLMARK_MYC_TARGETS_V2      Dctpp1/Ndufaf4/Nop2/Rrp12/Hspe1/Rrp9/Gnl3/Utp20/Ipo4/Ung/Phb/Hspd1/Grwd1/Ddx18/Mybbp1a/Nop56/Plk1/Bysl/Pa2g4/Imp4/Dusp2/Ppan/Sord/Rcl1/Mrto4/Nolc1/Tmem97/Nip7/Noc4l/Srm/Prmt3/Npm1/Nop16/Aimp2/Slc29a2/Wdr74/Pprc1/Mphosph10/Mcm4/Pus1/Slc19a1/Las1l/Mcm5/Exosc5                                                                                                                                                                                                                                                                                                                                                                                            \n",
       "HALLMARK_MYC_TARGETS_V1      Apex1/Nhp2/Hspe1/Rrp9/Gnl3/Rad23b/Set/Ncbp1/Tardbp/Eif2s2/Nme1/Phb/Hspd1/Ctps/Prpf31/Rps3/Tufm/Pabpc4/Ddx21/Ddx18/Psmc6/Nop56/Eif4g2/Mcm6/Cad/Pa2g4/Pole3/Eif3j2/Ube2e1/Ndufab1/Exosc7/Rps6/Sf3a1/Lsm7/Ccna2/Orc2/Psma1/Prdx3/Psmb3/Psmd3/Mcm2/Nap1l1/Srsf2/Syncrip/Hnrnpr/Serbp1/Eef1b2/Kpnb1/Psma7/Hnrnpc/Fbl/Xpo1/Kars/Mrps18b/Nolc1/Xrcc6/Tyms/Srsf7/Psma6/Srm/Srpk1/Npm1/C1qbp/Eif4a1/Acp1/Nop16/Pwp1/Aimp2/Clns1a/Hnrnpu/G3bp1/Rpl22/Ranbp1/Cdc20/U2af1/Pold2/Psmc4/Usp1/Erh/Snrpa1/Cops5/Psma4/Cct3/Txnl4a/Eif3b/Psmd14/Prps2/Bub3/Mcm4/Ran/Rps10/Dhx15/Rrm1/Eif2s1/Glo1/Ppia/Srsf1/Cnbp/Ncbp2/Trim28/Eif3j1/Snrpg/Mcm5/Sf3b3/Stard7/Psmd7/Kpna2/Tra2b\n",
       "HALLMARK_IL2_STAT5_SIGNALING Bcl2l1/Hk2/Myo1c/Tnfrsf9/Xbp1/Wls/Serpinb6a/Ttc39b/Cyfip1/Snx14/Lclat1/Capg/Casp3/Gpx4/Myo1e/Flt3l/Mxd1/St3gal4/Anxa4/Cd44/F2rl2/Slc2a3/Klf6/Lrrc8c/Nfil3/Il2rb/Amacr/Dhrs3/Nfkbiz/Tiam1/Plec/Csf1/Map3k8/Traf1/Snx9/Nt5e/Selp/Ndrg1/Ahnak/Spp1/Sell                                                                                                                                                                                                                                                                                                                                                                                                         "
      ]
     },
     "metadata": {},
     "output_type": "display_data"
    }
   ],
   "source": [
    "gsea_result_df %>%\n",
    "  # This returns the 3 rows with the largest NES values\n",
    "  dplyr::slice_max(NES, n = 3)"
   ]
  },
  {
   "cell_type": "code",
   "execution_count": 39,
   "metadata": {},
   "outputs": [
    {
     "data": {
      "image/png": "[encoded data removed]",
      "text/plain": [
       "plot without title"
      ]
     },
     "metadata": {
      "image/png": {
       "height": 420,
       "width": 420
      }
     },
     "output_type": "display_data"
    }
   ],
   "source": [
    "most_positive_nes_plot <- enrichplot::gseaplot(\n",
    "  gsea_results,\n",
    "  geneSetID = \"HALLMARK_MYC_TARGETS_V2\",\n",
    "  title = \"HALLMARK_MYC_TARGETS_V2\",\n",
    "  color.line = \"#0d76ff\"\n",
    ")\n",
    "most_positive_nes_plot"
   ]
  },
  {
   "cell_type": "code",
   "execution_count": 40,
   "metadata": {},
   "outputs": [
    {
     "name": "stderr",
     "output_type": "stream",
     "text": [
      "Saving 7 x 7 in image\n",
      "\n"
     ]
    }
   ],
   "source": [
    "ggplot2::ggsave(file.path(plots_dir, \"SRP123625_gsea_enrich_positive_plot.png\"),\n",
    "  plot = most_positive_nes_plot\n",
    ")"
   ]
  },
  {
   "cell_type": "markdown",
   "metadata": {},
   "source": [
    "### 4.7.2 Most Negative NES"
   ]
  },
  {
   "cell_type": "code",
   "execution_count": 41,
   "metadata": {},
   "outputs": [
    {
     "data": {
      "text/html": [
       "<table class=\"dataframe\">\n",
       "<caption>A data.frame: 3 × 11</caption>\n",
       "<thead>\n",
       "\t<tr><th></th><th scope=col>ID</th><th scope=col>Description</th><th scope=col>setSize</th><th scope=col>enrichmentScore</th><th scope=col>NES</th><th scope=col>pvalue</th><th scope=col>p.adjust</th><th scope=col>qvalue</th><th scope=col>rank</th><th scope=col>leading_edge</th><th scope=col>core_enrichment</th></tr>\n",
       "\t<tr><th></th><th scope=col>&lt;chr&gt;</th><th scope=col>&lt;chr&gt;</th><th scope=col>&lt;int&gt;</th><th scope=col>&lt;dbl&gt;</th><th scope=col>&lt;dbl&gt;</th><th scope=col>&lt;dbl&gt;</th><th scope=col>&lt;dbl&gt;</th><th scope=col>&lt;dbl&gt;</th><th scope=col>&lt;dbl&gt;</th><th scope=col>&lt;chr&gt;</th><th scope=col>&lt;chr&gt;</th></tr>\n",
       "</thead>\n",
       "<tbody>\n",
       "\t<tr><th scope=row>HALLMARK_HYPOXIA</th><td>HALLMARK_HYPOXIA                </td><td>HALLMARK_HYPOXIA                </td><td>154</td><td>-0.6723173</td><td>-2.071238</td><td>7.860157e-07</td><td>1.847137e-05</td><td>1.447924e-05</td><td>1827</td><td>tags=36%, list=12%, signal=32%</td><td>Ero1a/Slc37a4/Mif/Ddit4/P4ha1/Cdkn1b/Glrx/Ndst1/Pfkl/Ugp2/Eno3/Hk2/Slc6a6/Nagk/Tpi1/Atp7a/Ids/Klf7/Slc25a1/Ccng2/Gapdh/Pgm1/Scarb1/Prdx5/Ier3/Hmox1/Klhl24/Gys1/Tpd52/Gpi1/Myh9/Pfkp/Pgk1/Tnfaip3/Fam162a/Slc2a3/Klf6/Eno1/Ampd3/Col5a1/Nfil3/Rbpj/Ddit3/Mt1/Selenbp2/Tiparp/Btg1/Anxa2/Plaur/Mt2/Gbe1/Adora2b/Pygm/Ndrg1/S100a4                                                  </td></tr>\n",
       "\t<tr><th scope=row>HALLMARK_TNFA_SIGNALING_VIA_NFKB</th><td>HALLMARK_TNFA_SIGNALING_VIA_NFKB</td><td>HALLMARK_TNFA_SIGNALING_VIA_NFKB</td><td>161</td><td>-0.6585128</td><td>-2.032523</td><td>6.389183e-07</td><td>1.847137e-05</td><td>1.447924e-05</td><td>1533</td><td>tags=37%, list=10%, signal=34%</td><td>Cflar/B4galt5/Il23a/Tnip1/Tnip2/Tnfrsf9/Tgif1/Birc3/Ets2/Nampt/Ier2/Cebpd/Ehd1/Icam1/Tnfaip8/Slc2a6/Slc16a6/Tnfaip2/Sik1/Gch1/Rnf19b/Ier3/Dnajb4/Ifngr2/Gadd45a/Klf9/Litaf/Cebpb/Sqstm1/Tsc22d1/Ldlr/Tnfsf9/Mxd1/Junb/Cd44/Tnfaip3/Ninj1/Slc2a3/Klf6/Abca1/Nfil3/Dusp4/Icosl/Dusp5/Zc3h12a/Cd80/Tiparp/Trib1/Csf1/Klf10/Atp2b1/Btg1/Map3k8/Traf1/Plaur/Nfkbia/Spsb1/Egr3/Cd69/Olr1</td></tr>\n",
       "\t<tr><th scope=row>HALLMARK_INFLAMMATORY_RESPONSE</th><td>HALLMARK_INFLAMMATORY_RESPONSE  </td><td>HALLMARK_INFLAMMATORY_RESPONSE  </td><td>145</td><td>-0.6196267</td><td>-1.882396</td><td>4.174109e-05</td><td>6.539437e-04</td><td>5.126098e-04</td><td>1376</td><td>tags=26%, list=9%, signal=24% </td><td>Itga5/Ifnar1/Gnai3/Tnfrsf9/Nampt/Icam1/Slc7a1/Gch1/Gp1ba/P2rx7/Ifngr2/Ptgir/Ldlr/Tnfsf9/Lcp2/Mxd1/Hrh1/Nod2/Klf6/Abca1/Pik3r5/Stab1/Il2rb/Emp3/Icosl/Csf1/Atp2b1/Plaur/Nfkbia/Adora2b/Adgre1/Ccr7/Cd69/Olr1/Ptafr/C3ar1/Sell/Clec5a                                                                                                                                               </td></tr>\n",
       "</tbody>\n",
       "</table>\n"
      ],
      "text/latex": [
       "A data.frame: 3 × 11\n",
       "\\begin{tabular}{r|lllllllllll}\n",
       "  & ID & Description & setSize & enrichmentScore & NES & pvalue & p.adjust & qvalue & rank & leading\\_edge & core\\_enrichment\\\\\n",
       "  & <chr> & <chr> & <int> & <dbl> & <dbl> & <dbl> & <dbl> & <dbl> & <dbl> & <chr> & <chr>\\\\\n",
       "\\hline\n",
       "\tHALLMARK\\_HYPOXIA & HALLMARK\\_HYPOXIA                 & HALLMARK\\_HYPOXIA                 & 154 & -0.6723173 & -2.071238 & 7.860157e-07 & 1.847137e-05 & 1.447924e-05 & 1827 & tags=36\\%, list=12\\%, signal=32\\% & Ero1a/Slc37a4/Mif/Ddit4/P4ha1/Cdkn1b/Glrx/Ndst1/Pfkl/Ugp2/Eno3/Hk2/Slc6a6/Nagk/Tpi1/Atp7a/Ids/Klf7/Slc25a1/Ccng2/Gapdh/Pgm1/Scarb1/Prdx5/Ier3/Hmox1/Klhl24/Gys1/Tpd52/Gpi1/Myh9/Pfkp/Pgk1/Tnfaip3/Fam162a/Slc2a3/Klf6/Eno1/Ampd3/Col5a1/Nfil3/Rbpj/Ddit3/Mt1/Selenbp2/Tiparp/Btg1/Anxa2/Plaur/Mt2/Gbe1/Adora2b/Pygm/Ndrg1/S100a4                                                  \\\\\n",
       "\tHALLMARK\\_TNFA\\_SIGNALING\\_VIA\\_NFKB & HALLMARK\\_TNFA\\_SIGNALING\\_VIA\\_NFKB & HALLMARK\\_TNFA\\_SIGNALING\\_VIA\\_NFKB & 161 & -0.6585128 & -2.032523 & 6.389183e-07 & 1.847137e-05 & 1.447924e-05 & 1533 & tags=37\\%, list=10\\%, signal=34\\% & Cflar/B4galt5/Il23a/Tnip1/Tnip2/Tnfrsf9/Tgif1/Birc3/Ets2/Nampt/Ier2/Cebpd/Ehd1/Icam1/Tnfaip8/Slc2a6/Slc16a6/Tnfaip2/Sik1/Gch1/Rnf19b/Ier3/Dnajb4/Ifngr2/Gadd45a/Klf9/Litaf/Cebpb/Sqstm1/Tsc22d1/Ldlr/Tnfsf9/Mxd1/Junb/Cd44/Tnfaip3/Ninj1/Slc2a3/Klf6/Abca1/Nfil3/Dusp4/Icosl/Dusp5/Zc3h12a/Cd80/Tiparp/Trib1/Csf1/Klf10/Atp2b1/Btg1/Map3k8/Traf1/Plaur/Nfkbia/Spsb1/Egr3/Cd69/Olr1\\\\\n",
       "\tHALLMARK\\_INFLAMMATORY\\_RESPONSE & HALLMARK\\_INFLAMMATORY\\_RESPONSE   & HALLMARK\\_INFLAMMATORY\\_RESPONSE   & 145 & -0.6196267 & -1.882396 & 4.174109e-05 & 6.539437e-04 & 5.126098e-04 & 1376 & tags=26\\%, list=9\\%, signal=24\\%  & Itga5/Ifnar1/Gnai3/Tnfrsf9/Nampt/Icam1/Slc7a1/Gch1/Gp1ba/P2rx7/Ifngr2/Ptgir/Ldlr/Tnfsf9/Lcp2/Mxd1/Hrh1/Nod2/Klf6/Abca1/Pik3r5/Stab1/Il2rb/Emp3/Icosl/Csf1/Atp2b1/Plaur/Nfkbia/Adora2b/Adgre1/Ccr7/Cd69/Olr1/Ptafr/C3ar1/Sell/Clec5a                                                                                                                                               \\\\\n",
       "\\end{tabular}\n"
      ],
      "text/markdown": [
       "\n",
       "A data.frame: 3 × 11\n",
       "\n",
       "| <!--/--> | ID &lt;chr&gt; | Description &lt;chr&gt; | setSize &lt;int&gt; | enrichmentScore &lt;dbl&gt; | NES &lt;dbl&gt; | pvalue &lt;dbl&gt; | p.adjust &lt;dbl&gt; | qvalue &lt;dbl&gt; | rank &lt;dbl&gt; | leading_edge &lt;chr&gt; | core_enrichment &lt;chr&gt; |\n",
       "|---|---|---|---|---|---|---|---|---|---|---|---|\n",
       "| HALLMARK_HYPOXIA | HALLMARK_HYPOXIA                 | HALLMARK_HYPOXIA                 | 154 | -0.6723173 | -2.071238 | 7.860157e-07 | 1.847137e-05 | 1.447924e-05 | 1827 | tags=36%, list=12%, signal=32% | Ero1a/Slc37a4/Mif/Ddit4/P4ha1/Cdkn1b/Glrx/Ndst1/Pfkl/Ugp2/Eno3/Hk2/Slc6a6/Nagk/Tpi1/Atp7a/Ids/Klf7/Slc25a1/Ccng2/Gapdh/Pgm1/Scarb1/Prdx5/Ier3/Hmox1/Klhl24/Gys1/Tpd52/Gpi1/Myh9/Pfkp/Pgk1/Tnfaip3/Fam162a/Slc2a3/Klf6/Eno1/Ampd3/Col5a1/Nfil3/Rbpj/Ddit3/Mt1/Selenbp2/Tiparp/Btg1/Anxa2/Plaur/Mt2/Gbe1/Adora2b/Pygm/Ndrg1/S100a4                                                   |\n",
       "| HALLMARK_TNFA_SIGNALING_VIA_NFKB | HALLMARK_TNFA_SIGNALING_VIA_NFKB | HALLMARK_TNFA_SIGNALING_VIA_NFKB | 161 | -0.6585128 | -2.032523 | 6.389183e-07 | 1.847137e-05 | 1.447924e-05 | 1533 | tags=37%, list=10%, signal=34% | Cflar/B4galt5/Il23a/Tnip1/Tnip2/Tnfrsf9/Tgif1/Birc3/Ets2/Nampt/Ier2/Cebpd/Ehd1/Icam1/Tnfaip8/Slc2a6/Slc16a6/Tnfaip2/Sik1/Gch1/Rnf19b/Ier3/Dnajb4/Ifngr2/Gadd45a/Klf9/Litaf/Cebpb/Sqstm1/Tsc22d1/Ldlr/Tnfsf9/Mxd1/Junb/Cd44/Tnfaip3/Ninj1/Slc2a3/Klf6/Abca1/Nfil3/Dusp4/Icosl/Dusp5/Zc3h12a/Cd80/Tiparp/Trib1/Csf1/Klf10/Atp2b1/Btg1/Map3k8/Traf1/Plaur/Nfkbia/Spsb1/Egr3/Cd69/Olr1 |\n",
       "| HALLMARK_INFLAMMATORY_RESPONSE | HALLMARK_INFLAMMATORY_RESPONSE   | HALLMARK_INFLAMMATORY_RESPONSE   | 145 | -0.6196267 | -1.882396 | 4.174109e-05 | 6.539437e-04 | 5.126098e-04 | 1376 | tags=26%, list=9%, signal=24%  | Itga5/Ifnar1/Gnai3/Tnfrsf9/Nampt/Icam1/Slc7a1/Gch1/Gp1ba/P2rx7/Ifngr2/Ptgir/Ldlr/Tnfsf9/Lcp2/Mxd1/Hrh1/Nod2/Klf6/Abca1/Pik3r5/Stab1/Il2rb/Emp3/Icosl/Csf1/Atp2b1/Plaur/Nfkbia/Adora2b/Adgre1/Ccr7/Cd69/Olr1/Ptafr/C3ar1/Sell/Clec5a                                                                                                                                                |\n",
       "\n"
      ],
      "text/plain": [
       "                                 ID                              \n",
       "HALLMARK_HYPOXIA                 HALLMARK_HYPOXIA                \n",
       "HALLMARK_TNFA_SIGNALING_VIA_NFKB HALLMARK_TNFA_SIGNALING_VIA_NFKB\n",
       "HALLMARK_INFLAMMATORY_RESPONSE   HALLMARK_INFLAMMATORY_RESPONSE  \n",
       "                                 Description                      setSize\n",
       "HALLMARK_HYPOXIA                 HALLMARK_HYPOXIA                 154    \n",
       "HALLMARK_TNFA_SIGNALING_VIA_NFKB HALLMARK_TNFA_SIGNALING_VIA_NFKB 161    \n",
       "HALLMARK_INFLAMMATORY_RESPONSE   HALLMARK_INFLAMMATORY_RESPONSE   145    \n",
       "                                 enrichmentScore NES       pvalue      \n",
       "HALLMARK_HYPOXIA                 -0.6723173      -2.071238 7.860157e-07\n",
       "HALLMARK_TNFA_SIGNALING_VIA_NFKB -0.6585128      -2.032523 6.389183e-07\n",
       "HALLMARK_INFLAMMATORY_RESPONSE   -0.6196267      -1.882396 4.174109e-05\n",
       "                                 p.adjust     qvalue       rank\n",
       "HALLMARK_HYPOXIA                 1.847137e-05 1.447924e-05 1827\n",
       "HALLMARK_TNFA_SIGNALING_VIA_NFKB 1.847137e-05 1.447924e-05 1533\n",
       "HALLMARK_INFLAMMATORY_RESPONSE   6.539437e-04 5.126098e-04 1376\n",
       "                                 leading_edge                  \n",
       "HALLMARK_HYPOXIA                 tags=36%, list=12%, signal=32%\n",
       "HALLMARK_TNFA_SIGNALING_VIA_NFKB tags=37%, list=10%, signal=34%\n",
       "HALLMARK_INFLAMMATORY_RESPONSE   tags=26%, list=9%, signal=24% \n",
       "                                 core_enrichment                                                                                                                                                                                                                                                                                                                                                                   \n",
       "HALLMARK_HYPOXIA                 Ero1a/Slc37a4/Mif/Ddit4/P4ha1/Cdkn1b/Glrx/Ndst1/Pfkl/Ugp2/Eno3/Hk2/Slc6a6/Nagk/Tpi1/Atp7a/Ids/Klf7/Slc25a1/Ccng2/Gapdh/Pgm1/Scarb1/Prdx5/Ier3/Hmox1/Klhl24/Gys1/Tpd52/Gpi1/Myh9/Pfkp/Pgk1/Tnfaip3/Fam162a/Slc2a3/Klf6/Eno1/Ampd3/Col5a1/Nfil3/Rbpj/Ddit3/Mt1/Selenbp2/Tiparp/Btg1/Anxa2/Plaur/Mt2/Gbe1/Adora2b/Pygm/Ndrg1/S100a4                                                  \n",
       "HALLMARK_TNFA_SIGNALING_VIA_NFKB Cflar/B4galt5/Il23a/Tnip1/Tnip2/Tnfrsf9/Tgif1/Birc3/Ets2/Nampt/Ier2/Cebpd/Ehd1/Icam1/Tnfaip8/Slc2a6/Slc16a6/Tnfaip2/Sik1/Gch1/Rnf19b/Ier3/Dnajb4/Ifngr2/Gadd45a/Klf9/Litaf/Cebpb/Sqstm1/Tsc22d1/Ldlr/Tnfsf9/Mxd1/Junb/Cd44/Tnfaip3/Ninj1/Slc2a3/Klf6/Abca1/Nfil3/Dusp4/Icosl/Dusp5/Zc3h12a/Cd80/Tiparp/Trib1/Csf1/Klf10/Atp2b1/Btg1/Map3k8/Traf1/Plaur/Nfkbia/Spsb1/Egr3/Cd69/Olr1\n",
       "HALLMARK_INFLAMMATORY_RESPONSE   Itga5/Ifnar1/Gnai3/Tnfrsf9/Nampt/Icam1/Slc7a1/Gch1/Gp1ba/P2rx7/Ifngr2/Ptgir/Ldlr/Tnfsf9/Lcp2/Mxd1/Hrh1/Nod2/Klf6/Abca1/Pik3r5/Stab1/Il2rb/Emp3/Icosl/Csf1/Atp2b1/Plaur/Nfkbia/Adora2b/Adgre1/Ccr7/Cd69/Olr1/Ptafr/C3ar1/Sell/Clec5a                                                                                                                                               "
      ]
     },
     "metadata": {},
     "output_type": "display_data"
    }
   ],
   "source": [
    "gsea_result_df %>%\n",
    "  # Return the 3 rows with the smallest (most negative) NES values\n",
    "  dplyr::slice_min(NES, n = 3)"
   ]
  },
  {
   "cell_type": "code",
   "execution_count": 43,
   "metadata": {},
   "outputs": [
    {
     "data": {
      "image/png": "[encoded data removed]",
      "text/plain": [
       "plot without title"
      ]
     },
     "metadata": {
      "image/png": {
       "height": 420,
       "width": 420
      }
     },
     "output_type": "display_data"
    }
   ],
   "source": [
    "most_negative_nes_plot <- enrichplot::gseaplot(\n",
    "  gsea_results,\n",
    "  geneSetID = \"HALLMARK_HYPOXIA\",\n",
    "  title = \"HALLMARK_HYPOXIA\",\n",
    "  color.line = \"#0d76ff\"\n",
    ")\n",
    "most_negative_nes_plot"
   ]
  },
  {
   "cell_type": "code",
   "execution_count": 44,
   "metadata": {},
   "outputs": [
    {
     "name": "stderr",
     "output_type": "stream",
     "text": [
      "Saving 7 x 7 in image\n",
      "\n"
     ]
    }
   ],
   "source": [
    "ggplot2::ggsave(file.path(plots_dir, \"SRP123625_gsea_enrich_negative_plot.png\"),\n",
    "  plot = most_negative_nes_plot\n",
    ")"
   ]
  },
  {
   "cell_type": "code",
   "execution_count": 45,
   "metadata": {},
   "outputs": [],
   "source": [
    "readr::write_tsv(\n",
    "  gsea_result_df,\n",
    "  file.path(\n",
    "    results_dir,\n",
    "    \"SRP123625_gsea_results.tsv\"\n",
    "  )\n",
    ")"
   ]
  },
  {
   "cell_type": "code",
   "execution_count": null,
   "metadata": {},
   "outputs": [],
   "source": []
  }
 ],
 "metadata": {
  "kernelspec": {
   "display_name": "R",
   "language": "R",
   "name": "r"
  },
  "language_info": {
   "codemirror_mode": "r",
   "file_extension": ".r",
   "mimetype": "text/x-r-source",
   "name": "R",
   "pygments_lexer": "r",
   "version": "4.2.1"
  }
 },
 "nbformat": 4,
 "nbformat_minor": 4
}
